{
 "cells": [
  {
   "cell_type": "markdown",
   "metadata": {
    "collapsed": true
   },
   "source": [
    "# IEOR 242 Assignment 06\n",
    "Baseline classification model for MDA sections of 10-K reports"
   ]
  },
  {
   "cell_type": "code",
   "execution_count": 1,
   "metadata": {
    "collapsed": false
   },
   "outputs": [],
   "source": [
    "import pandas as pd\n",
    "import numpy as np\n",
    "from sklearn import cross_validation\n",
    "from sklearn.metrics import confusion_matrix\n",
    "from sklearn.metrics import classification_report\n",
    "from sklearn.metrics import accuracy_score"
   ]
  },
  {
   "cell_type": "code",
   "execution_count": 2,
   "metadata": {
    "collapsed": false
   },
   "outputs": [],
   "source": [
    "# Path to classification file\n",
    "CLASSIFICATION_FILE = 'MDNA_auto_classification_week6.2.csv'"
   ]
  },
  {
   "cell_type": "markdown",
   "metadata": {},
   "source": [
    "## Data Loading"
   ]
  },
  {
   "cell_type": "code",
   "execution_count": 3,
   "metadata": {
    "collapsed": false
   },
   "outputs": [
    {
     "data": {
      "text/html": [
       "<div>\n",
       "<table border=\"1\" class=\"dataframe\">\n",
       "  <thead>\n",
       "    <tr style=\"text-align: right;\">\n",
       "      <th></th>\n",
       "      <th>File Name</th>\n",
       "      <th>Ticker</th>\n",
       "      <th>Year</th>\n",
       "      <th>Val1</th>\n",
       "      <th>Val2</th>\n",
       "      <th>Review</th>\n",
       "    </tr>\n",
       "  </thead>\n",
       "  <tbody>\n",
       "    <tr>\n",
       "      <th>0</th>\n",
       "      <td>1999_Q1_1000697_WATERS CORP -DE-_10-K_1999-03-31</td>\n",
       "      <td>WAT</td>\n",
       "      <td>1999</td>\n",
       "      <td>1.18534</td>\n",
       "      <td>68.470588</td>\n",
       "      <td>pos</td>\n",
       "    </tr>\n",
       "    <tr>\n",
       "      <th>1</th>\n",
       "      <td>1999_Q1_1030339_NANOGEN INC_10-K_1999-03-29</td>\n",
       "      <td>NGEN</td>\n",
       "      <td>1999</td>\n",
       "      <td>1.18534</td>\n",
       "      <td>-7.272727</td>\n",
       "      <td>neg</td>\n",
       "    </tr>\n",
       "    <tr>\n",
       "      <th>2</th>\n",
       "      <td>1999_Q1_1038133_HESKA CORP_10-K_1999-03-29</td>\n",
       "      <td>HSKA</td>\n",
       "      <td>1999</td>\n",
       "      <td>1.18534</td>\n",
       "      <td>86.486486</td>\n",
       "      <td>pos</td>\n",
       "    </tr>\n",
       "    <tr>\n",
       "      <th>3</th>\n",
       "      <td>1999_Q1_741815_HOOPER HOLMES INC_10-K_1999-03-31</td>\n",
       "      <td>HH</td>\n",
       "      <td>1999</td>\n",
       "      <td>1.18534</td>\n",
       "      <td>-26.993865</td>\n",
       "      <td>neg</td>\n",
       "    </tr>\n",
       "    <tr>\n",
       "      <th>4</th>\n",
       "      <td>1999_Q1_749647_CELSION CORP_10-K_1999-01-13</td>\n",
       "      <td>CLSN</td>\n",
       "      <td>1999</td>\n",
       "      <td>1.18534</td>\n",
       "      <td>11.538462</td>\n",
       "      <td>pos</td>\n",
       "    </tr>\n",
       "  </tbody>\n",
       "</table>\n",
       "</div>"
      ],
      "text/plain": [
       "                                          File Name Ticker  Year     Val1  \\\n",
       "0  1999_Q1_1000697_WATERS CORP -DE-_10-K_1999-03-31    WAT  1999  1.18534   \n",
       "1       1999_Q1_1030339_NANOGEN INC_10-K_1999-03-29   NGEN  1999  1.18534   \n",
       "2        1999_Q1_1038133_HESKA CORP_10-K_1999-03-29   HSKA  1999  1.18534   \n",
       "3  1999_Q1_741815_HOOPER HOLMES INC_10-K_1999-03-31     HH  1999  1.18534   \n",
       "4       1999_Q1_749647_CELSION CORP_10-K_1999-01-13   CLSN  1999  1.18534   \n",
       "\n",
       "        Val2 Review  \n",
       "0  68.470588    pos  \n",
       "1  -7.272727    neg  \n",
       "2  86.486486    pos  \n",
       "3 -26.993865    neg  \n",
       "4  11.538462    pos  "
      ]
     },
     "execution_count": 3,
     "metadata": {},
     "output_type": "execute_result"
    }
   ],
   "source": [
    "# Load file with manual classifications\n",
    "class_df = pd.read_csv(CLASSIFICATION_FILE)\n",
    "class_df.head()"
   ]
  },
  {
   "cell_type": "markdown",
   "metadata": {},
   "source": [
    "## Validation"
   ]
  },
  {
   "cell_type": "code",
   "execution_count": 4,
   "metadata": {
    "collapsed": false
   },
   "outputs": [
    {
     "name": "stdout",
     "output_type": "stream",
     "text": [
      "Number of reports: 554\n",
      "Number of positive reports: 307\n",
      "Number of negative reports: 247\n"
     ]
    }
   ],
   "source": [
    "print('Number of reports: %d' % len(class_df))\n",
    "print('Number of positive reports: %d' % len(class_df[class_df['Review'] == 'pos']))\n",
    "print('Number of negative reports: %d' % len(class_df[class_df['Review'] == 'neg']))"
   ]
  },
  {
   "cell_type": "code",
   "execution_count": 5,
   "metadata": {
    "collapsed": false
   },
   "outputs": [],
   "source": [
    "# Baseline prediction 'neg'\n",
    "y_pred = class_df.apply(lambda row: 'pos', axis=1)"
   ]
  },
  {
   "cell_type": "code",
   "execution_count": 6,
   "metadata": {
    "collapsed": false
   },
   "outputs": [
    {
     "name": "stdout",
     "output_type": "stream",
     "text": [
      "Accuracy classification score: 0.554152\n"
     ]
    }
   ],
   "source": [
    "print('Accuracy classification score: %f' % accuracy_score(class_df['Review'], y_pred))"
   ]
  },
  {
   "cell_type": "code",
   "execution_count": 7,
   "metadata": {
    "collapsed": false,
    "scrolled": true
   },
   "outputs": [
    {
     "name": "stdout",
     "output_type": "stream",
     "text": [
      "Confusion matrix:\n",
      "[[  0 247]\n",
      " [  0 307]]\n"
     ]
    }
   ],
   "source": [
    "print('Confusion matrix:')\n",
    "print(confusion_matrix(class_df['Review'], y_pred))"
   ]
  },
  {
   "cell_type": "code",
   "execution_count": 8,
   "metadata": {
    "collapsed": false
   },
   "outputs": [
    {
     "name": "stdout",
     "output_type": "stream",
     "text": [
      "Classification report:\n",
      "             precision    recall  f1-score   support\n",
      "\n",
      "        neg       0.00      0.00      0.00       247\n",
      "        pos       0.55      1.00      0.71       307\n",
      "\n",
      "avg / total       0.31      0.55      0.40       554\n",
      "\n"
     ]
    },
    {
     "name": "stderr",
     "output_type": "stream",
     "text": [
      "/home/stefan/anaconda3/lib/python3.5/site-packages/sklearn/metrics/classification.py:1074: UndefinedMetricWarning: Precision and F-score are ill-defined and being set to 0.0 in labels with no predicted samples.\n",
      "  'precision', 'predicted', average, warn_for)\n"
     ]
    }
   ],
   "source": [
    "print('Classification report:')\n",
    "print(classification_report(class_df['Review'], y_pred))"
   ]
  },
  {
   "cell_type": "code",
   "execution_count": null,
   "metadata": {
    "collapsed": true
   },
   "outputs": [],
   "source": []
  }
 ],
 "metadata": {
  "kernelspec": {
   "display_name": "Python 3",
   "language": "python",
   "name": "python3"
  },
  "language_info": {
   "codemirror_mode": {
    "name": "ipython",
    "version": 3
   },
   "file_extension": ".py",
   "mimetype": "text/x-python",
   "name": "python",
   "nbconvert_exporter": "python",
   "pygments_lexer": "ipython3",
   "version": "3.5.1"
  }
 },
 "nbformat": 4,
 "nbformat_minor": 0
}
