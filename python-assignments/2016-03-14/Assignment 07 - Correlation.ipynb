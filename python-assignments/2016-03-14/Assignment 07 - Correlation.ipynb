{
 "cells": [
  {
   "cell_type": "markdown",
   "metadata": {
    "collapsed": true
   },
   "source": [
    "# IEOR 242 Assignment 07\n",
    "Correlation between positive words and company performance"
   ]
  },
  {
   "cell_type": "code",
   "execution_count": 1,
   "metadata": {
    "collapsed": false
   },
   "outputs": [],
   "source": [
    "import pandas as pd\n",
    "import numpy as np\n",
    "from scipy.stats.stats import pearsonr\n",
    "import pickle\n",
    "import nltk\n",
    "from sklearn import linear_model\n",
    "from sklearn.cross_validation import train_test_split\n",
    "\n",
    "import matplotlib.pyplot as plt\n",
    "%matplotlib inline\n",
    "import seaborn as sns\n",
    "sns.set(style=\"whitegrid\")"
   ]
  },
  {
   "cell_type": "code",
   "execution_count": 2,
   "metadata": {
    "collapsed": true
   },
   "outputs": [],
   "source": [
    "import pymysql\n",
    "from sqlalchemy import create_engine\n",
    "\n",
    "# Connect to team database\n",
    "engine = create_engine('mysql+pymysql://<user>:<password>@<host>[:<port>]/<dbname>')"
   ]
  },
  {
   "cell_type": "code",
   "execution_count": 3,
   "metadata": {
    "collapsed": true
   },
   "outputs": [],
   "source": [
    "# Path to the Loughran McDonald dictionary\n",
    "MASTER_DICT_PATH = '../lecture/LoughranMcDonald_MasterDictionary_2014.xlsx'"
   ]
  },
  {
   "cell_type": "markdown",
   "metadata": {},
   "source": [
    "## Data Loading\n",
    "Read the dataframe with file contents and labels from a Pickle file."
   ]
  },
  {
   "cell_type": "code",
   "execution_count": 4,
   "metadata": {
    "collapsed": false
   },
   "outputs": [
    {
     "name": "stdout",
     "output_type": "stream",
     "text": [
      "Number of reports: 12504\n"
     ]
    },
    {
     "data": {
      "text/html": [
       "<div>\n",
       "<table border=\"1\" class=\"dataframe\">\n",
       "  <thead>\n",
       "    <tr style=\"text-align: right;\">\n",
       "      <th></th>\n",
       "      <th>content</th>\n",
       "      <th>OIADP</th>\n",
       "      <th>AT</th>\n",
       "      <th>CEQ</th>\n",
       "      <th>SALES</th>\n",
       "      <th>OIADP_change</th>\n",
       "      <th>AT_change</th>\n",
       "      <th>CEQ_change</th>\n",
       "      <th>SALES_change</th>\n",
       "    </tr>\n",
       "  </thead>\n",
       "  <tbody>\n",
       "    <tr>\n",
       "      <th>0</th>\n",
       "      <td>Item7.Management's Discussion and Analysis of ...</td>\n",
       "      <td>pos</td>\n",
       "      <td>neg</td>\n",
       "      <td>neg</td>\n",
       "      <td>neg</td>\n",
       "      <td>19.30809539</td>\n",
       "      <td>-5.710814</td>\n",
       "      <td>-16.88298821</td>\n",
       "      <td>-9.225092251</td>\n",
       "    </tr>\n",
       "    <tr>\n",
       "      <th>1</th>\n",
       "      <td>The following discussion and analysis provide...</td>\n",
       "      <td>neg</td>\n",
       "      <td>pos</td>\n",
       "      <td>pos</td>\n",
       "      <td>neg</td>\n",
       "      <td>-14.5187602</td>\n",
       "      <td>14.640276</td>\n",
       "      <td>11.23801315</td>\n",
       "      <td>-1.89063409</td>\n",
       "    </tr>\n",
       "    <tr>\n",
       "      <th>2</th>\n",
       "      <td>Item 7.\\nManagements Discussion and Analysis o...</td>\n",
       "      <td>neg</td>\n",
       "      <td>pos</td>\n",
       "      <td>pos</td>\n",
       "      <td>neg</td>\n",
       "      <td>-22.56208359</td>\n",
       "      <td>0.525303</td>\n",
       "      <td>2.764397345</td>\n",
       "      <td>-11.54303553</td>\n",
       "    </tr>\n",
       "    <tr>\n",
       "      <th>3</th>\n",
       "      <td>-----BEGIN PRIVACY-ENHANCED MESSAGE-----\\nProc...</td>\n",
       "      <td>neg</td>\n",
       "      <td>neg</td>\n",
       "      <td>pos</td>\n",
       "      <td>neg</td>\n",
       "      <td>-814.6341463</td>\n",
       "      <td>-56.183942</td>\n",
       "      <td>15.27777778</td>\n",
       "      <td>-65.41343833</td>\n",
       "    </tr>\n",
       "    <tr>\n",
       "      <th>4</th>\n",
       "      <td>Item 7.      Management's Discussion and Analy...</td>\n",
       "      <td>pos</td>\n",
       "      <td>neg</td>\n",
       "      <td>neg</td>\n",
       "      <td>neg</td>\n",
       "      <td>328.5234899</td>\n",
       "      <td>-1.733328</td>\n",
       "      <td>-5.815035355</td>\n",
       "      <td>-39.56639566</td>\n",
       "    </tr>\n",
       "  </tbody>\n",
       "</table>\n",
       "</div>"
      ],
      "text/plain": [
       "                                             content OIADP   AT  CEQ SALES  \\\n",
       "0  Item7.Management's Discussion and Analysis of ...   pos  neg  neg   neg   \n",
       "1   The following discussion and analysis provide...   neg  pos  pos   neg   \n",
       "2  Item 7.\\nManagements Discussion and Analysis o...   neg  pos  pos   neg   \n",
       "3  -----BEGIN PRIVACY-ENHANCED MESSAGE-----\\nProc...   neg  neg  pos   neg   \n",
       "4  Item 7.      Management's Discussion and Analy...   pos  neg  neg   neg   \n",
       "\n",
       "   OIADP_change  AT_change    CEQ_change  SALES_change  \n",
       "0   19.30809539  -5.710814  -16.88298821  -9.225092251  \n",
       "1   -14.5187602  14.640276   11.23801315   -1.89063409  \n",
       "2  -22.56208359   0.525303   2.764397345  -11.54303553  \n",
       "3  -814.6341463 -56.183942   15.27777778  -65.41343833  \n",
       "4   328.5234899  -1.733328  -5.815035355  -39.56639566  "
      ]
     },
     "execution_count": 4,
     "metadata": {},
     "output_type": "execute_result"
    }
   ],
   "source": [
    "with open('prepared_class2.pickle', 'rb') as f:\n",
    "    class_df = pickle.load(f)\n",
    "\n",
    "print('Number of reports: %d' % len(class_df))\n",
    "class_df.head()"
   ]
  },
  {
   "cell_type": "code",
   "execution_count": 5,
   "metadata": {
    "collapsed": false
   },
   "outputs": [],
   "source": [
    "# Reduce data set for faster development\n",
    "class_df = class_df.sample(frac=0.5)"
   ]
  },
  {
   "cell_type": "markdown",
   "metadata": {},
   "source": [
    "## Extract Positive Words from Dictionary"
   ]
  },
  {
   "cell_type": "code",
   "execution_count": 6,
   "metadata": {
    "collapsed": false
   },
   "outputs": [
    {
     "name": "stdout",
     "output_type": "stream",
     "text": [
      "Number of words in the dictionary: 85131\n"
     ]
    },
    {
     "data": {
      "text/html": [
       "<div>\n",
       "<table border=\"1\" class=\"dataframe\">\n",
       "  <thead>\n",
       "    <tr style=\"text-align: right;\">\n",
       "      <th></th>\n",
       "      <th>Word</th>\n",
       "      <th>Sequence Number</th>\n",
       "      <th>Word Count</th>\n",
       "      <th>Word Proportion</th>\n",
       "      <th>Average Proportion</th>\n",
       "      <th>Std Dev</th>\n",
       "      <th>Doc Count</th>\n",
       "      <th>Negative</th>\n",
       "      <th>Positive</th>\n",
       "      <th>Uncertainty</th>\n",
       "      <th>Litigious</th>\n",
       "      <th>Constraining</th>\n",
       "      <th>Superfluous</th>\n",
       "      <th>Interesting</th>\n",
       "      <th>Modal</th>\n",
       "      <th>Irr_Verb</th>\n",
       "      <th>Harvard_IV</th>\n",
       "      <th>Syllables</th>\n",
       "      <th>Source</th>\n",
       "    </tr>\n",
       "  </thead>\n",
       "  <tbody>\n",
       "    <tr>\n",
       "      <th>0</th>\n",
       "      <td>AARDVARK</td>\n",
       "      <td>1</td>\n",
       "      <td>81</td>\n",
       "      <td>5.690194e-09</td>\n",
       "      <td>3.068740e-09</td>\n",
       "      <td>5.779943e-07</td>\n",
       "      <td>45</td>\n",
       "      <td>0</td>\n",
       "      <td>0</td>\n",
       "      <td>0</td>\n",
       "      <td>0</td>\n",
       "      <td>0</td>\n",
       "      <td>0</td>\n",
       "      <td>0</td>\n",
       "      <td>0</td>\n",
       "      <td>0</td>\n",
       "      <td>0</td>\n",
       "      <td>2</td>\n",
       "      <td>12of12inf</td>\n",
       "    </tr>\n",
       "    <tr>\n",
       "      <th>1</th>\n",
       "      <td>AARDVARKS</td>\n",
       "      <td>2</td>\n",
       "      <td>2</td>\n",
       "      <td>1.404986e-10</td>\n",
       "      <td>8.217606e-12</td>\n",
       "      <td>7.841870e-09</td>\n",
       "      <td>1</td>\n",
       "      <td>0</td>\n",
       "      <td>0</td>\n",
       "      <td>0</td>\n",
       "      <td>0</td>\n",
       "      <td>0</td>\n",
       "      <td>0</td>\n",
       "      <td>0</td>\n",
       "      <td>0</td>\n",
       "      <td>0</td>\n",
       "      <td>0</td>\n",
       "      <td>2</td>\n",
       "      <td>12of12inf</td>\n",
       "    </tr>\n",
       "    <tr>\n",
       "      <th>2</th>\n",
       "      <td>ABACI</td>\n",
       "      <td>3</td>\n",
       "      <td>8</td>\n",
       "      <td>5.619945e-10</td>\n",
       "      <td>1.686149e-10</td>\n",
       "      <td>7.096240e-08</td>\n",
       "      <td>7</td>\n",
       "      <td>0</td>\n",
       "      <td>0</td>\n",
       "      <td>0</td>\n",
       "      <td>0</td>\n",
       "      <td>0</td>\n",
       "      <td>0</td>\n",
       "      <td>0</td>\n",
       "      <td>0</td>\n",
       "      <td>0</td>\n",
       "      <td>0</td>\n",
       "      <td>3</td>\n",
       "      <td>12of12inf</td>\n",
       "    </tr>\n",
       "    <tr>\n",
       "      <th>3</th>\n",
       "      <td>ABACK</td>\n",
       "      <td>4</td>\n",
       "      <td>5</td>\n",
       "      <td>3.512466e-10</td>\n",
       "      <td>1.727985e-10</td>\n",
       "      <td>7.532677e-08</td>\n",
       "      <td>5</td>\n",
       "      <td>0</td>\n",
       "      <td>0</td>\n",
       "      <td>0</td>\n",
       "      <td>0</td>\n",
       "      <td>0</td>\n",
       "      <td>0</td>\n",
       "      <td>0</td>\n",
       "      <td>0</td>\n",
       "      <td>0</td>\n",
       "      <td>0</td>\n",
       "      <td>2</td>\n",
       "      <td>12of12inf</td>\n",
       "    </tr>\n",
       "    <tr>\n",
       "      <th>4</th>\n",
       "      <td>ABACUS</td>\n",
       "      <td>5</td>\n",
       "      <td>1752</td>\n",
       "      <td>1.230768e-07</td>\n",
       "      <td>1.198634e-07</td>\n",
       "      <td>1.110293e-05</td>\n",
       "      <td>465</td>\n",
       "      <td>0</td>\n",
       "      <td>0</td>\n",
       "      <td>0</td>\n",
       "      <td>0</td>\n",
       "      <td>0</td>\n",
       "      <td>0</td>\n",
       "      <td>0</td>\n",
       "      <td>0</td>\n",
       "      <td>0</td>\n",
       "      <td>0</td>\n",
       "      <td>3</td>\n",
       "      <td>12of12inf</td>\n",
       "    </tr>\n",
       "  </tbody>\n",
       "</table>\n",
       "</div>"
      ],
      "text/plain": [
       "        Word  Sequence Number  Word Count  Word Proportion  \\\n",
       "0   AARDVARK                1          81     5.690194e-09   \n",
       "1  AARDVARKS                2           2     1.404986e-10   \n",
       "2      ABACI                3           8     5.619945e-10   \n",
       "3      ABACK                4           5     3.512466e-10   \n",
       "4     ABACUS                5        1752     1.230768e-07   \n",
       "\n",
       "   Average Proportion       Std Dev  Doc Count  Negative  Positive  \\\n",
       "0        3.068740e-09  5.779943e-07         45         0         0   \n",
       "1        8.217606e-12  7.841870e-09          1         0         0   \n",
       "2        1.686149e-10  7.096240e-08          7         0         0   \n",
       "3        1.727985e-10  7.532677e-08          5         0         0   \n",
       "4        1.198634e-07  1.110293e-05        465         0         0   \n",
       "\n",
       "   Uncertainty  Litigious  Constraining  Superfluous  Interesting  Modal  \\\n",
       "0            0          0             0            0            0      0   \n",
       "1            0          0             0            0            0      0   \n",
       "2            0          0             0            0            0      0   \n",
       "3            0          0             0            0            0      0   \n",
       "4            0          0             0            0            0      0   \n",
       "\n",
       "   Irr_Verb  Harvard_IV  Syllables     Source  \n",
       "0         0           0          2  12of12inf  \n",
       "1         0           0          2  12of12inf  \n",
       "2         0           0          3  12of12inf  \n",
       "3         0           0          2  12of12inf  \n",
       "4         0           0          3  12of12inf  "
      ]
     },
     "execution_count": 6,
     "metadata": {},
     "output_type": "execute_result"
    }
   ],
   "source": [
    "# Load the dictionary\n",
    "dict = pd.read_excel(MASTER_DICT_PATH)\n",
    "print('Number of words in the dictionary: %d' % len(dict))\n",
    "dict.head()"
   ]
  },
  {
   "cell_type": "code",
   "execution_count": 7,
   "metadata": {
    "collapsed": false
   },
   "outputs": [
    {
     "name": "stdout",
     "output_type": "stream",
     "text": [
      "Number of positive words: 354\n"
     ]
    },
    {
     "data": {
      "text/plain": [
       "['able', 'abundance', 'abundant', 'acclaimed', 'accomplish']"
      ]
     },
     "execution_count": 7,
     "metadata": {},
     "output_type": "execute_result"
    }
   ],
   "source": [
    "# Extract list with all positive words\n",
    "positive_words = list(map(lambda w: w.lower(), dict.loc[dict['Positive'] > 0, 'Word'].tolist()))\n",
    "print('Number of positive words: %d' % len(positive_words))\n",
    "positive_words[:5]"
   ]
  },
  {
   "cell_type": "markdown",
   "metadata": {},
   "source": [
    "## Feature Building"
   ]
  },
  {
   "cell_type": "code",
   "execution_count": 8,
   "metadata": {
    "collapsed": false
   },
   "outputs": [],
   "source": [
    "# Create the tokenizer module which also removes symbols\n",
    "tokenizer = nltk.RegexpTokenizer(r'\\w+')"
   ]
  },
  {
   "cell_type": "code",
   "execution_count": 11,
   "metadata": {
    "collapsed": true
   },
   "outputs": [],
   "source": [
    "# Tokenize the lower-case text and find the percentage of positive tokens\n",
    "def count_pos_tokens(text):\n",
    "    tokens = tokenizer.tokenize(text.lower())\n",
    "    pos_tokens = [t for t in tokens if t in positive_words]\n",
    "    if len(tokens) > 0:\n",
    "        return (len(pos_tokens) / len(tokens))\n",
    "    else:\n",
    "        return 0"
   ]
  },
  {
   "cell_type": "code",
   "execution_count": 12,
   "metadata": {
    "collapsed": false
   },
   "outputs": [
    {
     "name": "stdout",
     "output_type": "stream",
     "text": [
      "Size of class_df: 6252\n"
     ]
    },
    {
     "data": {
      "text/html": [
       "<div>\n",
       "<table border=\"1\" class=\"dataframe\">\n",
       "  <thead>\n",
       "    <tr style=\"text-align: right;\">\n",
       "      <th></th>\n",
       "      <th>content</th>\n",
       "      <th>OIADP</th>\n",
       "      <th>AT</th>\n",
       "      <th>CEQ</th>\n",
       "      <th>SALES</th>\n",
       "      <th>OIADP_change</th>\n",
       "      <th>AT_change</th>\n",
       "      <th>CEQ_change</th>\n",
       "      <th>SALES_change</th>\n",
       "      <th>pos_token_perc</th>\n",
       "    </tr>\n",
       "  </thead>\n",
       "  <tbody>\n",
       "    <tr>\n",
       "      <th>1691</th>\n",
       "      <td>-----BEGIN PRIVACY-ENHANCED MESSAGE-----\\nProc...</td>\n",
       "      <td>pos</td>\n",
       "      <td>pos</td>\n",
       "      <td>pos</td>\n",
       "      <td>pos</td>\n",
       "      <td>16.04529136</td>\n",
       "      <td>3.388475</td>\n",
       "      <td>1.205573169</td>\n",
       "      <td>9.279300023</td>\n",
       "      <td>0.004175</td>\n",
       "    </tr>\n",
       "    <tr>\n",
       "      <th>182</th>\n",
       "      <td>Managements Discussion and Analysis of Financ...</td>\n",
       "      <td>neg</td>\n",
       "      <td>pos</td>\n",
       "      <td>pos</td>\n",
       "      <td>pos</td>\n",
       "      <td>-235.9391965</td>\n",
       "      <td>120.649461</td>\n",
       "      <td>11.95116755</td>\n",
       "      <td>28.59973954</td>\n",
       "      <td>0.005760</td>\n",
       "    </tr>\n",
       "    <tr>\n",
       "      <th>8860</th>\n",
       "      <td>-----BEGIN PRIVACY-ENHANCED MESSAGE-----\\nProc...</td>\n",
       "      <td>pos</td>\n",
       "      <td>pos</td>\n",
       "      <td>pos</td>\n",
       "      <td>pos</td>\n",
       "      <td>7.509182424</td>\n",
       "      <td>5.826997</td>\n",
       "      <td>2.474536312</td>\n",
       "      <td>8.24492409</td>\n",
       "      <td>0.006579</td>\n",
       "    </tr>\n",
       "    <tr>\n",
       "      <th>5251</th>\n",
       "      <td>ITEM 7.  MANAGEMENT'S DISCUSSION AND ANALYSIS ...</td>\n",
       "      <td>neg</td>\n",
       "      <td>neg</td>\n",
       "      <td>neg</td>\n",
       "      <td>pos</td>\n",
       "      <td>-11.5497076</td>\n",
       "      <td>-0.287962</td>\n",
       "      <td>-2.811982489</td>\n",
       "      <td>13.1627926</td>\n",
       "      <td>0.006422</td>\n",
       "    </tr>\n",
       "    <tr>\n",
       "      <th>12410</th>\n",
       "      <td>ITEM\\n7. MANAGEMENTS DISCUSSION AND ANALYSIS O...</td>\n",
       "      <td>pos</td>\n",
       "      <td>neg</td>\n",
       "      <td>neg</td>\n",
       "      <td>pos</td>\n",
       "      <td>21.1338477</td>\n",
       "      <td>-1.597870</td>\n",
       "      <td>-85.07328072</td>\n",
       "      <td>20.10339734</td>\n",
       "      <td>0.010818</td>\n",
       "    </tr>\n",
       "  </tbody>\n",
       "</table>\n",
       "</div>"
      ],
      "text/plain": [
       "                                                 content OIADP   AT  CEQ  \\\n",
       "1691   -----BEGIN PRIVACY-ENHANCED MESSAGE-----\\nProc...   pos  pos  pos   \n",
       "182     Managements Discussion and Analysis of Financ...   neg  pos  pos   \n",
       "8860   -----BEGIN PRIVACY-ENHANCED MESSAGE-----\\nProc...   pos  pos  pos   \n",
       "5251   ITEM 7.  MANAGEMENT'S DISCUSSION AND ANALYSIS ...   neg  neg  neg   \n",
       "12410  ITEM\\n7. MANAGEMENTS DISCUSSION AND ANALYSIS O...   pos  neg  neg   \n",
       "\n",
       "      SALES  OIADP_change   AT_change    CEQ_change SALES_change  \\\n",
       "1691    pos   16.04529136    3.388475   1.205573169  9.279300023   \n",
       "182     pos  -235.9391965  120.649461   11.95116755  28.59973954   \n",
       "8860    pos   7.509182424    5.826997   2.474536312   8.24492409   \n",
       "5251    pos   -11.5497076   -0.287962  -2.811982489   13.1627926   \n",
       "12410   pos    21.1338477   -1.597870  -85.07328072  20.10339734   \n",
       "\n",
       "       pos_token_perc  \n",
       "1691         0.004175  \n",
       "182          0.005760  \n",
       "8860         0.006579  \n",
       "5251         0.006422  \n",
       "12410        0.010818  "
      ]
     },
     "execution_count": 12,
     "metadata": {},
     "output_type": "execute_result"
    }
   ],
   "source": [
    "# Calculate percentage of positive tokens for all reports\n",
    "class_df['pos_token_perc'] = class_df['content'].map(lambda c: count_pos_tokens(c))\n",
    "print('Size of class_df: %d' % len(class_df))\n",
    "class_df.head()"
   ]
  },
  {
   "cell_type": "markdown",
   "metadata": {},
   "source": [
    "## Linear Regression\n",
    "scikit-learn linear regression: http://scikit-learn.org/stable/auto_examples/linear_model/plot_ols.html"
   ]
  },
  {
   "cell_type": "code",
   "execution_count": 35,
   "metadata": {
    "collapsed": false
   },
   "outputs": [
    {
     "name": "stdout",
     "output_type": "stream",
     "text": [
      "Size of reg_df: 5343\n",
      "Size of filtered reg_df: 3793\n"
     ]
    },
    {
     "data": {
      "text/html": [
       "<div>\n",
       "<table border=\"1\" class=\"dataframe\">\n",
       "  <thead>\n",
       "    <tr style=\"text-align: right;\">\n",
       "      <th></th>\n",
       "      <th>pos_token_perc</th>\n",
       "      <th>OIADP_change</th>\n",
       "      <th>AT_change</th>\n",
       "      <th>CEQ_change</th>\n",
       "      <th>SALES_change</th>\n",
       "    </tr>\n",
       "  </thead>\n",
       "  <tbody>\n",
       "    <tr>\n",
       "      <th>1691</th>\n",
       "      <td>0.004175</td>\n",
       "      <td>16.045291</td>\n",
       "      <td>3.388475</td>\n",
       "      <td>1.205573</td>\n",
       "      <td>9.279300</td>\n",
       "    </tr>\n",
       "    <tr>\n",
       "      <th>8860</th>\n",
       "      <td>0.006579</td>\n",
       "      <td>7.509182</td>\n",
       "      <td>5.826997</td>\n",
       "      <td>2.474536</td>\n",
       "      <td>8.244924</td>\n",
       "    </tr>\n",
       "    <tr>\n",
       "      <th>5251</th>\n",
       "      <td>0.006422</td>\n",
       "      <td>-11.549708</td>\n",
       "      <td>-0.287962</td>\n",
       "      <td>-2.811982</td>\n",
       "      <td>13.162793</td>\n",
       "    </tr>\n",
       "    <tr>\n",
       "      <th>12410</th>\n",
       "      <td>0.010818</td>\n",
       "      <td>21.133848</td>\n",
       "      <td>-1.597870</td>\n",
       "      <td>-85.073281</td>\n",
       "      <td>20.103397</td>\n",
       "    </tr>\n",
       "    <tr>\n",
       "      <th>11923</th>\n",
       "      <td>0.007417</td>\n",
       "      <td>5.875681</td>\n",
       "      <td>0.669243</td>\n",
       "      <td>-1.025787</td>\n",
       "      <td>4.653743</td>\n",
       "    </tr>\n",
       "  </tbody>\n",
       "</table>\n",
       "</div>"
      ],
      "text/plain": [
       "       pos_token_perc  OIADP_change  AT_change  CEQ_change  SALES_change\n",
       "1691         0.004175     16.045291   3.388475    1.205573      9.279300\n",
       "8860         0.006579      7.509182   5.826997    2.474536      8.244924\n",
       "5251         0.006422    -11.549708  -0.287962   -2.811982     13.162793\n",
       "12410        0.010818     21.133848  -1.597870  -85.073281     20.103397\n",
       "11923        0.007417      5.875681   0.669243   -1.025787      4.653743"
      ]
     },
     "execution_count": 35,
     "metadata": {},
     "output_type": "execute_result"
    }
   ],
   "source": [
    "# Prepare data set by removing non-numeric values\n",
    "reg_df = class_df[['pos_token_perc', 'OIADP_change', 'AT_change', 'CEQ_change',\n",
    "                   'SALES_change']].apply(pd.to_numeric, errors='coerce').dropna()\n",
    "print('Size of reg_df: %d' % len(reg_df))\n",
    "\n",
    "# Remove outliers from the data set\n",
    "TRESHOLD = 100\n",
    "reg_df = reg_df[(reg_df['SALES_change'] < TRESHOLD) & \\\n",
    "                (reg_df['SALES_change'] > -TRESHOLD) & \\\n",
    "                (reg_df['OIADP_change'] < TRESHOLD) & \\\n",
    "                (reg_df['OIADP_change'] > -TRESHOLD) & \\\n",
    "                (reg_df['AT_change'] < TRESHOLD) & \\\n",
    "                (reg_df['AT_change'] > -TRESHOLD) & \\\n",
    "                (reg_df['CEQ_change'] < TRESHOLD) & \\\n",
    "                (reg_df['CEQ_change'] > -TRESHOLD) & \\\n",
    "                (reg_df['pos_token_perc'] < 0.1) & \\\n",
    "                (reg_df['pos_token_perc'] > 0)]\n",
    "print('Size of filtered reg_df: %d' % len(reg_df))\n",
    "\n",
    "reg_df.head()"
   ]
  },
  {
   "cell_type": "code",
   "execution_count": 36,
   "metadata": {
    "collapsed": false
   },
   "outputs": [
    {
     "name": "stdout",
     "output_type": "stream",
     "text": [
      "Pearson correlation with OIADP change: 0.013468\n",
      "Pearson correlation with AT change: 0.000088\n",
      "Pearson correlation with CEQ change: -0.054762\n",
      "Pearson correlation with SALES change: -0.011583\n"
     ]
    }
   ],
   "source": [
    "# Calculate correlation\n",
    "print('Pearson correlation with OIADP change: %f' % pearsonr(reg_df['pos_token_perc'], reg_df['OIADP_change'])[0])\n",
    "print('Pearson correlation with AT change: %f' % pearsonr(reg_df['pos_token_perc'], reg_df['AT_change'])[0])\n",
    "print('Pearson correlation with CEQ change: %f' % pearsonr(reg_df['pos_token_perc'], reg_df['CEQ_change'])[0])\n",
    "print('Pearson correlation with SALES change: %f' % pearsonr(reg_df['pos_token_perc'], reg_df['SALES_change'])[0])"
   ]
  },
  {
   "cell_type": "code",
   "execution_count": 37,
   "metadata": {
    "collapsed": false
   },
   "outputs": [
    {
     "name": "stdout",
     "output_type": "stream",
     "text": [
      "Size X_train: 2655\n",
      "Size X_test: 1138\n",
      "Size y_train: 2655\n",
      "Size y_test: 1138\n"
     ]
    }
   ],
   "source": [
    "# Split data into training and testing sets\n",
    "X_train, X_test, y_train, y_test = \\\n",
    "    train_test_split(reg_df[['OIADP_change', 'AT_change', 'CEQ_change', 'SALES_change']],\n",
    "                     reg_df['pos_token_perc'], test_size=0.3, random_state=123)\n",
    "print('Size X_train: %d' % len(X_train))\n",
    "print('Size X_test: %d' % len(X_test))\n",
    "print('Size y_train: %d' % len(y_train))\n",
    "print('Size y_test: %d' % len(y_test))"
   ]
  },
  {
   "cell_type": "code",
   "execution_count": 38,
   "metadata": {
    "collapsed": true
   },
   "outputs": [],
   "source": [
    "# Create linear regression object\n",
    "regr = linear_model.LinearRegression()"
   ]
  },
  {
   "cell_type": "code",
   "execution_count": 39,
   "metadata": {
    "collapsed": false
   },
   "outputs": [
    {
     "data": {
      "text/plain": [
       "LinearRegression(copy_X=True, fit_intercept=True, n_jobs=1, normalize=False)"
      ]
     },
     "execution_count": 39,
     "metadata": {},
     "output_type": "execute_result"
    }
   ],
   "source": [
    "# Train the model using the training sets\n",
    "regr.fit(X_train, y_train)"
   ]
  },
  {
   "cell_type": "code",
   "execution_count": 40,
   "metadata": {
    "collapsed": false
   },
   "outputs": [
    {
     "name": "stdout",
     "output_type": "stream",
     "text": [
      "Intercept:  0.00657461777149\n",
      "Coefficients:  [  1.61159800e-06  -4.04084419e-06  -4.21230512e-06   4.04096589e-07]\n",
      "Mean square error: 0.000008\n",
      "Variance score (R^2): -0.000626\n"
     ]
    }
   ],
   "source": [
    "# Print model results\n",
    "print('Intercept: ', regr.intercept_)\n",
    "print('Coefficients: ', regr.coef_)\n",
    "print('Mean square error: %f' % np.mean((regr.predict(X_test) - y_test) ** 2))\n",
    "print('Variance score (R^2): %f' % regr.score(X_test, y_test))"
   ]
  },
  {
   "cell_type": "code",
   "execution_count": 41,
   "metadata": {
    "collapsed": false
   },
   "outputs": [
    {
     "data": {
      "text/plain": [
       "<seaborn.axisgrid.FacetGrid at 0x7f1c7d9fc358>"
      ]
     },
     "execution_count": 41,
     "metadata": {},
     "output_type": "execute_result"
    },
    {
     "data": {
      "image/png": "[encoded data removed]",
      "text/plain": [
       "<matplotlib.figure.Figure at 0x7f1c7d9fc940>"
      ]
     },
     "metadata": {},
     "output_type": "display_data"
    }
   ],
   "source": [
    "# Regression plot of SALES_change ans pos_token_perc\n",
    "g = sns.lmplot(x='SALES_change', y='pos_token_perc', data=reg_df, size=7, ci=None)\n",
    "g.set_axis_labels('SALES Change', '% Positive Tokens')"
   ]
  },
  {
   "cell_type": "code",
   "execution_count": null,
   "metadata": {
    "collapsed": true
   },
   "outputs": [],
   "source": []
  }
 ],
 "metadata": {
  "kernelspec": {
   "display_name": "Python 3",
   "language": "python",
   "name": "python3"
  },
  "language_info": {
   "codemirror_mode": {
    "name": "ipython",
    "version": 3
   },
   "file_extension": ".py",
   "mimetype": "text/x-python",
   "name": "python",
   "nbconvert_exporter": "python",
   "pygments_lexer": "ipython3",
   "version": "3.5.1"
  }
 },
 "nbformat": 4,
 "nbformat_minor": 0
}
