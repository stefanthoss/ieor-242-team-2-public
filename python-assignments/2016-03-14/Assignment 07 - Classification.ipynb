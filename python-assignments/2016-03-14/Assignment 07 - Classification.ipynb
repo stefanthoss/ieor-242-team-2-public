{
 "cells": [
  {
   "cell_type": "markdown",
   "metadata": {
    "collapsed": true
   },
   "source": [
    "# IEOR 242 Assignment 07\n",
    "Classify MDA sections of 10-K reports with scikit learn Naive Bayes and cross validation"
   ]
  },
  {
   "cell_type": "code",
   "execution_count": 1,
   "metadata": {
    "collapsed": false
   },
   "outputs": [],
   "source": [
    "import pandas as pd\n",
    "import pickle\n",
    "import gc\n",
    "from sklearn.feature_extraction.text import CountVectorizer, TfidfVectorizer\n",
    "from sklearn.naive_bayes import MultinomialNB\n",
    "\n",
    "from classifier_evaluation import evaluate_classifier\n",
    "\n",
    "import matplotlib.pyplot as plt\n",
    "%matplotlib inline\n",
    "import seaborn as sns\n",
    "sns.set(style=\"whitegrid\")"
   ]
  },
  {
   "cell_type": "code",
   "execution_count": 2,
   "metadata": {
    "collapsed": true
   },
   "outputs": [],
   "source": [
    "import pymysql\n",
    "from sqlalchemy import create_engine\n",
    "\n",
    "# Connect to team database\n",
    "engine = create_engine('mysql+pymysql://<user>:<password>@<host>[:<port>]/<dbname>')"
   ]
  },
  {
   "cell_type": "code",
   "execution_count": 24,
   "metadata": {
    "collapsed": true
   },
   "outputs": [],
   "source": [
    "# Standard number of features\n",
    "MAX_FEATURES = 50000"
   ]
  },
  {
   "cell_type": "markdown",
   "metadata": {},
   "source": [
    "## Data Loading\n",
    "Read the dataframe with file contents and labels from a Pickle file."
   ]
  },
  {
   "cell_type": "code",
   "execution_count": 25,
   "metadata": {
    "collapsed": false
   },
   "outputs": [
    {
     "name": "stdout",
     "output_type": "stream",
     "text": [
      "Number of reports: 12504\n"
     ]
    },
    {
     "data": {
      "text/html": [
       "<div>\n",
       "<table border=\"1\" class=\"dataframe\">\n",
       "  <thead>\n",
       "    <tr style=\"text-align: right;\">\n",
       "      <th></th>\n",
       "      <th>content</th>\n",
       "      <th>OIADP</th>\n",
       "      <th>AT</th>\n",
       "      <th>CEQ</th>\n",
       "      <th>SALES</th>\n",
       "    </tr>\n",
       "  </thead>\n",
       "  <tbody>\n",
       "    <tr>\n",
       "      <th>0</th>\n",
       "      <td>Item7.Management's Discussion and Analysis of ...</td>\n",
       "      <td>pos</td>\n",
       "      <td>neg</td>\n",
       "      <td>neg</td>\n",
       "      <td>neg</td>\n",
       "    </tr>\n",
       "    <tr>\n",
       "      <th>1</th>\n",
       "      <td>The following discussion and analysis provide...</td>\n",
       "      <td>neg</td>\n",
       "      <td>pos</td>\n",
       "      <td>pos</td>\n",
       "      <td>neg</td>\n",
       "    </tr>\n",
       "    <tr>\n",
       "      <th>2</th>\n",
       "      <td>Item 7.\\nManagements Discussion and Analysis o...</td>\n",
       "      <td>neg</td>\n",
       "      <td>pos</td>\n",
       "      <td>pos</td>\n",
       "      <td>neg</td>\n",
       "    </tr>\n",
       "    <tr>\n",
       "      <th>3</th>\n",
       "      <td>-----BEGIN PRIVACY-ENHANCED MESSAGE-----\\nProc...</td>\n",
       "      <td>neg</td>\n",
       "      <td>neg</td>\n",
       "      <td>pos</td>\n",
       "      <td>neg</td>\n",
       "    </tr>\n",
       "    <tr>\n",
       "      <th>4</th>\n",
       "      <td>Item 7.      Management's Discussion and Analy...</td>\n",
       "      <td>pos</td>\n",
       "      <td>neg</td>\n",
       "      <td>neg</td>\n",
       "      <td>neg</td>\n",
       "    </tr>\n",
       "  </tbody>\n",
       "</table>\n",
       "</div>"
      ],
      "text/plain": [
       "                                             content OIADP   AT  CEQ SALES\n",
       "0  Item7.Management's Discussion and Analysis of ...   pos  neg  neg   neg\n",
       "1   The following discussion and analysis provide...   neg  pos  pos   neg\n",
       "2  Item 7.\\nManagements Discussion and Analysis o...   neg  pos  pos   neg\n",
       "3  -----BEGIN PRIVACY-ENHANCED MESSAGE-----\\nProc...   neg  neg  pos   neg\n",
       "4  Item 7.      Management's Discussion and Analy...   pos  neg  neg   neg"
      ]
     },
     "execution_count": 25,
     "metadata": {},
     "output_type": "execute_result"
    }
   ],
   "source": [
    "with open('prepared_class.pickle', 'rb') as f:\n",
    "    class_df = pickle.load(f)\n",
    "\n",
    "print('Number of reports: %d' % len(class_df))\n",
    "class_df.head()"
   ]
  },
  {
   "cell_type": "code",
   "execution_count": 26,
   "metadata": {
    "collapsed": false
   },
   "outputs": [],
   "source": [
    "# Reduce data set for faster development\n",
    "# class_df = class_df.sample(frac=0.5)"
   ]
  },
  {
   "cell_type": "markdown",
   "metadata": {},
   "source": [
    "## Feature Building"
   ]
  },
  {
   "cell_type": "code",
   "execution_count": 27,
   "metadata": {
    "collapsed": false
   },
   "outputs": [
    {
     "name": "stdout",
     "output_type": "stream",
     "text": [
      "12135 out of 12504 reports have a CEQ label.\n",
      "10887 out of 12504 reports have a SALES label.\n"
     ]
    }
   ],
   "source": [
    "# Prepare test subsets\n",
    "ceq_df = class_df.loc[class_df['CEQ'] != 'NA']\n",
    "print('%d out of %d reports have a CEQ label.' % (len(ceq_df), len(class_df)))\n",
    "sales_df = class_df.loc[class_df['SALES'] != 'NA']\n",
    "print('%d out of %d reports have a SALES label.' % (len(sales_df), len(class_df)))"
   ]
  },
  {
   "cell_type": "code",
   "execution_count": 7,
   "metadata": {
    "collapsed": true
   },
   "outputs": [],
   "source": [
    "# Bag of Words\n",
    "count_vec = CountVectorizer(analyzer='word', stop_words='english', max_features=MAX_FEATURES)\n",
    "# Bag of Words with reduced number of features\n",
    "count_vec_red_feat = CountVectorizer(analyzer='word', stop_words='english', max_features=500)\n",
    "# Bag of Words with 2-grams\n",
    "count_vec_2grams = CountVectorizer(analyzer='word', stop_words='english', ngram_range=(1, 2), max_features=MAX_FEATURES)\n",
    "# tf-idf\n",
    "tfidf_vec = TfidfVectorizer(analyzer='word', stop_words='english', max_features=MAX_FEATURES)\n",
    "# tf-idf with reduced number of features\n",
    "tfidf_vec_red_feat = TfidfVectorizer(analyzer='word', stop_words='english', max_features=500)\n",
    "# tf-idf with 2-grams\n",
    "tfidf_vec_2grams = TfidfVectorizer(analyzer='word', stop_words='english', ngram_range=(1, 2), max_features=MAX_FEATURES)"
   ]
  },
  {
   "cell_type": "markdown",
   "metadata": {},
   "source": [
    "## Classifier Evaluation"
   ]
  },
  {
   "cell_type": "markdown",
   "metadata": {},
   "source": [
    "### Baseline"
   ]
  },
  {
   "cell_type": "code",
   "execution_count": 28,
   "metadata": {
    "collapsed": false
   },
   "outputs": [
    {
     "name": "stdout",
     "output_type": "stream",
     "text": [
      "6570 out of 12135 reports have a positive CEQ label.\n"
     ]
    }
   ],
   "source": [
    "print('%d out of %d reports have a positive CEQ label.' \\\n",
    "      % (len(ceq_df.loc[ceq_df['CEQ'] == 'pos']), len(ceq_df)))"
   ]
  },
  {
   "cell_type": "markdown",
   "metadata": {},
   "source": [
    "### tf-idf"
   ]
  },
  {
   "cell_type": "code",
   "execution_count": 9,
   "metadata": {
    "collapsed": false
   },
   "outputs": [
    {
     "data": {
      "text/plain": [
       "{'Accuracy': 0.70194491115290503,\n",
       " 'F1 Score': 0.79771865694981814,\n",
       " 'Precision': 0.72142891656145403,\n",
       " 'Recall': 0.89205158325009859}"
      ]
     },
     "execution_count": 9,
     "metadata": {},
     "output_type": "execute_result"
    }
   ],
   "source": [
    "tfidf_matrix = tfidf_vec.fit_transform(sales_df['content'])\n",
    "\n",
    "tfidf_eval = evaluate_classifier(MultinomialNB(fit_prior=False), tfidf_matrix, sales_df['SALES'], 5)\n",
    "tfidf_eval[1]"
   ]
  },
  {
   "cell_type": "markdown",
   "metadata": {},
   "source": [
    "### Bag of Words"
   ]
  },
  {
   "cell_type": "code",
   "execution_count": 10,
   "metadata": {
    "collapsed": false
   },
   "outputs": [
    {
     "data": {
      "text/plain": [
       "{'Accuracy': 0.68496527837519361,\n",
       " 'F1 Score': 0.75751955495659606,\n",
       " 'Precision': 0.76834878007128626,\n",
       " 'Recall': 0.74699136651718456}"
      ]
     },
     "execution_count": 10,
     "metadata": {},
     "output_type": "execute_result"
    }
   ],
   "source": [
    "count_matrix = count_vec.fit_transform(sales_df['content'])\n",
    "\n",
    "count_eval = evaluate_classifier(MultinomialNB(fit_prior=False), count_matrix, sales_df['SALES'], 5)\n",
    "count_eval[1]"
   ]
  },
  {
   "cell_type": "markdown",
   "metadata": {
    "collapsed": true
   },
   "source": [
    "### Test Multiple Labels & Classifiers"
   ]
  },
  {
   "cell_type": "code",
   "execution_count": 11,
   "metadata": {
    "collapsed": false
   },
   "outputs": [],
   "source": [
    "# Store F1 values for multiple labels\n",
    "f1_score_df = pd.DataFrame()\n",
    "f1_score_df.columns.name = 'Label'\n",
    "f1_score_df.index.name = 'Classifier'\n",
    "\n",
    "# Store accuracy for multiple labels\n",
    "acc_score_df = pd.DataFrame()\n",
    "acc_score_df.columns.name = 'Label'\n",
    "acc_score_df.index.name = 'Classifier'\n",
    "\n",
    "# List vectorizations to evaluate \n",
    "vecs = { 'BoW': count_vec, 'BoW Red. Feat.': count_vec_red_feat,\n",
    "         'BoW 2-grams': count_vec_2grams,\n",
    "         'tf-idf': tfidf_vec, 'tf-idf Red. Feat.': tfidf_vec_red_feat,\n",
    "         'tf-idf 2-grams': tfidf_vec_2grams, }\n",
    "\n",
    "# Prepare classifier\n",
    "classifier = MultinomialNB(fit_prior=False)"
   ]
  },
  {
   "cell_type": "code",
   "execution_count": 12,
   "metadata": {
    "collapsed": false
   },
   "outputs": [
    {
     "name": "stdout",
     "output_type": "stream",
     "text": [
      "Classifying OIADP with tf-idf 2-grams.\n",
      "Classifying OIADP with BoW 2-grams.\n",
      "Classifying OIADP with tf-idf.\n",
      "Classifying OIADP with tf-idf Red. Feat..\n",
      "Classifying OIADP with BoW.\n",
      "Classifying OIADP with BoW Red. Feat..\n",
      "Classifying SALES with tf-idf 2-grams.\n",
      "Classifying SALES with BoW 2-grams.\n",
      "Classifying SALES with tf-idf.\n",
      "Classifying SALES with tf-idf Red. Feat..\n",
      "Classifying SALES with BoW.\n",
      "Classifying SALES with BoW Red. Feat..\n",
      "Classifying AT with tf-idf 2-grams.\n",
      "Classifying AT with BoW 2-grams.\n",
      "Classifying AT with tf-idf.\n",
      "Classifying AT with tf-idf Red. Feat..\n",
      "Classifying AT with BoW.\n",
      "Classifying AT with BoW Red. Feat..\n",
      "Classifying CEQ with tf-idf 2-grams.\n",
      "Classifying CEQ with BoW 2-grams.\n",
      "Classifying CEQ with tf-idf.\n",
      "Classifying CEQ with tf-idf Red. Feat..\n",
      "Classifying CEQ with BoW.\n",
      "Classifying CEQ with BoW Red. Feat..\n"
     ]
    }
   ],
   "source": [
    "# Calculate every vectorization and label combination\n",
    "for label in ['OIADP', 'SALES', 'AT', 'CEQ']:\n",
    "    for vec_name, vec in vecs.items():\n",
    "        print('Classifying %s with %s.' % (label, vec_name))\n",
    "        # Build matrix with reports and features\n",
    "        sub_df = class_df.loc[class_df[label] != 'NA']\n",
    "        matrix = vec.fit_transform(sub_df['content'])\n",
    "        \n",
    "        # Train and evaulate classifier\n",
    "        metrics = evaluate_classifier(classifier, matrix, sub_df[label], 5)[1]\n",
    "        acc_score_df.loc[vec_name, label] = metrics['Accuracy']\n",
    "        f1_score_df.loc[vec_name, label] = metrics['F1 Score']\n",
    "\n",
    "        # Free up memory\n",
    "        sub_df = None\n",
    "        matrix = None\n",
    "        gc.collect()"
   ]
  },
  {
   "cell_type": "code",
   "execution_count": 13,
   "metadata": {
    "collapsed": false
   },
   "outputs": [],
   "source": [
    "# Write data back to database\n",
    "# acc_score_df.to_sql('result_f1_score_matrix', engine, if_exists='replace')\n",
    "# f1_score_df.to_sql('result_f1_score_matrix', engine, if_exists='replace')"
   ]
  },
  {
   "cell_type": "code",
   "execution_count": 14,
   "metadata": {
    "collapsed": false
   },
   "outputs": [
    {
     "data": {
      "text/html": [
       "<div>\n",
       "<table border=\"1\" class=\"dataframe\">\n",
       "  <thead>\n",
       "    <tr style=\"text-align: right;\">\n",
       "      <th>Label</th>\n",
       "      <th>OIADP</th>\n",
       "      <th>SALES</th>\n",
       "      <th>AT</th>\n",
       "      <th>CEQ</th>\n",
       "    </tr>\n",
       "    <tr>\n",
       "      <th>Classifier</th>\n",
       "      <th></th>\n",
       "      <th></th>\n",
       "      <th></th>\n",
       "      <th></th>\n",
       "    </tr>\n",
       "  </thead>\n",
       "  <tbody>\n",
       "    <tr>\n",
       "      <th>tf-idf 2-grams</th>\n",
       "      <td>0.611061</td>\n",
       "      <td>0.647881</td>\n",
       "      <td>0.635718</td>\n",
       "      <td>0.665410</td>\n",
       "    </tr>\n",
       "    <tr>\n",
       "      <th>BoW 2-grams</th>\n",
       "      <td>0.484424</td>\n",
       "      <td>0.658052</td>\n",
       "      <td>0.597280</td>\n",
       "      <td>0.612317</td>\n",
       "    </tr>\n",
       "    <tr>\n",
       "      <th>tf-idf</th>\n",
       "      <td>0.672122</td>\n",
       "      <td>0.701932</td>\n",
       "      <td>0.664831</td>\n",
       "      <td>0.692420</td>\n",
       "    </tr>\n",
       "    <tr>\n",
       "      <th>tf-idf Red. Feat.</th>\n",
       "      <td>0.563775</td>\n",
       "      <td>0.606004</td>\n",
       "      <td>0.616255</td>\n",
       "      <td>0.654268</td>\n",
       "    </tr>\n",
       "    <tr>\n",
       "      <th>BoW</th>\n",
       "      <td>0.543194</td>\n",
       "      <td>0.685062</td>\n",
       "      <td>0.635899</td>\n",
       "      <td>0.654826</td>\n",
       "    </tr>\n",
       "    <tr>\n",
       "      <th>BoW Red. Feat.</th>\n",
       "      <td>0.477157</td>\n",
       "      <td>0.656637</td>\n",
       "      <td>0.580902</td>\n",
       "      <td>0.601371</td>\n",
       "    </tr>\n",
       "  </tbody>\n",
       "</table>\n",
       "</div>"
      ],
      "text/plain": [
       "Label                 OIADP     SALES        AT       CEQ\n",
       "Classifier                                               \n",
       "tf-idf 2-grams     0.611061  0.647881  0.635718  0.665410\n",
       "BoW 2-grams        0.484424  0.658052  0.597280  0.612317\n",
       "tf-idf             0.672122  0.701932  0.664831  0.692420\n",
       "tf-idf Red. Feat.  0.563775  0.606004  0.616255  0.654268\n",
       "BoW                0.543194  0.685062  0.635899  0.654826\n",
       "BoW Red. Feat.     0.477157  0.656637  0.580902  0.601371"
      ]
     },
     "execution_count": 14,
     "metadata": {},
     "output_type": "execute_result"
    }
   ],
   "source": [
    "acc_score_df"
   ]
  },
  {
   "cell_type": "code",
   "execution_count": 15,
   "metadata": {
    "collapsed": false
   },
   "outputs": [
    {
     "data": {
      "text/html": [
       "<div>\n",
       "<table border=\"1\" class=\"dataframe\">\n",
       "  <thead>\n",
       "    <tr style=\"text-align: right;\">\n",
       "      <th>Label</th>\n",
       "      <th>OIADP</th>\n",
       "      <th>SALES</th>\n",
       "      <th>AT</th>\n",
       "      <th>CEQ</th>\n",
       "    </tr>\n",
       "    <tr>\n",
       "      <th>Classifier</th>\n",
       "      <th></th>\n",
       "      <th></th>\n",
       "      <th></th>\n",
       "      <th></th>\n",
       "    </tr>\n",
       "  </thead>\n",
       "  <tbody>\n",
       "    <tr>\n",
       "      <th>tf-idf 2-grams</th>\n",
       "      <td>0.626727</td>\n",
       "      <td>0.734515</td>\n",
       "      <td>0.631357</td>\n",
       "      <td>0.697138</td>\n",
       "    </tr>\n",
       "    <tr>\n",
       "      <th>BoW 2-grams</th>\n",
       "      <td>0.082587</td>\n",
       "      <td>0.744255</td>\n",
       "      <td>0.654660</td>\n",
       "      <td>0.539519</td>\n",
       "    </tr>\n",
       "    <tr>\n",
       "      <th>tf-idf</th>\n",
       "      <td>0.704946</td>\n",
       "      <td>0.797697</td>\n",
       "      <td>0.658319</td>\n",
       "      <td>0.724350</td>\n",
       "    </tr>\n",
       "    <tr>\n",
       "      <th>tf-idf Red. Feat.</th>\n",
       "      <td>0.578000</td>\n",
       "      <td>0.676373</td>\n",
       "      <td>0.621545</td>\n",
       "      <td>0.689583</td>\n",
       "    </tr>\n",
       "    <tr>\n",
       "      <th>BoW</th>\n",
       "      <td>0.290620</td>\n",
       "      <td>0.757617</td>\n",
       "      <td>0.668859</td>\n",
       "      <td>0.625842</td>\n",
       "    </tr>\n",
       "    <tr>\n",
       "      <th>BoW Red. Feat.</th>\n",
       "      <td>0.077026</td>\n",
       "      <td>0.774013</td>\n",
       "      <td>0.649744</td>\n",
       "      <td>0.531164</td>\n",
       "    </tr>\n",
       "  </tbody>\n",
       "</table>\n",
       "</div>"
      ],
      "text/plain": [
       "Label                 OIADP     SALES        AT       CEQ\n",
       "Classifier                                               \n",
       "tf-idf 2-grams     0.626727  0.734515  0.631357  0.697138\n",
       "BoW 2-grams        0.082587  0.744255  0.654660  0.539519\n",
       "tf-idf             0.704946  0.797697  0.658319  0.724350\n",
       "tf-idf Red. Feat.  0.578000  0.676373  0.621545  0.689583\n",
       "BoW                0.290620  0.757617  0.668859  0.625842\n",
       "BoW Red. Feat.     0.077026  0.774013  0.649744  0.531164"
      ]
     },
     "execution_count": 15,
     "metadata": {},
     "output_type": "execute_result"
    }
   ],
   "source": [
    "f1_score_df"
   ]
  },
  {
   "cell_type": "code",
   "execution_count": 16,
   "metadata": {
    "collapsed": false
   },
   "outputs": [
    {
     "data": {
      "text/plain": [
       "<matplotlib.axes._subplots.AxesSubplot at 0x7fa80c07ff98>"
      ]
     },
     "execution_count": 16,
     "metadata": {},
     "output_type": "execute_result"
    },
    {
     "data": {
      "image/png": "[encoded data removed]",
      "text/plain": [
       "<matplotlib.figure.Figure at 0x7fa7ef6ad438>"
      ]
     },
     "metadata": {},
     "output_type": "display_data"
    }
   ],
   "source": [
    "# Plot heat map for accuracy\n",
    "sns.heatmap(acc_score_df, annot=True, fmt='.3f', linewidths=1)"
   ]
  },
  {
   "cell_type": "code",
   "execution_count": 17,
   "metadata": {
    "collapsed": false
   },
   "outputs": [
    {
     "data": {
      "text/plain": [
       "<matplotlib.axes._subplots.AxesSubplot at 0x7fa7f91cb7b8>"
      ]
     },
     "execution_count": 17,
     "metadata": {},
     "output_type": "execute_result"
    },
    {
     "data": {
      "image/png": "[encoded data removed]",
      "text/plain": [
       "<matplotlib.figure.Figure at 0x7fa7cea9ed68>"
      ]
     },
     "metadata": {},
     "output_type": "display_data"
    }
   ],
   "source": [
    "# Plot heat map for F1 Score\n",
    "sns.heatmap(f1_score_df, annot=True, fmt='.3f', linewidths=1)"
   ]
  },
  {
   "cell_type": "markdown",
   "metadata": {},
   "source": [
    "### Bag of Words - Optimize Number of Features"
   ]
  },
  {
   "cell_type": "code",
   "execution_count": 18,
   "metadata": {
    "collapsed": false
   },
   "outputs": [
    {
     "name": "stdout",
     "output_type": "stream",
     "text": [
      "Classifying with 100 features.\n",
      "Classifying with 500 features.\n",
      "Classifying with 1000 features.\n",
      "Classifying with 5000 features.\n",
      "Classifying with 10000 features.\n",
      "Classifying with 50000 features.\n",
      "Classifying with 100000 features.\n"
     ]
    },
    {
     "data": {
      "text/html": [
       "<div>\n",
       "<table border=\"1\" class=\"dataframe\">\n",
       "  <thead>\n",
       "    <tr style=\"text-align: right;\">\n",
       "      <th></th>\n",
       "      <th>Accuracy</th>\n",
       "      <th>F1 Score</th>\n",
       "      <th>Max Feature</th>\n",
       "      <th>Precision</th>\n",
       "      <th>Recall</th>\n",
       "    </tr>\n",
       "  </thead>\n",
       "  <tbody>\n",
       "    <tr>\n",
       "      <th>0</th>\n",
       "      <td>0.658470</td>\n",
       "      <td>0.781282</td>\n",
       "      <td>100</td>\n",
       "      <td>0.675733</td>\n",
       "      <td>0.925909</td>\n",
       "    </tr>\n",
       "    <tr>\n",
       "      <th>0</th>\n",
       "      <td>0.656646</td>\n",
       "      <td>0.774027</td>\n",
       "      <td>500</td>\n",
       "      <td>0.683211</td>\n",
       "      <td>0.892689</td>\n",
       "    </tr>\n",
       "    <tr>\n",
       "      <th>0</th>\n",
       "      <td>0.650147</td>\n",
       "      <td>0.753721</td>\n",
       "      <td>1000</td>\n",
       "      <td>0.702795</td>\n",
       "      <td>0.812604</td>\n",
       "    </tr>\n",
       "    <tr>\n",
       "      <th>0</th>\n",
       "      <td>0.643308</td>\n",
       "      <td>0.726304</td>\n",
       "      <td>5000</td>\n",
       "      <td>0.734393</td>\n",
       "      <td>0.718392</td>\n",
       "    </tr>\n",
       "    <tr>\n",
       "      <th>0</th>\n",
       "      <td>0.685076</td>\n",
       "      <td>0.757611</td>\n",
       "      <td>10000</td>\n",
       "      <td>0.768464</td>\n",
       "      <td>0.747061</td>\n",
       "    </tr>\n",
       "    <tr>\n",
       "      <th>0</th>\n",
       "      <td>0.791927</td>\n",
       "      <td>0.841043</td>\n",
       "      <td>50000</td>\n",
       "      <td>0.846692</td>\n",
       "      <td>0.835468</td>\n",
       "    </tr>\n",
       "    <tr>\n",
       "      <th>0</th>\n",
       "      <td>0.804378</td>\n",
       "      <td>0.850553</td>\n",
       "      <td>100000</td>\n",
       "      <td>0.856271</td>\n",
       "      <td>0.844910</td>\n",
       "    </tr>\n",
       "  </tbody>\n",
       "</table>\n",
       "</div>"
      ],
      "text/plain": [
       "   Accuracy  F1 Score  Max Feature  Precision    Recall\n",
       "0  0.658470  0.781282          100   0.675733  0.925909\n",
       "0  0.656646  0.774027          500   0.683211  0.892689\n",
       "0  0.650147  0.753721         1000   0.702795  0.812604\n",
       "0  0.643308  0.726304         5000   0.734393  0.718392\n",
       "0  0.685076  0.757611        10000   0.768464  0.747061\n",
       "0  0.791927  0.841043        50000   0.846692  0.835468\n",
       "0  0.804378  0.850553       100000   0.856271  0.844910"
      ]
     },
     "execution_count": 18,
     "metadata": {},
     "output_type": "execute_result"
    }
   ],
   "source": [
    "eval_df = pd.DataFrame(columns=['Max Feature'])\n",
    "\n",
    "classifier = MultinomialNB(fit_prior=False)\n",
    "\n",
    "for i in [100, 500, 1000, 5000, 10000, 50000, 100000]:\n",
    "    print('Classifying with %d features.' % i)\n",
    "    tfidf_vec = TfidfVectorizer(analyzer='word', stop_words='english', max_features=i)\n",
    "    tfidf_matrix = tfidf_vec.fit_transform(sales_df['content'])\n",
    "    tfidf_eval = evaluate_classifier(classifier, tfidf_matrix, sales_df['SALES'], 5)\n",
    "    result = pd.DataFrame(tfidf_eval[1], index=[0])\n",
    "    result['Max Feature'] = i\n",
    "    eval_df = eval_df.append(result)\n",
    "\n",
    "eval_df"
   ]
  },
  {
   "cell_type": "code",
   "execution_count": 19,
   "metadata": {
    "collapsed": true
   },
   "outputs": [],
   "source": [
    "# Write data back to database\n",
    "eval_df.to_sql('result_max_feature_eval', engine, if_exists='replace')"
   ]
  },
  {
   "cell_type": "code",
   "execution_count": 20,
   "metadata": {
    "collapsed": false
   },
   "outputs": [
    {
     "data": {
      "text/plain": [
       "<seaborn.axisgrid.FacetGrid at 0x7fa7cf07c240>"
      ]
     },
     "execution_count": 20,
     "metadata": {},
     "output_type": "execute_result"
    },
    {
     "data": {
      "image/png": "[encoded data removed]",
      "text/plain": [
       "<matplotlib.figure.Figure at 0x7fa8056e00b8>"
      ]
     },
     "metadata": {},
     "output_type": "display_data"
    }
   ],
   "source": [
    "bar_chart_prep = pd.melt(eval_df, id_vars=['Max Feature'],\n",
    "                         value_vars=['Accuracy', 'F1 Score', 'Precision', 'Recall'],\n",
    "                         var_name='Metric', value_name='Value')\n",
    "\n",
    "g = sns.factorplot(x='Max Feature', y='Value', hue='Metric', data=bar_chart_prep, size=7, kind='bar')\n",
    "g.despine(left=True)\n",
    "g.set_ylabels('Value')"
   ]
  },
  {
   "cell_type": "markdown",
   "metadata": {
    "collapsed": true
   },
   "source": [
    "### Bag of Words - Optimize n-grams"
   ]
  },
  {
   "cell_type": "code",
   "execution_count": 21,
   "metadata": {
    "collapsed": false
   },
   "outputs": [
    {
     "name": "stdout",
     "output_type": "stream",
     "text": [
      "Classifying with (1,1)-grams.\n",
      "Classifying with (1,2)-grams.\n",
      "Classifying with (1,3)-grams.\n"
     ]
    },
    {
     "data": {
      "text/html": [
       "<div>\n",
       "<table border=\"1\" class=\"dataframe\">\n",
       "  <thead>\n",
       "    <tr style=\"text-align: right;\">\n",
       "      <th></th>\n",
       "      <th>Accuracy</th>\n",
       "      <th>F1 Score</th>\n",
       "      <th>Precision</th>\n",
       "      <th>Recall</th>\n",
       "      <th>n</th>\n",
       "    </tr>\n",
       "  </thead>\n",
       "  <tbody>\n",
       "    <tr>\n",
       "      <th>0</th>\n",
       "      <td>0.685118</td>\n",
       "      <td>0.757678</td>\n",
       "      <td>0.768526</td>\n",
       "      <td>0.747133</td>\n",
       "      <td>1</td>\n",
       "    </tr>\n",
       "    <tr>\n",
       "      <th>0</th>\n",
       "      <td>0.658138</td>\n",
       "      <td>0.744338</td>\n",
       "      <td>0.733723</td>\n",
       "      <td>0.755265</td>\n",
       "      <td>2</td>\n",
       "    </tr>\n",
       "    <tr>\n",
       "      <th>0</th>\n",
       "      <td>0.665320</td>\n",
       "      <td>0.761254</td>\n",
       "      <td>0.718132</td>\n",
       "      <td>0.809885</td>\n",
       "      <td>3</td>\n",
       "    </tr>\n",
       "  </tbody>\n",
       "</table>\n",
       "</div>"
      ],
      "text/plain": [
       "   Accuracy  F1 Score  Precision    Recall  n\n",
       "0  0.685118  0.757678   0.768526  0.747133  1\n",
       "0  0.658138  0.744338   0.733723  0.755265  2\n",
       "0  0.665320  0.761254   0.718132  0.809885  3"
      ]
     },
     "execution_count": 21,
     "metadata": {},
     "output_type": "execute_result"
    }
   ],
   "source": [
    "ngram_eval_df = pd.DataFrame(columns=['n'])\n",
    "\n",
    "classifier = MultinomialNB(fit_prior=False)\n",
    "\n",
    "for n in [1, 2, 3]:\n",
    "    print('Classifying with (1,%d)-grams.' % n)\n",
    "    tfidf_vec = TfidfVectorizer(analyzer='word', stop_words='english', max_features=MAX_FEATURES, ngram_range=(1,n))\n",
    "    tfidf_matrix = tfidf_vec.fit_transform(sales_df['content'])\n",
    "    result = pd.DataFrame(evaluate_classifier(classifier, tfidf_matrix, sales_df['SALES'], 5)[1], index=[0])\n",
    "    result['n'] = n\n",
    "    ngram_eval_df = ngram_eval_df.append(result)\n",
    "\n",
    "    # Free up memory\n",
    "    tfidf_vec = None\n",
    "    tfidf_matrix = None\n",
    "    gc.collect()\n",
    "\n",
    "ngram_eval_df"
   ]
  },
  {
   "cell_type": "code",
   "execution_count": 22,
   "metadata": {
    "collapsed": true
   },
   "outputs": [],
   "source": [
    "# Write data back to database\n",
    "ngram_eval_df.to_sql('result_ngram_eval', engine, if_exists='replace')"
   ]
  },
  {
   "cell_type": "code",
   "execution_count": 23,
   "metadata": {
    "collapsed": false
   },
   "outputs": [
    {
     "data": {
      "text/plain": [
       "<seaborn.axisgrid.FacetGrid at 0x7fa7fe1a5828>"
      ]
     },
     "execution_count": 23,
     "metadata": {},
     "output_type": "execute_result"
    },
    {
     "data": {
      "image/png": "[encoded data removed]",
      "text/plain": [
       "<matplotlib.figure.Figure at 0x7fa7fe1a5cf8>"
      ]
     },
     "metadata": {},
     "output_type": "display_data"
    }
   ],
   "source": [
    "bar_chart_prep = pd.melt(ngram_eval_df, id_vars=['n'],\n",
    "                         value_vars=['Accuracy', 'F1 Score', 'Precision', 'Recall'],\n",
    "                         var_name='Metric', value_name='Value')\n",
    "\n",
    "g = sns.factorplot(x='n', y='Value', hue='Metric', data=bar_chart_prep, size=7, kind='bar')\n",
    "g.despine(left=True)\n",
    "g.set_ylabels('Value')"
   ]
  },
  {
   "cell_type": "code",
   "execution_count": null,
   "metadata": {
    "collapsed": true
   },
   "outputs": [],
   "source": []
  }
 ],
 "metadata": {
  "kernelspec": {
   "display_name": "Python 3",
   "language": "python",
   "name": "python3"
  },
  "language_info": {
   "codemirror_mode": {
    "name": "ipython",
    "version": 3
   },
   "file_extension": ".py",
   "mimetype": "text/x-python",
   "name": "python",
   "nbconvert_exporter": "python",
   "pygments_lexer": "ipython3",
   "version": "3.5.1"
  }
 },
 "nbformat": 4,
 "nbformat_minor": 0
}
