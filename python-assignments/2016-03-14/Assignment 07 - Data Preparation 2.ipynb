{
 "cells": [
  {
   "cell_type": "markdown",
   "metadata": {
    "collapsed": true
   },
   "source": [
    "# IEOR 242 Assignment 07\n",
    "Prepare data by reading MDA extracts from files and merging them with labels. Result is saved in a Pickle file. This version of the script includes additional columns for change values."
   ]
  },
  {
   "cell_type": "code",
   "execution_count": 1,
   "metadata": {
    "collapsed": false
   },
   "outputs": [],
   "source": [
    "import glob\n",
    "import re\n",
    "import pandas as pd\n",
    "import pickle"
   ]
  },
  {
   "cell_type": "code",
   "execution_count": 2,
   "metadata": {
    "collapsed": true
   },
   "outputs": [],
   "source": [
    "import pymysql\n",
    "from sqlalchemy import create_engine\n",
    "from sqlalchemy.dialects import mysql\n",
    "\n",
    "# Connect to team database\n",
    "engine = create_engine('mysql+pymysql://<user>:<password>@<host>[:<port>]/<dbname>')"
   ]
  },
  {
   "cell_type": "code",
   "execution_count": 3,
   "metadata": {
    "collapsed": false
   },
   "outputs": [],
   "source": [
    "# Path to MDA section files\n",
    "REPORT_PATH = 'assignment-07-report-mda/*'\n",
    "\n",
    "# Regex for parsing the file list\n",
    "sec_regex = re.compile(r'mdna_(\\d{4})_Q(\\d{1})_(\\d+)_.+_10-K_\\d{4}-\\d{2}-\\d{2}')\n",
    "\n",
    "# Path to the Pickle file\n",
    "PICKLE_FILE = 'prepared_class2.pickle'"
   ]
  },
  {
   "cell_type": "markdown",
   "metadata": {},
   "source": [
    "## Label Loading\n",
    "Load the table with the labels."
   ]
  },
  {
   "cell_type": "code",
   "execution_count": 5,
   "metadata": {
    "collapsed": false
   },
   "outputs": [
    {
     "name": "stdout",
     "output_type": "stream",
     "text": [
      "Number of labels: 114212\n"
     ]
    },
    {
     "data": {
      "text/html": [
       "<div>\n",
       "<table border=\"1\" class=\"dataframe\">\n",
       "  <thead>\n",
       "    <tr style=\"text-align: right;\">\n",
       "      <th></th>\n",
       "      <th>cik</th>\n",
       "      <th>fyearq</th>\n",
       "      <th>fqtr</th>\n",
       "      <th>oiadpq_posneg</th>\n",
       "      <th>atq_posneg</th>\n",
       "      <th>ceqq_posneg</th>\n",
       "      <th>saleq_posneg</th>\n",
       "      <th>oiadpq_change</th>\n",
       "      <th>atq_change</th>\n",
       "      <th>ceqq_change</th>\n",
       "      <th>saleq_change</th>\n",
       "    </tr>\n",
       "  </thead>\n",
       "  <tbody>\n",
       "    <tr>\n",
       "      <th>0</th>\n",
       "      <td>319126</td>\n",
       "      <td>1990</td>\n",
       "      <td>3</td>\n",
       "      <td>neg</td>\n",
       "      <td>neg</td>\n",
       "      <td>pos</td>\n",
       "      <td>pos</td>\n",
       "      <td>4.232804233</td>\n",
       "      <td>-3.592531</td>\n",
       "      <td>6.880860452</td>\n",
       "      <td>9.44540018</td>\n",
       "    </tr>\n",
       "    <tr>\n",
       "      <th>1</th>\n",
       "      <td>319126</td>\n",
       "      <td>1990</td>\n",
       "      <td>4</td>\n",
       "      <td>neg</td>\n",
       "      <td>neg</td>\n",
       "      <td>neg</td>\n",
       "      <td>neg</td>\n",
       "      <td>-150.9306261</td>\n",
       "      <td>-7.149258</td>\n",
       "      <td>-7.753838214</td>\n",
       "      <td>-34.8502994</td>\n",
       "    </tr>\n",
       "    <tr>\n",
       "      <th>2</th>\n",
       "      <td>319126</td>\n",
       "      <td>1991</td>\n",
       "      <td>1</td>\n",
       "      <td>neg</td>\n",
       "      <td>neg</td>\n",
       "      <td>neg</td>\n",
       "      <td>pos</td>\n",
       "      <td>-124.2524917</td>\n",
       "      <td>-1.211159</td>\n",
       "      <td>-2.657342657</td>\n",
       "      <td>11.74172794</td>\n",
       "    </tr>\n",
       "    <tr>\n",
       "      <th>3</th>\n",
       "      <td>319126</td>\n",
       "      <td>1991</td>\n",
       "      <td>2</td>\n",
       "      <td>pos</td>\n",
       "      <td>neg</td>\n",
       "      <td>neg</td>\n",
       "      <td>neg</td>\n",
       "      <td>61.64383562</td>\n",
       "      <td>-3.009865</td>\n",
       "      <td>-2.614942529</td>\n",
       "      <td>-2.920008225</td>\n",
       "    </tr>\n",
       "    <tr>\n",
       "      <th>4</th>\n",
       "      <td>319126</td>\n",
       "      <td>1991</td>\n",
       "      <td>3</td>\n",
       "      <td>neg</td>\n",
       "      <td>neg</td>\n",
       "      <td>neg</td>\n",
       "      <td>pos</td>\n",
       "      <td>-3.813559322</td>\n",
       "      <td>-3.541951</td>\n",
       "      <td>-3.290056064</td>\n",
       "      <td>7.593730142</td>\n",
       "    </tr>\n",
       "  </tbody>\n",
       "</table>\n",
       "</div>"
      ],
      "text/plain": [
       "      cik  fyearq  fqtr oiadpq_posneg atq_posneg ceqq_posneg saleq_posneg  \\\n",
       "0  319126    1990     3           neg        neg         pos          pos   \n",
       "1  319126    1990     4           neg        neg         neg          neg   \n",
       "2  319126    1991     1           neg        neg         neg          pos   \n",
       "3  319126    1991     2           pos        neg         neg          neg   \n",
       "4  319126    1991     3           neg        neg         neg          pos   \n",
       "\n",
       "  oiadpq_change  atq_change   ceqq_change  saleq_change  \n",
       "0   4.232804233   -3.592531   6.880860452    9.44540018  \n",
       "1  -150.9306261   -7.149258  -7.753838214   -34.8502994  \n",
       "2  -124.2524917   -1.211159  -2.657342657   11.74172794  \n",
       "3   61.64383562   -3.009865  -2.614942529  -2.920008225  \n",
       "4  -3.813559322   -3.541951  -3.290056064   7.593730142  "
      ]
     },
     "execution_count": 5,
     "metadata": {},
     "output_type": "execute_result"
    }
   ],
   "source": [
    "# Read labels from database\n",
    "fin_label_df = pd.read_sql_query('SELECT cik, fyearq, fqtr, oiadpq_posneg, atq_posneg, ceqq_posneg, saleq_posneg, ' \\\n",
    "                                 'oiadpq_change, atq_change, ceqq_change, saleq_change ' \\\n",
    "                                 'FROM Compustat_Health_Quarterly_Sentiment_With_Change', engine)\n",
    "\n",
    "print('Number of labels: %d' % len(fin_label_df))\n",
    "fin_label_df.head()"
   ]
  },
  {
   "cell_type": "markdown",
   "metadata": {},
   "source": [
    "## Reading Files & Matching\n",
    "Read the file contents and match them to the labels."
   ]
  },
  {
   "cell_type": "code",
   "execution_count": 6,
   "metadata": {
    "collapsed": false
   },
   "outputs": [
    {
     "name": "stdout",
     "output_type": "stream",
     "text": [
      "Number of reports: 12504\n"
     ]
    },
    {
     "data": {
      "text/html": [
       "<div>\n",
       "<table border=\"1\" class=\"dataframe\">\n",
       "  <thead>\n",
       "    <tr style=\"text-align: right;\">\n",
       "      <th></th>\n",
       "      <th>content</th>\n",
       "      <th>OIADP</th>\n",
       "      <th>AT</th>\n",
       "      <th>CEQ</th>\n",
       "      <th>SALES</th>\n",
       "      <th>OIADP_change</th>\n",
       "      <th>AT_change</th>\n",
       "      <th>CEQ_change</th>\n",
       "      <th>SALES_change</th>\n",
       "    </tr>\n",
       "  </thead>\n",
       "  <tbody>\n",
       "    <tr>\n",
       "      <th>0</th>\n",
       "      <td>Item7.Management's Discussion and Analysis of ...</td>\n",
       "      <td>pos</td>\n",
       "      <td>neg</td>\n",
       "      <td>neg</td>\n",
       "      <td>neg</td>\n",
       "      <td>19.30809539</td>\n",
       "      <td>-5.710814</td>\n",
       "      <td>-16.88298821</td>\n",
       "      <td>-9.225092251</td>\n",
       "    </tr>\n",
       "    <tr>\n",
       "      <th>1</th>\n",
       "      <td>The following discussion and analysis provide...</td>\n",
       "      <td>neg</td>\n",
       "      <td>pos</td>\n",
       "      <td>pos</td>\n",
       "      <td>neg</td>\n",
       "      <td>-14.5187602</td>\n",
       "      <td>14.640276</td>\n",
       "      <td>11.23801315</td>\n",
       "      <td>-1.89063409</td>\n",
       "    </tr>\n",
       "    <tr>\n",
       "      <th>2</th>\n",
       "      <td>Item 7.\\nManagements Discussion and Analysis o...</td>\n",
       "      <td>neg</td>\n",
       "      <td>pos</td>\n",
       "      <td>pos</td>\n",
       "      <td>neg</td>\n",
       "      <td>-22.56208359</td>\n",
       "      <td>0.525303</td>\n",
       "      <td>2.764397345</td>\n",
       "      <td>-11.54303553</td>\n",
       "    </tr>\n",
       "    <tr>\n",
       "      <th>3</th>\n",
       "      <td>-----BEGIN PRIVACY-ENHANCED MESSAGE-----\\nProc...</td>\n",
       "      <td>neg</td>\n",
       "      <td>neg</td>\n",
       "      <td>pos</td>\n",
       "      <td>neg</td>\n",
       "      <td>-814.6341463</td>\n",
       "      <td>-56.183942</td>\n",
       "      <td>15.27777778</td>\n",
       "      <td>-65.41343833</td>\n",
       "    </tr>\n",
       "    <tr>\n",
       "      <th>4</th>\n",
       "      <td>Item 7.      Management's Discussion and Analy...</td>\n",
       "      <td>pos</td>\n",
       "      <td>neg</td>\n",
       "      <td>neg</td>\n",
       "      <td>neg</td>\n",
       "      <td>328.5234899</td>\n",
       "      <td>-1.733328</td>\n",
       "      <td>-5.815035355</td>\n",
       "      <td>-39.56639566</td>\n",
       "    </tr>\n",
       "  </tbody>\n",
       "</table>\n",
       "</div>"
      ],
      "text/plain": [
       "                                             content OIADP   AT  CEQ SALES  \\\n",
       "0  Item7.Management's Discussion and Analysis of ...   pos  neg  neg   neg   \n",
       "1   The following discussion and analysis provide...   neg  pos  pos   neg   \n",
       "2  Item 7.\\nManagements Discussion and Analysis o...   neg  pos  pos   neg   \n",
       "3  -----BEGIN PRIVACY-ENHANCED MESSAGE-----\\nProc...   neg  neg  pos   neg   \n",
       "4  Item 7.      Management's Discussion and Analy...   pos  neg  neg   neg   \n",
       "\n",
       "   OIADP_change  AT_change    CEQ_change  SALES_change  \n",
       "0   19.30809539  -5.710814  -16.88298821  -9.225092251  \n",
       "1   -14.5187602  14.640276   11.23801315   -1.89063409  \n",
       "2  -22.56208359   0.525303   2.764397345  -11.54303553  \n",
       "3  -814.6341463 -56.183942   15.27777778  -65.41343833  \n",
       "4   328.5234899  -1.733328  -5.815035355  -39.56639566  "
      ]
     },
     "execution_count": 6,
     "metadata": {},
     "output_type": "execute_result"
    }
   ],
   "source": [
    "# Dataframe with file content and labels\n",
    "class_df = pd.DataFrame(columns=['content', 'OIADP', 'AT', 'CEQ', 'SALES',\n",
    "                                 'OIADP_change', 'AT_change', 'CEQ_change', 'SALES_change'])\n",
    "\n",
    "# Iterate through data directory\n",
    "for path in glob.iglob(REPORT_PATH):\n",
    "    file_name = path.split('/')[-1]\n",
    "    year = sec_regex.search(file_name).group(1)\n",
    "    quarter = sec_regex.search(file_name).group(2)\n",
    "    cik = sec_regex.search(file_name).group(3)\n",
    "\n",
    "    # Match file with label\n",
    "    label_row = fin_label_df.loc[(fin_label_df['cik'] == int(cik)) & \\\n",
    "                             (fin_label_df['fyearq'] == int(year)) & \\\n",
    "                             (fin_label_df['fqtr'] == int(quarter))]\n",
    "    if len(label_row) > 0:\n",
    "        # Add file content and labels to dataframe\n",
    "        with open(path, 'r') as file:\n",
    "            class_df.loc[len(class_df)] = [file.read(),\n",
    "                                           label_row.iloc[0]['oiadpq_posneg'],\n",
    "                                           label_row.iloc[0]['atq_posneg'],\n",
    "                                           label_row.iloc[0]['ceqq_posneg'],\n",
    "                                           label_row.iloc[0]['saleq_posneg'],\n",
    "                                           label_row.iloc[0]['oiadpq_change'],\n",
    "                                           label_row.iloc[0]['atq_change'],\n",
    "                                           label_row.iloc[0]['ceqq_change'],\n",
    "                                           label_row.iloc[0]['saleq_change']]\n",
    "\n",
    "print('Number of reports: %d' % len(class_df))\n",
    "class_df.head()"
   ]
  },
  {
   "cell_type": "code",
   "execution_count": 7,
   "metadata": {
    "collapsed": false
   },
   "outputs": [],
   "source": [
    "# Save data as Pickle\n",
    "with open(PICKLE_FILE, 'wb') as f:\n",
    "    pickle.dump(class_df, f, pickle.HIGHEST_PROTOCOL)"
   ]
  },
  {
   "cell_type": "code",
   "execution_count": null,
   "metadata": {
    "collapsed": true
   },
   "outputs": [],
   "source": []
  }
 ],
 "metadata": {
  "kernelspec": {
   "display_name": "Python 3",
   "language": "python",
   "name": "python3"
  },
  "language_info": {
   "codemirror_mode": {
    "name": "ipython",
    "version": 3
   },
   "file_extension": ".py",
   "mimetype": "text/x-python",
   "name": "python",
   "nbconvert_exporter": "python",
   "pygments_lexer": "ipython3",
   "version": "3.5.1"
  }
 },
 "nbformat": 4,
 "nbformat_minor": 0
}
