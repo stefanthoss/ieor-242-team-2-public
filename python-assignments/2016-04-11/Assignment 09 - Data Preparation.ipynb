{
 "cells": [
  {
   "cell_type": "markdown",
   "metadata": {
    "collapsed": true
   },
   "source": [
    "# IEOR 242 Assignment 09\n",
    "Prepare data by reading MDA extracts from files and merging them with labels. Result is saved in a Pickle file."
   ]
  },
  {
   "cell_type": "code",
   "execution_count": 1,
   "metadata": {
    "collapsed": false
   },
   "outputs": [],
   "source": [
    "import glob\n",
    "import re\n",
    "import pandas as pd\n",
    "import pickle"
   ]
  },
  {
   "cell_type": "code",
   "execution_count": 2,
   "metadata": {
    "collapsed": true
   },
   "outputs": [],
   "source": [
    "import pymysql\n",
    "from sqlalchemy import create_engine\n",
    "from sqlalchemy.dialects import mysql\n",
    "\n",
    "# Connect to team database\n",
    "engine = create_engine('mysql+pymysql://<user>:<password>@<host>[:<port>]/<dbname>')"
   ]
  },
  {
   "cell_type": "code",
   "execution_count": 3,
   "metadata": {
    "collapsed": false
   },
   "outputs": [],
   "source": [
    "# Path to MDA section files\n",
    "REPORT_PATH = 'assignment-07-report-mda/*'\n",
    "\n",
    "# Regex for parsing the file list\n",
    "sec_regex = re.compile(r'mdna_(\\d{4})_Q(\\d{1})_(\\d+)_.+_10-K_\\d{4}-\\d{2}-\\d{2}')\n",
    "\n",
    "# Path to the Pickle file\n",
    "PICKLE_FILE = 'prepared_subsector.pickle'"
   ]
  },
  {
   "cell_type": "markdown",
   "metadata": {},
   "source": [
    "## Label Loading\n",
    "Load the table with the labels."
   ]
  },
  {
   "cell_type": "code",
   "execution_count": 4,
   "metadata": {
    "collapsed": false
   },
   "outputs": [
    {
     "name": "stdout",
     "output_type": "stream",
     "text": [
      "Number of reports: 21018\n"
     ]
    },
    {
     "data": {
      "text/html": [
       "<div>\n",
       "<table border=\"1\" class=\"dataframe\">\n",
       "  <thead>\n",
       "    <tr style=\"text-align: right;\">\n",
       "      <th></th>\n",
       "      <th>cik</th>\n",
       "      <th>year</th>\n",
       "      <th>quarter</th>\n",
       "      <th>saleq</th>\n",
       "      <th>saleq_change</th>\n",
       "      <th>subsector</th>\n",
       "      <th>name</th>\n",
       "      <th>tic</th>\n",
       "    </tr>\n",
       "  </thead>\n",
       "  <tbody>\n",
       "    <tr>\n",
       "      <th>0</th>\n",
       "      <td>1800.0</td>\n",
       "      <td>2010</td>\n",
       "      <td>1</td>\n",
       "      <td>7698.354</td>\n",
       "      <td>14.64806633</td>\n",
       "      <td>35101010</td>\n",
       "      <td>ABBOTT LABORATORIES</td>\n",
       "      <td>ABT</td>\n",
       "    </tr>\n",
       "    <tr>\n",
       "      <th>1</th>\n",
       "      <td>1800.0</td>\n",
       "      <td>2010</td>\n",
       "      <td>2</td>\n",
       "      <td>8826.014</td>\n",
       "      <td>-1.716618623</td>\n",
       "      <td>35101010</td>\n",
       "      <td>ABBOTT LABORATORIES</td>\n",
       "      <td>ABT</td>\n",
       "    </tr>\n",
       "    <tr>\n",
       "      <th>2</th>\n",
       "      <td>1800.0</td>\n",
       "      <td>2010</td>\n",
       "      <td>3</td>\n",
       "      <td>8674.505</td>\n",
       "      <td>14.90970378</td>\n",
       "      <td>35101010</td>\n",
       "      <td>ABBOTT LABORATORIES</td>\n",
       "      <td>ABT</td>\n",
       "    </tr>\n",
       "    <tr>\n",
       "      <th>3</th>\n",
       "      <td>1800.0</td>\n",
       "      <td>2010</td>\n",
       "      <td>4</td>\n",
       "      <td>9967.848</td>\n",
       "      <td>-9.299880977</td>\n",
       "      <td>35101010</td>\n",
       "      <td>ABBOTT LABORATORIES</td>\n",
       "      <td>ABT</td>\n",
       "    </tr>\n",
       "    <tr>\n",
       "      <th>4</th>\n",
       "      <td>1800.0</td>\n",
       "      <td>2011</td>\n",
       "      <td>1</td>\n",
       "      <td>9040.850</td>\n",
       "      <td>6.364899318</td>\n",
       "      <td>35101010</td>\n",
       "      <td>ABBOTT LABORATORIES</td>\n",
       "      <td>ABT</td>\n",
       "    </tr>\n",
       "  </tbody>\n",
       "</table>\n",
       "</div>"
      ],
      "text/plain": [
       "      cik  year  quarter     saleq  saleq_change  subsector  \\\n",
       "0  1800.0  2010        1  7698.354   14.64806633   35101010   \n",
       "1  1800.0  2010        2  8826.014  -1.716618623   35101010   \n",
       "2  1800.0  2010        3  8674.505   14.90970378   35101010   \n",
       "3  1800.0  2010        4  9967.848  -9.299880977   35101010   \n",
       "4  1800.0  2011        1  9040.850   6.364899318   35101010   \n",
       "\n",
       "                  name  tic  \n",
       "0  ABBOTT LABORATORIES  ABT  \n",
       "1  ABBOTT LABORATORIES  ABT  \n",
       "2  ABBOTT LABORATORIES  ABT  \n",
       "3  ABBOTT LABORATORIES  ABT  \n",
       "4  ABBOTT LABORATORIES  ABT  "
      ]
     },
     "execution_count": 4,
     "metadata": {},
     "output_type": "execute_result"
    }
   ],
   "source": [
    "# Read labels from database\n",
    "fin_label_df = pd.read_sql_query('SELECT a.cik AS cik, a.fyearq AS year, a.fqtr AS quarter, a.saleq, ' \\\n",
    "                                 'a.saleq_change, b.gsubind AS subsector, b.conm AS name, b.tic ' \\\n",
    "                                 'FROM Compustat_Health_Quarterly_Sentiment_With_Change a ' \\\n",
    "                                 'JOIN Compustat_sub b ON a.cik = b.cik AND a.fyearq = b.fyear', engine)\n",
    "\n",
    "print('Number of reports: %d' % len(fin_label_df))\n",
    "fin_label_df.head()"
   ]
  },
  {
   "cell_type": "markdown",
   "metadata": {},
   "source": [
    "## Reading Files & Matching\n",
    "Read the file contents and match them to the labels."
   ]
  },
  {
   "cell_type": "code",
   "execution_count": 5,
   "metadata": {
    "collapsed": false
   },
   "outputs": [
    {
     "name": "stdout",
     "output_type": "stream",
     "text": [
      "Number of reports matched: 3625\n"
     ]
    },
    {
     "data": {
      "text/html": [
       "<div>\n",
       "<table border=\"1\" class=\"dataframe\">\n",
       "  <thead>\n",
       "    <tr style=\"text-align: right;\">\n",
       "      <th></th>\n",
       "      <th>content</th>\n",
       "      <th>cik</th>\n",
       "      <th>year</th>\n",
       "      <th>quarter</th>\n",
       "      <th>subsector</th>\n",
       "      <th>name</th>\n",
       "      <th>tic</th>\n",
       "      <th>saleq</th>\n",
       "      <th>saleq_change</th>\n",
       "    </tr>\n",
       "  </thead>\n",
       "  <tbody>\n",
       "    <tr>\n",
       "      <th>0</th>\n",
       "      <td>Item7.Management's Discussion and Analysis of ...</td>\n",
       "      <td>855654.0</td>\n",
       "      <td>2012.0</td>\n",
       "      <td>3.0</td>\n",
       "      <td>35201010.0</td>\n",
       "      <td>IMMUNOGEN INC</td>\n",
       "      <td>IMGN</td>\n",
       "      <td>3.252</td>\n",
       "      <td>-9.225092251</td>\n",
       "    </tr>\n",
       "    <tr>\n",
       "      <th>1</th>\n",
       "      <td>The following discussion and analysis provide...</td>\n",
       "      <td>788920.0</td>\n",
       "      <td>2011.0</td>\n",
       "      <td>3.0</td>\n",
       "      <td>35101010.0</td>\n",
       "      <td>PRO-DEX INC/CO</td>\n",
       "      <td>PDEX</td>\n",
       "      <td>6.876</td>\n",
       "      <td>-1.89063409</td>\n",
       "    </tr>\n",
       "    <tr>\n",
       "      <th>2</th>\n",
       "      <td>Item 7. Managements Discussion and Analysis of...</td>\n",
       "      <td>795551.0</td>\n",
       "      <td>2011.0</td>\n",
       "      <td>1.0</td>\n",
       "      <td>35101010.0</td>\n",
       "      <td>THERAGENICS CORP</td>\n",
       "      <td>TGX</td>\n",
       "      <td>20.253</td>\n",
       "      <td>6.334863971</td>\n",
       "    </tr>\n",
       "    <tr>\n",
       "      <th>3</th>\n",
       "      <td>Managements Discussion and Analysis of Financ...</td>\n",
       "      <td>352915.0</td>\n",
       "      <td>2012.0</td>\n",
       "      <td>1.0</td>\n",
       "      <td>35102020.0</td>\n",
       "      <td>UNIVERSAL HEALTH SVCS INC</td>\n",
       "      <td>UHS</td>\n",
       "      <td>1755.536</td>\n",
       "      <td>-1.882217169</td>\n",
       "    </tr>\n",
       "    <tr>\n",
       "      <th>4</th>\n",
       "      <td>MANAGEMENTS DISCUSSION AND ANALYSIS OF FINANC...</td>\n",
       "      <td>884731.0</td>\n",
       "      <td>2013.0</td>\n",
       "      <td>1.0</td>\n",
       "      <td>35201010.0</td>\n",
       "      <td>ARIAD PHARMACEUTICALS INC</td>\n",
       "      <td>ARIA</td>\n",
       "      <td>6.464</td>\n",
       "      <td>116.769802</td>\n",
       "    </tr>\n",
       "  </tbody>\n",
       "</table>\n",
       "</div>"
      ],
      "text/plain": [
       "                                             content       cik    year  \\\n",
       "0  Item7.Management's Discussion and Analysis of ...  855654.0  2012.0   \n",
       "1   The following discussion and analysis provide...  788920.0  2011.0   \n",
       "2  Item 7. Managements Discussion and Analysis of...  795551.0  2011.0   \n",
       "3   Managements Discussion and Analysis of Financ...  352915.0  2012.0   \n",
       "4   MANAGEMENTS DISCUSSION AND ANALYSIS OF FINANC...  884731.0  2013.0   \n",
       "\n",
       "   quarter   subsector                       name   tic     saleq  \\\n",
       "0      3.0  35201010.0              IMMUNOGEN INC  IMGN     3.252   \n",
       "1      3.0  35101010.0             PRO-DEX INC/CO  PDEX     6.876   \n",
       "2      1.0  35101010.0           THERAGENICS CORP   TGX    20.253   \n",
       "3      1.0  35102020.0  UNIVERSAL HEALTH SVCS INC   UHS  1755.536   \n",
       "4      1.0  35201010.0  ARIAD PHARMACEUTICALS INC  ARIA     6.464   \n",
       "\n",
       "   saleq_change  \n",
       "0  -9.225092251  \n",
       "1   -1.89063409  \n",
       "2   6.334863971  \n",
       "3  -1.882217169  \n",
       "4    116.769802  "
      ]
     },
     "execution_count": 5,
     "metadata": {},
     "output_type": "execute_result"
    }
   ],
   "source": [
    "# Dataframe with file content and labels\n",
    "class_df = pd.DataFrame(columns=['content', 'cik', 'year', 'quarter', 'subsector', 'name', 'tic',\n",
    "                                 'saleq', 'saleq_change'])\n",
    "\n",
    "# Iterate through data directory\n",
    "for path in glob.iglob(REPORT_PATH):\n",
    "    file_name = path.split('/')[-1]\n",
    "    year = sec_regex.search(file_name).group(1)\n",
    "    quarter = sec_regex.search(file_name).group(2)\n",
    "    cik = sec_regex.search(file_name).group(3)\n",
    "\n",
    "    # Match file with label\n",
    "    label_row = fin_label_df.loc[(fin_label_df['cik'] == int(cik)) & \\\n",
    "                             (fin_label_df['year'] == int(year)) & \\\n",
    "                             (fin_label_df['quarter'] == int(quarter))]\n",
    "    if len(label_row) > 0:\n",
    "        # Add file content and labels to dataframe\n",
    "        with open(path, 'r') as file:\n",
    "            class_df.loc[len(class_df)] = [file.read(),\n",
    "                                           int(label_row.iloc[0]['cik']),\n",
    "                                           int(label_row.iloc[0]['year']),\n",
    "                                           int(label_row.iloc[0]['quarter']),\n",
    "                                           int(label_row.iloc[0]['subsector']),\n",
    "                                           label_row.iloc[0]['name'],\n",
    "                                           label_row.iloc[0]['tic'],\n",
    "                                           label_row.iloc[0]['saleq'],\n",
    "                                           label_row.iloc[0]['saleq_change']]\n",
    "\n",
    "print('Number of reports matched: %d' % len(class_df))\n",
    "class_df.head()"
   ]
  },
  {
   "cell_type": "code",
   "execution_count": 6,
   "metadata": {
    "collapsed": false
   },
   "outputs": [],
   "source": [
    "# Save data as Pickle\n",
    "with open(PICKLE_FILE, 'wb') as f:\n",
    "    pickle.dump(class_df, f, pickle.HIGHEST_PROTOCOL)"
   ]
  },
  {
   "cell_type": "code",
   "execution_count": null,
   "metadata": {
    "collapsed": true
   },
   "outputs": [],
   "source": []
  }
 ],
 "metadata": {
  "kernelspec": {
   "display_name": "Python 3",
   "language": "python",
   "name": "python3"
  },
  "language_info": {
   "codemirror_mode": {
    "name": "ipython",
    "version": 3
   },
   "file_extension": ".py",
   "mimetype": "text/x-python",
   "name": "python",
   "nbconvert_exporter": "python",
   "pygments_lexer": "ipython3",
   "version": "3.5.1"
  }
 },
 "nbformat": 4,
 "nbformat_minor": 0
}
