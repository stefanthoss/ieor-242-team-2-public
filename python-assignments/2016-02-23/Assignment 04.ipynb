{
 "cells": [
  {
   "cell_type": "markdown",
   "metadata": {},
   "source": [
    "# IEOR 242 Assignment 04\n",
    "Matching of Compustat company list with SEC report files"
   ]
  },
  {
   "cell_type": "code",
   "execution_count": 1,
   "metadata": {
    "collapsed": false
   },
   "outputs": [],
   "source": [
    "import re\n",
    "import pandas as pd\n",
    "\n",
    "from extract_comp_name import extract_conm\n",
    "\n",
    "import matplotlib.pyplot as plt\n",
    "%matplotlib inline\n",
    "\n",
    "# Install the following packages: python-Levenshtein & fuzzywuzzy\n",
    "from fuzzywuzzy import fuzz"
   ]
  },
  {
   "cell_type": "code",
   "execution_count": 21,
   "metadata": {
    "collapsed": false
   },
   "outputs": [
    {
     "name": "stdout",
     "output_type": "stream",
     "text": [
      "90\n",
      "82\n"
     ]
    }
   ],
   "source": [
    "# Test the fuzzy string matching package\n",
    "print(fuzz.ratio('GERIATRIC & MEDICAL COS INC', 'GERIATRIC & MEDICAL COMPANIES INC'))\n",
    "print(fuzz.ratio('KYTHERA BIOPHARMA INC', 'KYTHERA BIOPHARMACEUTICALS INC'))"
   ]
  },
  {
   "cell_type": "code",
   "execution_count": 3,
   "metadata": {
    "collapsed": true
   },
   "outputs": [],
   "source": [
    "# Path to the file that contains the list of SEC company files within the ZIP file\n",
    "SEC_FILE = 'data/sec.list.txt'\n",
    "\n",
    "# The minimum match score of the fuzzy search\n",
    "MIN_MATCH_SCORE = 95\n",
    "\n",
    "# Words to remove from company names because they are too common\n",
    "remove_words = ['laboratories', 'pharmaceuticals', 'corp', 'inc', 'intl', 'de', 'international', 'sys', 'co',\n",
    "                'technologies', 'holdings', 'holding', 'management', 'ltd', 'health', 'biopharmaceuticals',\n",
    "                'pharma', 'sciences', 'healthcare', 'medical', 'companies', 'cos']"
   ]
  },
  {
   "cell_type": "markdown",
   "metadata": {},
   "source": [
    "## Pre-process CS list"
   ]
  },
  {
   "cell_type": "code",
   "execution_count": 4,
   "metadata": {
    "collapsed": false
   },
   "outputs": [
    {
     "name": "stdout",
     "output_type": "stream",
     "text": [
      "['AFP IMAGING CORP', 'ALPHARMA INC  -CL A', 'ABBOTT LABORATORIES', 'ACETO CORP', 'ADAC LABORATORIES', 'AEQUITRON MEDICAL INC', 'AETNA INC', 'ATRION CORP', 'ALCIDE CORP', 'TAMIR BIOTHECHNOLOGY INC']\n"
     ]
    }
   ],
   "source": [
    "# List with companie names from the Compustat file\n",
    "cs_list = extract_conm('35')\n",
    "print(cs_list[0:10])"
   ]
  },
  {
   "cell_type": "code",
   "execution_count": 5,
   "metadata": {
    "collapsed": false
   },
   "outputs": [
    {
     "name": "stdout",
     "output_type": "stream",
     "text": [
      "['afp imaging', 'alpharma cl a', 'abbott', 'aceto', 'adac', 'aequitron', 'aetna', 'atrion', 'alcide', 'tamir biothechnology']\n"
     ]
    }
   ],
   "source": [
    "# Clean the company names\n",
    "cs_list_cleaned = list(map(lambda m: ' '.join([i for i in re.sub(r'[^\\w ]+', '', m).lower().split() if i not in remove_words]),\n",
    "                           cs_list))\n",
    "print(cs_list_cleaned[0:10])"
   ]
  },
  {
   "cell_type": "markdown",
   "metadata": {},
   "source": [
    "## Pre-process SEC list"
   ]
  },
  {
   "cell_type": "code",
   "execution_count": 6,
   "metadata": {
    "collapsed": false
   },
   "outputs": [],
   "source": [
    "# Regex for parsing the SEC company file\n",
    "sec_regex = re.compile(r'./\\d{4}_Q\\d{1}_\\d+_(.+)_10-K_\\d{4}-\\d{2}-\\d{2}')"
   ]
  },
  {
   "cell_type": "code",
   "execution_count": 7,
   "metadata": {
    "collapsed": false
   },
   "outputs": [
    {
     "name": "stdout",
     "output_type": "stream",
     "text": [
      "['./1993_Q4_29082_DISNEY WALT CO_10-K_1993-12-22\\n', './1993_Q4_32377_ELIZABETHTOWN GAS CO_10-K_1993-12-13\\n', './1993_Q4_353944_INTERNATIONAL GAME TECHNOLOGY_10-K_1993-12-23\\n', './1993_Q4_861439_AMERICAN MEDICAL HOLDINGS INC_10-K_1993-11-29\\n', './1994_Q1_100240_TURNER BROADCASTING SYSTEM INC_10-K_1994-03-31\\n', './1994_Q1_100783_UNION CAMP CORP_10-K_1994-03-28\\n', './1994_Q1_100826_UNION ELECTRIC CO_10-K_1994-03-29\\n', './1994_Q1_100858_UNION LIGHT HEAT & POWER CO_10-K_1994-03-16\\n', './1994_Q1_100880_UNION OIL CO OF CALIFORNIA_10-K_1994-03-31\\n', './1994_Q1_100885_UNION PACIFIC CORP_10-K_1994-03-29\\n']\n"
     ]
    }
   ],
   "source": [
    "# Open the SEC company file and read it as a list\n",
    "with open(SEC_FILE, 'r') as f:\n",
    "    content = f.readlines()\n",
    "print(content[0:10])"
   ]
  },
  {
   "cell_type": "code",
   "execution_count": 8,
   "metadata": {
    "collapsed": false
   },
   "outputs": [
    {
     "name": "stdout",
     "output_type": "stream",
     "text": [
      "[<_sre.SRE_Match object; span=(0, 46), match='./1993_Q4_29082_DISNEY WALT CO_10-K_1993-12-22'>, <_sre.SRE_Match object; span=(0, 52), match='./1993_Q4_32377_ELIZABETHTOWN GAS CO_10-K_1993-12>, <_sre.SRE_Match object; span=(0, 62), match='./1993_Q4_353944_INTERNATIONAL GAME TECHNOLOGY_10>, <_sre.SRE_Match object; span=(0, 62), match='./1993_Q4_861439_AMERICAN MEDICAL HOLDINGS INC_10>, <_sre.SRE_Match object; span=(0, 63), match='./1994_Q1_100240_TURNER BROADCASTING SYSTEM INC_1>, <_sre.SRE_Match object; span=(0, 48), match='./1994_Q1_100783_UNION CAMP CORP_10-K_1994-03-28'>, <_sre.SRE_Match object; span=(0, 50), match='./1994_Q1_100826_UNION ELECTRIC CO_10-K_1994-03-2>, <_sre.SRE_Match object; span=(0, 60), match='./1994_Q1_100858_UNION LIGHT HEAT & POWER CO_10-K>, <_sre.SRE_Match object; span=(0, 59), match='./1994_Q1_100880_UNION OIL CO OF CALIFORNIA_10-K_>, <_sre.SRE_Match object; span=(0, 51), match='./1994_Q1_100885_UNION PACIFIC CORP_10-K_1994-03->]\n"
     ]
    }
   ],
   "source": [
    "# Apply the Regex matcher to all SEC companies to extract the actual company name\n",
    "content_matched = list(map(lambda l: sec_regex.search(l), content))\n",
    "print(content_matched[0:10])"
   ]
  },
  {
   "cell_type": "code",
   "execution_count": 9,
   "metadata": {
    "collapsed": false
   },
   "outputs": [
    {
     "name": "stdout",
     "output_type": "stream",
     "text": [
      "[('DISNEY WALT CO', './1993_Q4_29082_DISNEY WALT CO_10-K_1993-12-22'), ('ELIZABETHTOWN GAS CO', './1993_Q4_32377_ELIZABETHTOWN GAS CO_10-K_1993-12-13'), ('INTERNATIONAL GAME TECHNOLOGY', './1993_Q4_353944_INTERNATIONAL GAME TECHNOLOGY_10-K_1993-12-23'), ('AMERICAN MEDICAL HOLDINGS INC', './1993_Q4_861439_AMERICAN MEDICAL HOLDINGS INC_10-K_1993-11-29'), ('TURNER BROADCASTING SYSTEM INC', './1994_Q1_100240_TURNER BROADCASTING SYSTEM INC_10-K_1994-03-31'), ('UNION CAMP CORP', './1994_Q1_100783_UNION CAMP CORP_10-K_1994-03-28'), ('UNION ELECTRIC CO', './1994_Q1_100826_UNION ELECTRIC CO_10-K_1994-03-29'), ('UNION LIGHT HEAT & POWER CO', './1994_Q1_100858_UNION LIGHT HEAT & POWER CO_10-K_1994-03-16'), ('UNION OIL CO OF CALIFORNIA', './1994_Q1_100880_UNION OIL CO OF CALIFORNIA_10-K_1994-03-31'), ('UNION PACIFIC CORP', './1994_Q1_100885_UNION PACIFIC CORP_10-K_1994-03-29')]\n"
     ]
    }
   ],
   "source": [
    "# Transform the list with SEC company files to list of tupes with the extracted company name and the file\n",
    "sec_list = list(map(lambda m: (m.group(1).strip(), m.group(0)), content_matched))\n",
    "print(sec_list[0:10])"
   ]
  },
  {
   "cell_type": "code",
   "execution_count": 10,
   "metadata": {
    "collapsed": false
   },
   "outputs": [
    {
     "name": "stdout",
     "output_type": "stream",
     "text": [
      "[('disney walt', './1993_Q4_29082_DISNEY WALT CO_10-K_1993-12-22'), ('elizabethtown gas', './1993_Q4_32377_ELIZABETHTOWN GAS CO_10-K_1993-12-13'), ('game technology', './1993_Q4_353944_INTERNATIONAL GAME TECHNOLOGY_10-K_1993-12-23'), ('american', './1993_Q4_861439_AMERICAN MEDICAL HOLDINGS INC_10-K_1993-11-29'), ('turner broadcasting system', './1994_Q1_100240_TURNER BROADCASTING SYSTEM INC_10-K_1994-03-31'), ('union camp', './1994_Q1_100783_UNION CAMP CORP_10-K_1994-03-28'), ('union electric', './1994_Q1_100826_UNION ELECTRIC CO_10-K_1994-03-29'), ('union light heat power', './1994_Q1_100858_UNION LIGHT HEAT & POWER CO_10-K_1994-03-16'), ('union oil of california', './1994_Q1_100880_UNION OIL CO OF CALIFORNIA_10-K_1994-03-31'), ('union pacific', './1994_Q1_100885_UNION PACIFIC CORP_10-K_1994-03-29')]\n"
     ]
    }
   ],
   "source": [
    "# Clean the company names\n",
    "sec_list_cleaned = list(map(lambda m: (' '.join([i for i in re.sub(r'[^\\w ]+', '', m[0]).lower().split() if i not in remove_words]), m[1]),\n",
    "                                       sec_list))\n",
    "print(sec_list_cleaned[0:10])"
   ]
  },
  {
   "cell_type": "markdown",
   "metadata": {},
   "source": [
    "## Match the companies"
   ]
  },
  {
   "cell_type": "code",
   "execution_count": 11,
   "metadata": {
    "collapsed": true
   },
   "outputs": [],
   "source": [
    "# Create an empty pandas dataframe for the matching results\n",
    "df = pd.DataFrame(columns=['cs', 'sec', 'sec_file', 'match_score'])"
   ]
  },
  {
   "cell_type": "code",
   "execution_count": 12,
   "metadata": {
    "collapsed": false
   },
   "outputs": [],
   "source": [
    "# Iterate through all Compustat files\n",
    "for cs_company in cs_list_cleaned:\n",
    "    # Iterate through all SEC companies\n",
    "    for sec_company in sec_list_cleaned:\n",
    "        # Check whether the SEC and the Compustat company names match\n",
    "        match_score = fuzz.ratio(sec_company[0], cs_company)\n",
    "        if match_score >= MIN_MATCH_SCORE:\n",
    "            # If so, continue to the next SEC company\n",
    "            df.loc[len(df)] = [cs_company, sec_company[0], sec_company[1], match_score]\n",
    "            break"
   ]
  },
  {
   "cell_type": "code",
   "execution_count": 13,
   "metadata": {
    "collapsed": false
   },
   "outputs": [
    {
     "data": {
      "text/html": [
       "<div>\n",
       "<table border=\"1\" class=\"dataframe\">\n",
       "  <thead>\n",
       "    <tr style=\"text-align: right;\">\n",
       "      <th></th>\n",
       "      <th>cs</th>\n",
       "      <th>sec</th>\n",
       "      <th>sec_file</th>\n",
       "      <th>match_score</th>\n",
       "    </tr>\n",
       "  </thead>\n",
       "  <tbody>\n",
       "    <tr>\n",
       "      <th>0</th>\n",
       "      <td>afp imaging</td>\n",
       "      <td>afp imaging</td>\n",
       "      <td>./1998_Q3_319126_AFP IMAGING CORP_10-K_1998-09-28</td>\n",
       "      <td>100</td>\n",
       "    </tr>\n",
       "    <tr>\n",
       "      <th>1</th>\n",
       "      <td>abbott</td>\n",
       "      <td>abbott</td>\n",
       "      <td>./1994_Q1_1800_ABBOTT LABORATORIES_10-K_1994-0...</td>\n",
       "      <td>100</td>\n",
       "    </tr>\n",
       "    <tr>\n",
       "      <th>2</th>\n",
       "      <td>aceto</td>\n",
       "      <td>aceto</td>\n",
       "      <td>./1995_Q3_2034_ACETO CORP_10-K_1995-09-27</td>\n",
       "      <td>100</td>\n",
       "    </tr>\n",
       "    <tr>\n",
       "      <th>3</th>\n",
       "      <td>adac</td>\n",
       "      <td>adac</td>\n",
       "      <td>./1996_Q4_313798_ADAC LABORATORIES_10-K_1996-1...</td>\n",
       "      <td>100</td>\n",
       "    </tr>\n",
       "    <tr>\n",
       "      <th>4</th>\n",
       "      <td>aequitron</td>\n",
       "      <td>aequitron</td>\n",
       "      <td>./1995_Q3_736970_AEQUITRON MEDICAL INC_10-K_19...</td>\n",
       "      <td>100</td>\n",
       "    </tr>\n",
       "    <tr>\n",
       "      <th>5</th>\n",
       "      <td>aetna</td>\n",
       "      <td>aetna</td>\n",
       "      <td>./1997_Q1_1013761_AETNA INC_10-K_1997-02-28</td>\n",
       "      <td>100</td>\n",
       "    </tr>\n",
       "    <tr>\n",
       "      <th>6</th>\n",
       "      <td>atrion</td>\n",
       "      <td>atrion</td>\n",
       "      <td>./2000_Q1_701288_ATRION CORP_10-K_2000-03-29</td>\n",
       "      <td>100</td>\n",
       "    </tr>\n",
       "    <tr>\n",
       "      <th>7</th>\n",
       "      <td>alcide</td>\n",
       "      <td>alcide</td>\n",
       "      <td>./1995_Q3_708484_ALCIDE CORP_10-K_1995-08-23</td>\n",
       "      <td>100</td>\n",
       "    </tr>\n",
       "    <tr>\n",
       "      <th>8</th>\n",
       "      <td>tamir biothechnology</td>\n",
       "      <td>tamir biotechnology</td>\n",
       "      <td>./2010_Q4_708717_Tamir Biotechnology, Inc._10-...</td>\n",
       "      <td>97</td>\n",
       "    </tr>\n",
       "    <tr>\n",
       "      <th>9</th>\n",
       "      <td>alza</td>\n",
       "      <td>alza</td>\n",
       "      <td>./1994_Q1_4310_ALZA CORP_10-K_1994-03-31</td>\n",
       "      <td>100</td>\n",
       "    </tr>\n",
       "    <tr>\n",
       "      <th>10</th>\n",
       "      <td>american cyanamid</td>\n",
       "      <td>american cyanamid</td>\n",
       "      <td>./1994_Q1_4829_AMERICAN CYANAMID CO_10-K_1994-...</td>\n",
       "      <td>100</td>\n",
       "    </tr>\n",
       "    <tr>\n",
       "      <th>11</th>\n",
       "      <td>american cytogenetics</td>\n",
       "      <td>american cytogenetics</td>\n",
       "      <td>./1996_Q2_4833_AMERICAN CYTOGENETICS INC_10-K_...</td>\n",
       "      <td>100</td>\n",
       "    </tr>\n",
       "    <tr>\n",
       "      <th>12</th>\n",
       "      <td>wyeth</td>\n",
       "      <td>wyeth</td>\n",
       "      <td>./2003_Q1_5187_WYETH_10-K_2003-03-31</td>\n",
       "      <td>100</td>\n",
       "    </tr>\n",
       "    <tr>\n",
       "      <th>13</th>\n",
       "      <td>american alert</td>\n",
       "      <td>american alert</td>\n",
       "      <td>./2007_Q2_700721_AMERICAN MEDICAL ALERT CORP_1...</td>\n",
       "      <td>100</td>\n",
       "    </tr>\n",
       "    <tr>\n",
       "      <th>14</th>\n",
       "      <td>amgen</td>\n",
       "      <td>amgen</td>\n",
       "      <td>./1995_Q1_318154_AMGEN INC_10-K_1995-03-30</td>\n",
       "      <td>100</td>\n",
       "    </tr>\n",
       "    <tr>\n",
       "      <th>15</th>\n",
       "      <td>analogic</td>\n",
       "      <td>analogic</td>\n",
       "      <td>./1994_Q4_6284_ANALOGIC CORP_10-K_1994-10-20</td>\n",
       "      <td>100</td>\n",
       "    </tr>\n",
       "    <tr>\n",
       "      <th>16</th>\n",
       "      <td>dialysis of america</td>\n",
       "      <td>dialysis of america</td>\n",
       "      <td>./1999_Q1_201653_DIALYSIS CORP OF AMERICA_10-K...</td>\n",
       "      <td>100</td>\n",
       "    </tr>\n",
       "    <tr>\n",
       "      <th>17</th>\n",
       "      <td>ballard products</td>\n",
       "      <td>ballard products</td>\n",
       "      <td>./1994_Q4_723534_BALLARD MEDICAL PRODUCTS_10-K...</td>\n",
       "      <td>100</td>\n",
       "    </tr>\n",
       "    <tr>\n",
       "      <th>18</th>\n",
       "      <td>baxter</td>\n",
       "      <td>baxter</td>\n",
       "      <td>./1994_Q1_10456_BAXTER INTERNATIONAL INC_10-K_...</td>\n",
       "      <td>100</td>\n",
       "    </tr>\n",
       "    <tr>\n",
       "      <th>19</th>\n",
       "      <td>becton dickinson</td>\n",
       "      <td>becton dickinson</td>\n",
       "      <td>./1994_Q4_10795_BECTON DICKINSON &amp; CO_10-K_199...</td>\n",
       "      <td>100</td>\n",
       "    </tr>\n",
       "    <tr>\n",
       "      <th>20</th>\n",
       "      <td>beverly enterprises</td>\n",
       "      <td>beverly enterprises</td>\n",
       "      <td>./1994_Q1_812305_BEVERLY ENTERPRISES INC -DE-_...</td>\n",
       "      <td>100</td>\n",
       "    </tr>\n",
       "    <tr>\n",
       "      <th>21</th>\n",
       "      <td>savient</td>\n",
       "      <td>savient</td>\n",
       "      <td>./2004_Q1_722104_SAVIENT PHARMACEUTICALS INC_1...</td>\n",
       "      <td>100</td>\n",
       "    </tr>\n",
       "    <tr>\n",
       "      <th>22</th>\n",
       "      <td>biochem</td>\n",
       "      <td>biochem</td>\n",
       "      <td>./1998_Q3_312833_BIOCHEM INTERNATIONAL INC_10-...</td>\n",
       "      <td>100</td>\n",
       "    </tr>\n",
       "    <tr>\n",
       "      <th>23</th>\n",
       "      <td>biocraft</td>\n",
       "      <td>biocraft</td>\n",
       "      <td>./1994_Q3_763043_BIOCRAFT LABORATORIES INC_10-...</td>\n",
       "      <td>100</td>\n",
       "    </tr>\n",
       "    <tr>\n",
       "      <th>24</th>\n",
       "      <td>biomet</td>\n",
       "      <td>biomet</td>\n",
       "      <td>./1994_Q3_351346_BIOMET INC_10-K_1994-08-23</td>\n",
       "      <td>100</td>\n",
       "    </tr>\n",
       "  </tbody>\n",
       "</table>\n",
       "</div>"
      ],
      "text/plain": [
       "                       cs                    sec  \\\n",
       "0             afp imaging            afp imaging   \n",
       "1                  abbott                 abbott   \n",
       "2                   aceto                  aceto   \n",
       "3                    adac                   adac   \n",
       "4               aequitron              aequitron   \n",
       "5                   aetna                  aetna   \n",
       "6                  atrion                 atrion   \n",
       "7                  alcide                 alcide   \n",
       "8    tamir biothechnology    tamir biotechnology   \n",
       "9                    alza                   alza   \n",
       "10      american cyanamid      american cyanamid   \n",
       "11  american cytogenetics  american cytogenetics   \n",
       "12                  wyeth                  wyeth   \n",
       "13         american alert         american alert   \n",
       "14                  amgen                  amgen   \n",
       "15               analogic               analogic   \n",
       "16    dialysis of america    dialysis of america   \n",
       "17       ballard products       ballard products   \n",
       "18                 baxter                 baxter   \n",
       "19       becton dickinson       becton dickinson   \n",
       "20    beverly enterprises    beverly enterprises   \n",
       "21                savient                savient   \n",
       "22                biochem                biochem   \n",
       "23               biocraft               biocraft   \n",
       "24                 biomet                 biomet   \n",
       "\n",
       "                                             sec_file  match_score  \n",
       "0   ./1998_Q3_319126_AFP IMAGING CORP_10-K_1998-09-28          100  \n",
       "1   ./1994_Q1_1800_ABBOTT LABORATORIES_10-K_1994-0...          100  \n",
       "2           ./1995_Q3_2034_ACETO CORP_10-K_1995-09-27          100  \n",
       "3   ./1996_Q4_313798_ADAC LABORATORIES_10-K_1996-1...          100  \n",
       "4   ./1995_Q3_736970_AEQUITRON MEDICAL INC_10-K_19...          100  \n",
       "5         ./1997_Q1_1013761_AETNA INC_10-K_1997-02-28          100  \n",
       "6        ./2000_Q1_701288_ATRION CORP_10-K_2000-03-29          100  \n",
       "7        ./1995_Q3_708484_ALCIDE CORP_10-K_1995-08-23          100  \n",
       "8   ./2010_Q4_708717_Tamir Biotechnology, Inc._10-...           97  \n",
       "9            ./1994_Q1_4310_ALZA CORP_10-K_1994-03-31          100  \n",
       "10  ./1994_Q1_4829_AMERICAN CYANAMID CO_10-K_1994-...          100  \n",
       "11  ./1996_Q2_4833_AMERICAN CYTOGENETICS INC_10-K_...          100  \n",
       "12               ./2003_Q1_5187_WYETH_10-K_2003-03-31          100  \n",
       "13  ./2007_Q2_700721_AMERICAN MEDICAL ALERT CORP_1...          100  \n",
       "14         ./1995_Q1_318154_AMGEN INC_10-K_1995-03-30          100  \n",
       "15       ./1994_Q4_6284_ANALOGIC CORP_10-K_1994-10-20          100  \n",
       "16  ./1999_Q1_201653_DIALYSIS CORP OF AMERICA_10-K...          100  \n",
       "17  ./1994_Q4_723534_BALLARD MEDICAL PRODUCTS_10-K...          100  \n",
       "18  ./1994_Q1_10456_BAXTER INTERNATIONAL INC_10-K_...          100  \n",
       "19  ./1994_Q4_10795_BECTON DICKINSON & CO_10-K_199...          100  \n",
       "20  ./1994_Q1_812305_BEVERLY ENTERPRISES INC -DE-_...          100  \n",
       "21  ./2004_Q1_722104_SAVIENT PHARMACEUTICALS INC_1...          100  \n",
       "22  ./1998_Q3_312833_BIOCHEM INTERNATIONAL INC_10-...          100  \n",
       "23  ./1994_Q3_763043_BIOCRAFT LABORATORIES INC_10-...          100  \n",
       "24        ./1994_Q3_351346_BIOMET INC_10-K_1994-08-23          100  "
      ]
     },
     "execution_count": 13,
     "metadata": {},
     "output_type": "execute_result"
    }
   ],
   "source": [
    "df.head(25)"
   ]
  },
  {
   "cell_type": "code",
   "execution_count": 14,
   "metadata": {
    "collapsed": false
   },
   "outputs": [
    {
     "data": {
      "text/plain": [
       "count    1665.000000\n",
       "mean       99.902102\n",
       "std         0.630287\n",
       "min        95.000000\n",
       "25%       100.000000\n",
       "50%       100.000000\n",
       "75%       100.000000\n",
       "max       100.000000\n",
       "Name: match_score, dtype: float64"
      ]
     },
     "execution_count": 14,
     "metadata": {},
     "output_type": "execute_result"
    }
   ],
   "source": [
    "# Match score statistics\n",
    "df['match_score'].describe()"
   ]
  },
  {
   "cell_type": "code",
   "execution_count": 15,
   "metadata": {
    "collapsed": false
   },
   "outputs": [
    {
     "data": {
      "text/plain": [
       "array([[<matplotlib.axes._subplots.AxesSubplot object at 0x7fa0de605668>]], dtype=object)"
      ]
     },
     "execution_count": 15,
     "metadata": {},
     "output_type": "execute_result"
    },
    {
     "data": {
      "image/png": "[encoded data removed]",
      "text/plain": [
       "<matplotlib.figure.Figure at 0x7fa0e51e56d8>"
      ]
     },
     "metadata": {},
     "output_type": "display_data"
    }
   ],
   "source": [
    "# Match score histogram\n",
    "df.hist(column=['match_score'])"
   ]
  },
  {
   "cell_type": "code",
   "execution_count": 16,
   "metadata": {
    "collapsed": false
   },
   "outputs": [
    {
     "data": {
      "text/html": [
       "<div>\n",
       "<table border=\"1\" class=\"dataframe\">\n",
       "  <thead>\n",
       "    <tr style=\"text-align: right;\">\n",
       "      <th></th>\n",
       "      <th>cs</th>\n",
       "      <th>sec</th>\n",
       "      <th>sec_file</th>\n",
       "      <th>match_score</th>\n",
       "    </tr>\n",
       "  </thead>\n",
       "  <tbody>\n",
       "    <tr>\n",
       "      <th>261</th>\n",
       "      <td>horizoncms</td>\n",
       "      <td>horizon cms</td>\n",
       "      <td>./1996_Q3_806151_HORIZON CMS HEALTHCARE CORP_1...</td>\n",
       "      <td>95</td>\n",
       "    </tr>\n",
       "    <tr>\n",
       "      <th>616</th>\n",
       "      <td>cybercare</td>\n",
       "      <td>cyber care</td>\n",
       "      <td>./2002_Q2_887904_CYBER CARE INC_10-K_2002-04-15</td>\n",
       "      <td>95</td>\n",
       "    </tr>\n",
       "    <tr>\n",
       "      <th>658</th>\n",
       "      <td>ruralmetro</td>\n",
       "      <td>rural metro</td>\n",
       "      <td>./1997_Q3_906326_RURAL METRO CORP -DE-_10-K_19...</td>\n",
       "      <td>95</td>\n",
       "    </tr>\n",
       "    <tr>\n",
       "      <th>710</th>\n",
       "      <td>bioplexus</td>\n",
       "      <td>bio plexus</td>\n",
       "      <td>./1997_Q2_865532_BIO PLEXUS INC_10-K_1997-04-15</td>\n",
       "      <td>95</td>\n",
       "    </tr>\n",
       "    <tr>\n",
       "      <th>728</th>\n",
       "      <td>imaging diagnostic systems</td>\n",
       "      <td>imaging diagnostic systems fl</td>\n",
       "      <td>./2004_Q3_790652_IMAGING DIAGNOSTIC SYSTEMS IN...</td>\n",
       "      <td>95</td>\n",
       "    </tr>\n",
       "    <tr>\n",
       "      <th>751</th>\n",
       "      <td>plan vista</td>\n",
       "      <td>planvista</td>\n",
       "      <td>./2002_Q2_942319_PLANVISTA CORP_10-K_2002-04-16</td>\n",
       "      <td>95</td>\n",
       "    </tr>\n",
       "    <tr>\n",
       "      <th>759</th>\n",
       "      <td>spinetech</td>\n",
       "      <td>spine tech</td>\n",
       "      <td>./1997_Q1_889842_SPINE TECH INC_10-K_1997-03-31</td>\n",
       "      <td>95</td>\n",
       "    </tr>\n",
       "    <tr>\n",
       "      <th>765</th>\n",
       "      <td>biomedical technology soltns</td>\n",
       "      <td>biomedical technology solutions</td>\n",
       "      <td>./2009_Q2_1443062_BIOMEDICAL TECHNOLOGY SOLUTI...</td>\n",
       "      <td>95</td>\n",
       "    </tr>\n",
       "    <tr>\n",
       "      <th>961</th>\n",
       "      <td>revolutions</td>\n",
       "      <td>evolutions</td>\n",
       "      <td>./1997_Q3_1009326_EVOLUTIONS INC_10-K_1997-09-22</td>\n",
       "      <td>95</td>\n",
       "    </tr>\n",
       "    <tr>\n",
       "      <th>1027</th>\n",
       "      <td>allergan spclty therapeutics</td>\n",
       "      <td>allergan specialty therapeutics</td>\n",
       "      <td>./2001_Q1_1049711_ALLERGAN SPECIALTY THERAPEUT...</td>\n",
       "      <td>95</td>\n",
       "    </tr>\n",
       "    <tr>\n",
       "      <th>1040</th>\n",
       "      <td>eyecitycom</td>\n",
       "      <td>eyecity com</td>\n",
       "      <td>./2002_Q2_1096337_EYECITY COM INC_10-K_2002-04-01</td>\n",
       "      <td>95</td>\n",
       "    </tr>\n",
       "    <tr>\n",
       "      <th>1236</th>\n",
       "      <td>healthetech</td>\n",
       "      <td>healthtech</td>\n",
       "      <td>./1997_Q1_876889_HEALTHTECH INTERNATIONAL INC_...</td>\n",
       "      <td>95</td>\n",
       "    </tr>\n",
       "    <tr>\n",
       "      <th>1257</th>\n",
       "      <td>oncovista innovative therap</td>\n",
       "      <td>oncovista innovative therapies</td>\n",
       "      <td>./2009_Q1_1094847_ONCOVISTA INNOVATIVE THERAPI...</td>\n",
       "      <td>95</td>\n",
       "    </tr>\n",
       "    <tr>\n",
       "      <th>1346</th>\n",
       "      <td>adams respiratory theraptcs</td>\n",
       "      <td>adams respiratory therapeutics</td>\n",
       "      <td>./2005_Q3_1319439_Adams Respiratory Therapeuti...</td>\n",
       "      <td>95</td>\n",
       "    </tr>\n",
       "  </tbody>\n",
       "</table>\n",
       "</div>"
      ],
      "text/plain": [
       "                                cs                              sec  \\\n",
       "261                     horizoncms                      horizon cms   \n",
       "616                      cybercare                       cyber care   \n",
       "658                     ruralmetro                      rural metro   \n",
       "710                      bioplexus                       bio plexus   \n",
       "728     imaging diagnostic systems    imaging diagnostic systems fl   \n",
       "751                     plan vista                        planvista   \n",
       "759                      spinetech                       spine tech   \n",
       "765   biomedical technology soltns  biomedical technology solutions   \n",
       "961                    revolutions                       evolutions   \n",
       "1027  allergan spclty therapeutics  allergan specialty therapeutics   \n",
       "1040                    eyecitycom                      eyecity com   \n",
       "1236                   healthetech                       healthtech   \n",
       "1257   oncovista innovative therap   oncovista innovative therapies   \n",
       "1346   adams respiratory theraptcs   adams respiratory therapeutics   \n",
       "\n",
       "                                               sec_file  match_score  \n",
       "261   ./1996_Q3_806151_HORIZON CMS HEALTHCARE CORP_1...           95  \n",
       "616     ./2002_Q2_887904_CYBER CARE INC_10-K_2002-04-15           95  \n",
       "658   ./1997_Q3_906326_RURAL METRO CORP -DE-_10-K_19...           95  \n",
       "710     ./1997_Q2_865532_BIO PLEXUS INC_10-K_1997-04-15           95  \n",
       "728   ./2004_Q3_790652_IMAGING DIAGNOSTIC SYSTEMS IN...           95  \n",
       "751     ./2002_Q2_942319_PLANVISTA CORP_10-K_2002-04-16           95  \n",
       "759     ./1997_Q1_889842_SPINE TECH INC_10-K_1997-03-31           95  \n",
       "765   ./2009_Q2_1443062_BIOMEDICAL TECHNOLOGY SOLUTI...           95  \n",
       "961    ./1997_Q3_1009326_EVOLUTIONS INC_10-K_1997-09-22           95  \n",
       "1027  ./2001_Q1_1049711_ALLERGAN SPECIALTY THERAPEUT...           95  \n",
       "1040  ./2002_Q2_1096337_EYECITY COM INC_10-K_2002-04-01           95  \n",
       "1236  ./1997_Q1_876889_HEALTHTECH INTERNATIONAL INC_...           95  \n",
       "1257  ./2009_Q1_1094847_ONCOVISTA INNOVATIVE THERAPI...           95  \n",
       "1346  ./2005_Q3_1319439_Adams Respiratory Therapeuti...           95  "
      ]
     },
     "execution_count": 16,
     "metadata": {},
     "output_type": "execute_result"
    }
   ],
   "source": [
    "# Show the worst matchings\n",
    "df[df['match_score'] == df['match_score'].min()]"
   ]
  },
  {
   "cell_type": "code",
   "execution_count": 19,
   "metadata": {
    "collapsed": false
   },
   "outputs": [
    {
     "name": "stdout",
     "output_type": "stream",
     "text": [
      "Number of CS companies: 3039\n",
      "Number of SEC companies: 153734\n",
      "Percentage matched: 0.5491938137545245\n"
     ]
    }
   ],
   "source": [
    "# List unmatched companies\n",
    "print(\"Number of CS companies:\", len(cs_list_cleaned))\n",
    "print(\"Number of SEC companies:\", len(sec_list_cleaned))\n",
    "unmatched = set(cs_list_cleaned) - set(df['cs'].tolist())\n",
    "print(\"Percentage matched:\", (len(cs_list_cleaned) - len(unmatched)) / len(cs_list_cleaned))"
   ]
  },
  {
   "cell_type": "code",
   "execution_count": 20,
   "metadata": {
    "collapsed": false
   },
   "outputs": [
    {
     "name": "stdout",
     "output_type": "stream",
     "text": [
      "{'', 'primus therapeutics redh', 'virobay redh', 'hyal pharmaceutical cp', 'alsius redh', 'marquette', 'transitional hospitals cp', 'anthem insurance', 'meldex plc', 'clinicor', 'lumena redh', 'ndl products', 'symbion', 'ondine biomedical', 'imar', 'alliance svcs', 'allon therapeutics', 'trillium therapeutics', 'aurora diagnostics redh', 'led diagnostics', 'regenxbio', 'medisys group incm fd', 'icon plc', 'national dentex', 'berman center', 'abviva', 'cerner', 'neurobiological techn', 'ore', 'gull', 'amerihealth incde', 'novartis ag', 'home nutritional svcs', 'complete wellness ctrs', 'chemical dependency hlthcare', 'amarin', 'allou', 'acclarent redh', 'cyclopss', 'medquest associates', 'meris', 'mindray', 'viratek', 'biotie therapies', 'medphone', 'pharmaceutical prod dev', 'bostwick laboratoriesredh', 'arterial vascular engr', 'singulex incredh', 'cl a', 'picis redh', 'sinofresh', 'arius research', 'integ', 'world alternatives', 'juno therapeutics', 'ophectra real estate inv', 'q therapeutics redh', 'transcend therapeutics', 'healthport redh', 'casi', 'mentor', 'physio technology', 'sygnis ag', 'quantrx biomedical cp', 'synovis life tech', 'crescendo pharm cl a', 'iaso incredh', 'infutech', 'monarch staffing', 'accessity', 'viral response systems', 'photomedex incold', 'prima biomed', 'integra lifesciences hldgs', 'quantum resources', 'altarex', 'biocardia redh', 'lipidviro tech old', 'glycodesign', 'jaguar animal', 'bausch lomb hldgs redh', 'ballistivet', 'housecall res', 'stentor incredh', 'xomed surgical prods', 'cardiomems redh', 'xenon', 'matinas biopharma hldgs', 'evision', 'ambrx incredh', 'rubicon', 'viagene', 'surgery partners', 'damon group', 'alternative technology res', 'homecall', 'wound tech', 'quantech', 'optex biomedical', 'retirement care assoc', 'healthtrust incthe hsptl', 'axm', 'claimsnetcom old', 'endovascular tech', 'instrumentarium', 'antex biologics', 'bouton', 'syntro', 'proteon therapeutics', 'entropin', 'tm bioscience', 'collagen aesthetic', 'flex', 'careline', 'visionsciences', 'mitokor redh', 'perse', 'krelitz industries', 'ulthera redh', 'sientra', 'emphasys incredh', 'surgical care affiliatesold', 'cryocell', 'inovalon', 'aimmune therapeutics', 'nexthealth', 'comprehensive med dgnstcs', 'afexa life', 'advanced interventional', 'printron', 'ardea biosciences', 'medstat group', 'nano mobile', 'valeritas redh', 'merck serono sa', 'acasti', 'henley', 'summit', 'cardiocomm solutions', 'greenway tech', 'minerva neurosciences', 'lifestream', 'millenium biologix', 'perseon', 'allied prods', 'orapharma', 'tribute cdn', 'zafgen', 'apollo eye group', 'neozyme', 'xcel redh', 'novogen', 'xstream systems redh', 'evolved digital systems', 'abeona therapeutics', 'synova groupredh', 't2', 'utd payorsutd providers', 'rewalk robotics', 'technilab', 'scherer r pde', 'trupanion', 'nomos redh', 'anaptysbio redh', 'avalanche biotechnologies', 'geno redh', 'lantheus', 'optomedic tech', 'aclaris therapeutics', 'community transport', 'acelity redh', 'first amer concepts', 'insys therapeutics incredh', 'hospital staffing svcs', 'medtronic plc', 'echocath cl a', 'inverness technolgy', 'american hospital mgmt', 'diversicare svcs', 'medcohealth solutions redh', 'foamix', 'sunpharm', 'acerus', 'centric', 'durrfillauer', 'simcere pharmactcl grp adr', 'dentsply internatl', 'celsci', 'uroquest', 'critical care amer', 'remsleep', 'agennix ag', 'biophage', 'viveve', 'biomerge industries', 'labone incold', 'priority cp cl b', 'safestitch incold', 'sterile concepts', 'crucell nv', 'genzyme corpconsolidated', 'exceltech', 'aquinox', 'integracare', 'xtrana', 'stone supply', 'asante solutions redh', 'cortex', 'cryocath', 'reliant tech incredh', 'transcription billng', 'shire acquisition', 'essa', 'athena diagnostics incred h', 'elixir redh', 'triple g systems group', 'pediatric svcs america', 'china hospitals redh', 'geriatric cos', 'allergan ligand retnd therap', 'american med labrtrs redh', 'university general hlth', 'aurinia', 'american healthchoice', 'patch plc adr', 'anormed', 'cardiotronics systems', 'prometic life', 'concert pharmaceuticls', 'ocular therapeutix', 'american complex care', 'rhythm pharmaceuticls redh', 'cardiovascular imaging', 'aramed', 'sage therapeutics', 'receptech', 'bayer schering ag', 'oasmia pharmaceutical ab', 'universal std', 'lifetime', 'source scientific', 'future', 'non invasive monitor', 'bellerophon therapeutics', 'biorad', 'epix pharmacueticals', 'esperion therapeuticsold', 'axsome therapeutics redh', 'teladoc', 'everest svc', 'greenery rehabilitation grp', 'monogen', 'par pharmaceutcl hldgs redh', 'univax biologics', 'prospect hldgs', 'fas', 'ico therapeutics', 'sembiosys genetics', 'rightchoice mgd care', 'fuse', 'medworxx solutions', 'audioscience', 'starlims', 'healthessentials soltnsredh', 'relife cl a', 'plastic surgery', 'microtek hldgs', 'premd', 'morgan', 'integrated living cmntys', 'corindus vascular robotics', 'conmed mgmt', 'klox redh', 'americare scan', 'halis', 'quark redh', 'total pharmaceut care', 'xtant', 'tonix hldg', 'china cord blood', 'nichols institute', 'biosyntech', 'diagnocure', 'applied immune sciencesde', 'myokardia redh', 'vertical solutns', 'ergoresearch', 'care america', 'vasamed', 'viking therapeutics', 'easton', 'pavmed redh', 'diversified senior services', 'sqi diagnostics', 'bioline rx', 'advanced life science hldgs', 'medeva plc', 'corus incredh', 'wellcome plc', 'global energy resources', 'millipore microelectronics', 'cardiovascular', 'bioasis', 'biacore ab', 'orthometrix', 'compare generiks', 'advanced tissue sci cl a', 'lev scientific inds', 'vision ten', 'senetek plc old', 'dermtech redh', 'neozyme ii', 'centerpulse ag', 'dahlberg', 'dipexium', 'bio blast', 'k v pharmaceutical cl a', 'axogen adr', 'celltech group plc', 'medmira', 'home amer', 'adeptus', 'tandem care redh', 'astra ab', 'biosafety systems', 'resverlogix', 'atara biotherapeutics', 'genzyme biosurgery', 'bard cr', 'roka bioscience', 'advantage', 'cellegy old', 'intelligent polymers', 'occupational med amer', 'diadexus incold', 'synthemed incold', 'atyr', 'nightingale informatix', 'juniper', 'just like home', '21st century oncology hldgs', 'diagnostic instr', 'trinity biotech plc', 'merus labs', 'celyad sa', 'oncogenex redh', 'kinemed redh', 'fresenius care agco', 'allscripts hlthcr soltnsold', 'biospecifics cp', 'summit care', 'summit therapeutics plc', 'mallinckrodt', 'neurotech development', 'hoechst ag', 'pml', 'dance biopharm incredh', 'canopy growth', 'aptose biosciences', 't2 biosystems', 'versartis', 'cytomx therapeutics', 'futuremed prod cp', 'opmedic group', 'capnia', 'genetic therapy', 'fv', 'nordion', 'corgentech incold', 'venturi ventures', 'r2 technology', 'bio lok', 'athersys', 'corbus hldgs', 'palomar med', 'pure world', 'pozen', 'medovex', 'cardiome', 'k2m group', 'neurosigma redh', 'presbia plc', 'provantage svcs', 'integrated resources', 'ig', 'flamel sa adr', 'tender loving care hlth svcs', 'pharmedium redh', 'anthera pharmaceutcls', 'fisons plc', 'boron lepore assocs', 'bioceres sa adr redh', 'immune design', 'advanced orthopedic tech', 'albany molecular resh', 'nexvet biopharma plc', 'promis neurosciences', 'interpharm labs ord', 'boston pacific med', 'warnex', 'xtl', 'benechill redh', 'telesta therapeutics', 'bradmer', 'genenews', 'alcon', 'newsummit biopharmaadrredh', 'manor care incold', 'cellmetrix', 'amersham plc', 'angion biomedica corpredh', 'biodental', 'emergensys', 'audeo oncology redh', 'home intensive care incfl', 'intec', 'caraco pharmaceutical labs', 'trivascular', 'company doctor', 'diagnostic svcs', 'neovasc', 'damon', 'eyetel imaging incredh', 'chemtrak', 'biosurface technology', 'medbox', 'west pharmaceutical svsc', 'medplus incoh', 'caribbean amern hlth resorts', 'imaging ctrs of amer', 'option care', 'ardelyx', 'protide', 'forward as adr', 'genetics institute', 'healthinfusion', 'preferred care', 'graham field pds', 'innocoll ag adr', 'u s products', 'plx redh', 'vha enterprises cl b', 'forticell bioscience', 'cogentix', 'second sight prods', 'kirschner', 'viewray redh', 'endochoice', 'caladrius biosciences', 'dbv', 'sibia neurosciences', 'axim biotechnologies', 'medex corpredh', 'invuity', 'jacobson resonance entprses', 'healthtek', 'kempharm', 'genemedicine', 'multicare cos', 'fralex therapeutics', 'applied biosystems old', 'sanofi', 'world diagnostics', 'neogenesis', 'pharmaciaabundna', 'grifols sa', 'ribogene', 'asthmatx redh', 'power spectra', 'advancement svcs', 'birtcher systems', 'nellcor puritan bennett', 'lancer orthodontics', 'compbenefits redh', 'affimed nv', 'argent capital', 'cholestech', 'epic group', 'rock creek', 'diagnostic imaging svcs', 'infrasonics', 'corgenix', 'nevro', 'laser industries', 'telzuit tech', 'conformis', 'oncormed', 'strongbridge biopharma plc', 'aldagen redh', 'gemini genomics plc adr', 'prometheus rxdx redh', 'civitas therapeutics redh', 'vendell', 'rigo spa adr', 'china forgen redh', 'sinovac biotech', 'montana naturals', 'ostex', 'block drug cl a', 'checkcap', 'perlegen redh', 'medcomsoft', 'biora ab', 'relmada therapeutics', 'bionumerik redh', 'matrix pharmaceutical', 'medjet', 'ambrilia biopharma', 'microholdings us', 'premier laser systems cl a', 'infraredx redh', 'providence care', 'telik old', 'medgen', 'intarcia therapeutics redh', 'proqr therapeutics nv', 'allied clinical labs', 'cellomics', 'akela', 'electromedics', 'vg life', 'peninsula incredh', 'coventry care cl a', 'bradley pharmaceuticl cl a', 'phenomix corpredh', 'orion healthcorp', 'patient home monitoring', 'xenova group plc', 'dr reddys', 'basic american', 'biosearch prods', 'mirna therapeutics', 'sonomed', 'smith nephew plc', 'integrated svcs', 'pacific rehab sports med', 'lombard tech plc', 'zenith', 'zecotek photonics', 'mazor robotics', 'bergen brunswig cl a', 'nicolet instrument', 'lark', 'smithkline beecham uk plc', 'amer', 'imcor pharmaceutical', 'my healthy access', 'helix biopharma', 'skyepharma plc', 'cantab plc', 'embryo development', 'wright group nv', 'polypid redh', 'princeton diagnostic labs', 'alert bc', 'mitek surgical products', 'medrad', 'healthequity', 'syneron', 'innovative drug delivery', 'seaspine', 'chartwell retirement resid', 'icu', 'safetek', 'visible genetics', 'base ten systems cl a', 'dna', 'royce', 'merrion', 'assoc', 'marsam', 'icn old', 'pacific physician services', 'conjuchem biotech', 'demegen', 'houston biotechnology', 'peer review mediation arb', 'gensight biologics adrredh', 'omthera', 'advanced accl app adr redh', 'mediplex group', 'inamco', 'uti', 'docplanetcom', 'concord svcs adr', 'joint the', 'laboratory specialists amer', 'applera corpconsolidated', 'glycotex redh', 'flagship global', 'orbus', 'mabvax therapeutics hldgs', 'rotary power', 'id biomedical', 'laboratory cp of amer hldgs', 'univec', 'spark therapeutics', 'neolens', 'norwestech old', 'quture', 'transmedics incredh', 'surgical laser tech', 'ceres ventures incold', 'medicis pharmaceut cp cl a', 'wendtbristol svc cp', 'genprobe', 'cardiodx redh', 'healthdyne', 'professional sports care mgm', 'progenics pharmaceutical', 'viamet pharmactcls hldredh', 'american surgery centers cp', 'spanamerica', 'crown marketing old', 'semler scientific', 'vestar', 'biosante pharmaceuticalsold', 'victhom human bionics', 'drugmax incold', 'avagenesis', 'mediwound', 'ibex', 'provalis plc', 'cardiac pathways', 'vasogen', 'ribx redh', 'biohorizons redh', 'combichem incdel', 'rti', 'talbert med mgmt hldgs', 'optical radiation', 'leiner p nutritional prods', 'endoceutics redh', 'coulter pharmaceutical', 'medifocus', 'molecular insight pharmactls', 'emergency svcs', 'diamedica', 'medgroup', 'a d a m', 'phoenix life', 'wannigan capital', 'mapi redh', 'china kanghui adr', 'endo plc', 'ikang group adr', 'transition therapeutics', 'apellis pharmaceuticalsredh', 'intelligent med imaging', 'regal lifestyle communities', 'intramed labs', 'aquila biopharm', 'skinmedica redh', 'tikcro', 'covalon', 'luther prodcts', 'grupo casa saba sa cv', 'elan plc', 'seattle genetics', 'revo biologics redh', 'national mfg', 'diasonics ultrasound', 'orthalliance cl a', 'peregrine pharmaceuticls', 'rxbazaar', 'horizon plc', 'hemostemix', 'novocure', 'andrx corpconsolidated', 'symmetry surgical', 'thunder group', 'ramsayhmo', 'voyager therapeutics redh', 'facilities', 'pharmetics', 'vericel', 'great basin scientific', 'cellcor', 'reliant redh', 'select therapeutics', 'seres therapeutics', 'lectec old', 'sunrise technology', 'robertson global hlth soltns', 'universal svcs', 'dr tattoff redh', 'donlar', 'medisolution', 'neoterik tech', 'hillhaven corpnv', 'medalliance', 'brookdale living cmntys', 'tracon', 'himedics', 'orchestra therapeutics', 'cerecor', 'edap tms sa adr', 'theratech utah', 'gc aesthetics plc redh', 'cita biomedical', 'fcs labs', 'ep', 'extendicare', 'scimed life systems', 'cynapsus therapeutics', 'mackay life', 'visionease lens redh', 'eurand nv', 'bio reference labs', 'j b williams', 'national med card', 'advanced surgical', 'xbiotech', 'nivalis therapeutics', 'mela', 'applied redh', 'protocol systems', 'prosensa nv', 'curon med', 'anterios redh', 'china shenghuo pharm hldgs', 'theralase', 'lab research', 'cohesion', 'cambridge antibody tech grp', 'neos therapeutics', 'imaging dynamics', 'varicare', 'entellus', 'forest cl a', 'molecular imaging', 'sernova', 'american shared hsptl serv', 'graphics', 'avinger', 'noveko', 'vyrix pharmaceuticalsredh', 'lifebank', 'cancer treatment', 'sepragen cl a', 'marijuana', 'mc informatics', 'autogenomics redh', 'antibe therapeutics', 'meridian tech', 'substance abuse tech', 'invivo therapeutics hldgs', 'corvita', 'altheadx redh', 'magellan', 'drug research plc adr', 'neuroderm', 'tokai', 'avidyn', 'sphinx', 'theravance biopharma', 'eyegate', 'amica mature lifestyles', 'lifewatch redh', 'community care america', 's1 biopharma redh', 'nmr of america', 'celsus therapeutics plc adr', 'endeavor pharmaceut incredh', 'alcobra', 'proteinsimpleredh', 'practicexpert', 'multivir redh', 'gimbel vision', 'minrad', 'ccs holdingsredh', 'novadaq', 'ligand pharmaceutical', 'astralis', 'htg molecular diagnostics', 'amsterdam molecular therp', 'cardiogenesis corpold', 'isee3d', 'scantek', 'community care services', 'salmedix incredh', 'drug royalty corporation', 'takecare', 'armstrong', 'brainsway', 'recro', 'avitar old', 'crop genetics', 'gentium spa adr', 'tolerrx incredh', 'phoenix technology', 'progressions', 'pharmacyte biotech', 'tso3', 'trestle old', 'wuxi pharmatech caymanadr', 'abattis bioceuticals', 'rehabclinics', 'globesat', 'invitron', 'theratechnologies', 'birner dental mgmt svcs', 'nutech biomed', 'bluestar', 'imarx therapeutics incold', 'novacept incredh', 'voyager pharmaceutical redh', 'biogen incold', 'epigen', 'protherics plc', 'extend redh', 'tenax therapeutics', 'urigen redh', 'apbiotech', 'ekso bionics', 'harbor diversified', 'galapagos nv', 'ritter', 'amarantus bioscience hldgs', 'edge therapeutics', 'amer electronics', 'knight therapeutics', 'cti biopharma', 'st francis techredh', 'harvard apparatus regn tech', 'aventis sa', 'lxn', 'zonare systemsredh', 'new amer', 'apple orthodontix cl a', 'ikaria incredh', 'genetic', 'imaging assoc', 'imreg cl a', 'staodyn', 'med biogene', 'medenta corporation', 'alma lasers ltdredh', 'gambro ab adr old', 'medite cancer diagnostics', 'sound surgical tech incredh', 'genelabs', 'alder', 'huifeng biopharm technology', 'galen care', 'trega biosciences', 'cetus', 'hypertension diagnostics', 'contrafect', 'progen', 'manager corpold', 'paratek pharmaceutcls', 'collagenex pharmaceutcls', 'biomedical dynamics', 'disease detection', 'revive therapeutics', 'acambis plc', 'natera', 'microtek med', 'physicians clinical lab', 'nycomed asa', 'organigram', 'systemix', 'allergan plc', 'nuvo research', 'ambulatory care', 'cangene', 'synergen', 'gelesis redh', 'vertical solutns old', 'professional dental tech', 'metropolitan hlth ntwrks', 'macrochem corpde', 'cell robotics', 'sparta surgical', 'tecnol products', 'charles river labs', 'heartstream', 'in home', 'cellectis sa', 'biochemical ind', 'sound solutions', 'annidis', 'novacon', 'genzyme molecular oncology', 'affymax nv', 'iquniverse', 'diagnostics', 'symbollon cl a', 'renal treatment ctrs', 'bioplasty', 'neurex', 'fusion med', 'curaflex services', 'ren corpusa', 'zenox', 'phoenix shannon plc adr', 'statsure diagnostic systems', 'valeant old', 'american caresource hldgs', 'darox', 'ages services', 'mylan nv', 'quintiles transnational hldg', 'attention', 'immulogic pharmaceutical cp', 'allelix biopharmaceutical', 'nova pharmaceutical', 'aquamatrix', 'mevion systems redh', 'brendan', 'enumeral biomedical hldgs', 'nantkwest', 'merck copro forma', 'nventa', 'parnell pharmaceutical hldgs', 'huntingdon life science plc', 'blueprint medicines', 'verex', 'healthwatch', 'gynex', 'draxis', 'sullivan dental products', 'roche ag', 'medicor', 'itrax', 'evotec ag', 'transgene', 'guilford pharmaceutical', 'art advanced research tech', 'iflow', 'oratec interventions', 'american technol', 'nighthawk radiology hldgs', 'astrazeneca plc', 'paladin labs', 'osmetech plc', 'pharmaxis', 'warner chilcott plc adrold', 'amer mgmt', 'opticon', 'miracor diagnostics', 'longport', 'clinichem development', 'henley group incdel', 'somatix therapy', 'cydex pharmaceuticalsredh', 'qlt', 'aeterna zentaris', 'vivigen', 'harvard scientific', 'idexx labs', 'advanced biohealing redh', 'tvax biomedical redh', 'clarus therapeutics redh', 'vaso active', 'amer biogenetic sci cl a', 'celldex therapeutics incold', 'heart technology', 'smile brands group incredh', 'skilled grp old', 'visx incde', 'staffng ntwrk hldgs', 'wellcare mgmt group', 'aptalis redh', 'immune therapeutics', 'ctt pharmaceutical hldgs', 'diomed', 'compugen', 'oncolytics biotech', 'first choice slt', 'maclos capital', 'cellular products', 'bioqual', 'bayer ag', 'service cda', 'eisai', 'sancilio pharmaceuticlsredh', 'laboratorio chile sa', 'northstar svcs', 'dental med diagnostic', 'mettrum', 'abbey group', 'medicure', 'genzyme surgical products', 'concord group', 'novacardia redh', 'abano group', 'salient surgical techredh', 'biozone pharmaceuticls old', 'instrumentation lab adr', 'alpha beta technology', 'medchem products', 'american biodyne', 'immunicon corpde', 'seracare', 'cardiac control systems', 'dialysis of americaold', 'neothetics', 'baxalta', 'bindley western inds', 'lunar corporation', 'fresenius usa', 'zars incredh', 'benitec biopharma', 'pfenex', 'pet practice', 'diagnostek', 'biosyent', 'bio lab naturals', 'sienna senior living', 'hemacare', 'hybrid energy', 'hologic incpro forma', 'summa rx', 'integrated finl systemsredh', 'aps', 'xechem', 'athena neurosciences', 'chiasma', 'arbutus biopharma', 'biotrove incredh', 'synx', 'therapeutic disc cl a', 'empi incredh', 'toxin alert', 'americhoice redh', 'fitness', 'namic usa', 'aprogenex', 'genset sa', 'immunovaccine', 'stem genetics incredh', 'sequester', 'zynerba', 'nps allelix', 'diplomat pharmacy', 'adv neuromodulation', 'park meditech', 'worldwide biotech', 'evolent', 'emergisoft', 'aderis', 'mountain equipment', 'verisante technology', 'pediapharm', 'dimension therapeutics redh', 'sonomax', 'bioxel', 'innexus biotechnology', 'american systms hlds', 'clinical homecare', 'labopharm', 'qk', 'digipath', 'cutanea life sciencesredh', 'phc incma cl a', 'biondvax', 'leeco diagnostics', 'neurologix', 'isotis sa', 'athersys incoh', 'kapson sr quarters', 'avesis', 'research dev', 'neuromedical technlogies', 'quantum group', 'otonomy', 'scigenics', 'zimmer biomet', 'livanova plc', 'given imaging', 'clinicorp', 'tongjitang chinese meds adr', 'chemgenex', 'enzymotec', 'crh', 'microbix biosystems', 'spine injury solutions', 'biotechne', 'united surgical prtnrs old', 'ocurest', 'american response', 'aurora spine', 'cipher', 'ophthalmic imaging', 'colucid', 'histogenics', 'epicept corpold', 'aoxing pharmaceutical', 'microlin bio redh', 'cml', 'vsm medtech', 'nanobac pharmaceutical', 'rosetta genomics', 'incstar', 'fibrogen', 'rehability', 'syndax redh', 'whiteglove', 'image guided technlgies', 'cedara software', 'gulf south med supply', 'telios', 'phibro animal cp', 'american consolidated labs', 'cannlabs', 'opticorp', 'taro pharmaceuticl inds', 'ariosa diagnostics incredh', 'predix pharm hlds redh', 'envision hldgs', 'fluoroscan imaging', 'pointclickcare redh', 'telehealthcare', 'procyte', '3sbio', 'biovex group redh', 'visionamerica', 'hca hosp cp of amer cl a', 'invitae', 'glycomed', 'mzt', 'taxus cardium pharmaceuticls', 'medisys', 'pangeo', 'genzyme tissue repair', 'bellus', 'vtv therapeutics', 'amphastar pharmaceuticls', 'pace', 'axovant', 'invitro', 'nymox pharmaceutical', 'sunstar', 'vitallabs', 'leukosite', 'medex redh', 'steadymed', 'embrex', 'control delivery system', 'kendall', 'polydex', 'medicago', 'metrovision of north america', 'wave life redh', 'seismed instruments incmn', 'omp', 'pacific care org', 'glaukos', 'solutions mgmt', 'helius', 'healthtronics surgical svcs', 'prism', 'eyeonics incredh', 'aduro biotech', 'viventia biotech', 'basic care networks incredh', 'critical outcome tech', 'u s surgical', 'greenlight communicatns', 'instent', 'phycor', 'radiation care incde', 'heart tronics', 'a l i', 'advanced mammography', 'canine genetics', 'china nuokang biopharmaadr', 'integrated surgical', 'paradigm inds', 'fortress biotech', '3dimensional pharmaceutical', 'circadian', 'signal genetics', 'pronai therapeutics', 'sensivida tech', 'drug free solution', 'halyard', 'advansource biomaterials cp', 'readicare', 'anergen', 'r2 systems', 'emeritus', 'alexza pharmactcls', 'richmond honan med pptyredh', 'implant technology', 'miravant technolgies', 'macrocure', 'tl administration', 'adaptimmune therapeutics', 'quatrx pharmactcls redh', 'adaltis', 'therapeutic tech', 'fpa mgmt', 'vascular biogenics', 'light oncologyredh', 'advanced therapeutic', 'xsirius superconduct cl a', 'raindance redh', 'agility', 'micro therapeutics', 'hemosol', 'of america', 'alpharma cl a', 'castlight', 'orthomet', 'opgen', 'endostim redh', 'vertex', 'fmi', 'coherus biosciences', 'advanced proteome therapetcs', 'zoommed', 'novo nordisk as', 'prodex incco', 'nabi biopharmaceuticalsold', 'intellipharmaceutics', 'press ganey', 'cell medx', 'carbylan therapeutics', 'arrhythmia research tech', 'sterling grp', 'oacis hldgs', 'nabriva therapeutics ag adr', 'kitov holdin', 'risk', 'aeglea biotherapeutics redh', 'prana biotechnology', 'duravest', 'gmp companies', 'calithera biosciences', 'teva', 'thallion', 'addisondavis diagnostics', 'vioquest', 'talecris biotherapeutcs hldg', 'vernalis plc', 'collegium pharmaceutical', 'zs', 'fisher paykel', 'nova biogenetics', 'cbl', 'imris', 'mastkeystone', 'pacific biosciences of calif', 'penumbra', 'shamir optical industry', 'loxo oncology', 'proxymed', 'next generation tech hldgs', 'neopharm incold', 'airguide', 'medis el', 'shangpharma adr', 'sunquest information', 'virexx', 'assembly biosciences', 'jerome group', 'phoenix laser systems', 'birman managed care', 'innova lifesciences', 'national surgery ctrs', 'rulesbased medicineredh', 'nobilis', 'aac', 'caduceus software systems cp', 'galmed', 'ansell', 'evogene', 'catabasis', 'orthosynetics', 'biopulse', 'quest biotechnology', 'mcgaw cl a', 'sirona biochem', 'renex', 'insight svcs hldg cp', 'amphastar pharmaredh old', 'cellex biosciences', 'ncs cl a', 'can fite biopharma', 'patheon nv redh', 'naturewell old', 'franklin ophthalmic instrs', 'spectral', 'integrated hldgs', 'avant immunotherapeuticsold', 'medihut', 'istat', 'century pacific finl cp old', 'gw plc', 'modern modalities cp', 'pieris', 'auris ag', 'replicel life', 'syncor corpde', 'special diversified opps', 'medivators', 'xenometrix', 'avitar', 'diversinet', 'interspec', 'adv inhalation therapysredh', 'supra', 'syncardia systems redh', 'akebia therapeutics', 'protarga incredh', 'helian group', 'calmare therapeutics', 'deprenyl animal', 'u s physical therapy', 'dermira', 'agritek', 'oxford glycosciences', 'research pharmacl svcs redh', 'orthopedic technology', 'concordia', 'kamada', 'welichem biotech', 'advanced biomedical tech', 'third wave', 'rochester', 'perseptive ii', 'chesapeake biological cl a', 'bioone', 'logibec gpe informatique lte', 'syntex', 'vca', 'kite', 'allscripts soltns', 'ascendis as adr', 'american renal assoc redh', 'china technolgs adr', 'helix hearing care of amer', 'american services cp', 'preferred homecare of amer', 'rescare', 'chemokine therapeutics', 'sevion therapeutics', 'axcan', 'medisense', 'marquest prods', 'iroko pharmaceuticalsredh', 'qiagen nv', 'xanodyne pharmaceuticlsredh', 'silenseed redh', 'forum retirement ptrs lp', 'murex tech', 'rosetta inpharmatics', 'consd care assoc', 'animal cloning sciencesold', 'numed home care', 'global blood therapeutics', 'somnus med', 'prestwick pharmaceutclredh', 'glaxosmithkline plc', 'netcare group', 'viral testing systems', 'ym biosciences', 'zymetx', 'avivagen', 'cerulean', 'redhill biopharma', 'mid atlantic svcs', 'cidara therapeutics', 'kythera biopharma', 'occupational hlth rehab', 'amsco'}\n"
     ]
    }
   ],
   "source": [
    "print(unmatched)"
   ]
  }
 ],
 "metadata": {
  "kernelspec": {
   "display_name": "Python 3",
   "language": "python",
   "name": "python3"
  },
  "language_info": {
   "codemirror_mode": {
    "name": "ipython",
    "version": 3
   },
   "file_extension": ".py",
   "mimetype": "text/x-python",
   "name": "python",
   "nbconvert_exporter": "python",
   "pygments_lexer": "ipython3",
   "version": "3.5.1"
  }
 },
 "nbformat": 4,
 "nbformat_minor": 0
}
