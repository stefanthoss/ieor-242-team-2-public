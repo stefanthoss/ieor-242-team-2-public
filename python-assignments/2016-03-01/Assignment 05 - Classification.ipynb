{
 "cells": [
  {
   "cell_type": "markdown",
   "metadata": {
    "collapsed": true
   },
   "source": [
    "# IEOR 242 Assignment 05\n",
    "Classify MDA sections"
   ]
  },
  {
   "cell_type": "code",
   "execution_count": 1,
   "metadata": {
    "collapsed": false
   },
   "outputs": [],
   "source": [
    "import nltk\n",
    "import pandas as pd\n",
    "import numpy as np\n",
    "from sklearn import cross_validation\n",
    "\n",
    "# File_Sampler.py provides a helper function to read extracted MDA sections from a directory in a Pandas dataframe.\n",
    "from File_Sampler import get_data_frame\n",
    "\n",
    "# mda_tokenization.py provides a helper function to tokenize text (includign POS tagging)\n",
    "from mda_tokenization import tokenize_text\n",
    "\n",
    "# Compute_Performance_Metrics.py provides helper functions to evaluate classifier performance\n",
    "from Compute_Performance_Metrics import compute_confusion_matrix, print_classification_report\n",
    "\n",
    "# Cross_Validate_Bayes_Classifier.py provides helper functions to do cross validation\n",
    "from Cross_Validate_Bayes_Classifier import compute_cross_validation"
   ]
  },
  {
   "cell_type": "code",
   "execution_count": 2,
   "metadata": {
    "collapsed": false
   },
   "outputs": [],
   "source": [
    "# Specify path to MDA section files\n",
    "REPORT_PATH = 'assignment-05-report-mda/*'\n",
    "\n",
    "# Specify path to manual MDA classification file\n",
    "CLASSIFICATION_FILE = 'MDA Manual Classification.csv'\n",
    "\n",
    "# Specify path to stock price MDA classification file\n",
    "STOCK_CLASSIFICATION_FILE = 'MDA Auto Classification.csv'\n",
    "\n",
    "# Maximum number of features\n",
    "MAX_FEATURE_COUNT = 500"
   ]
  },
  {
   "cell_type": "markdown",
   "metadata": {},
   "source": [
    "## Data Preparation"
   ]
  },
  {
   "cell_type": "code",
   "execution_count": 3,
   "metadata": {
    "collapsed": false
   },
   "outputs": [
    {
     "data": {
      "text/html": [
       "<div>\n",
       "<table border=\"1\" class=\"dataframe\">\n",
       "  <thead>\n",
       "    <tr style=\"text-align: right;\">\n",
       "      <th></th>\n",
       "      <th>MDNA_FILE_NAMES</th>\n",
       "      <th>MDNA_TEXT_BLOB</th>\n",
       "      <th>?Training</th>\n",
       "      <th>File Name</th>\n",
       "    </tr>\n",
       "  </thead>\n",
       "  <tbody>\n",
       "    <tr>\n",
       "      <th>63</th>\n",
       "      <td>mdna_2013_Q1_1356576_SUPERNUS PHARMACEUTICALS ...</td>\n",
       "      <td>ITEM 7.MANAGEMENT'S DISCUSSION AND ANALYSIS OF...</td>\n",
       "      <td>True</td>\n",
       "      <td>mdna_2013_Q1_1356576_SUPERNUS PHARMACEUTICALS ...</td>\n",
       "    </tr>\n",
       "    <tr>\n",
       "      <th>36</th>\n",
       "      <td>mdna_2012_Q1_911326_SYNAGEVA BIOPHARMA CORP_10...</td>\n",
       "      <td>MANAGEMENTS DISCUSSION AND ANALYSIS OF FINANC...</td>\n",
       "      <td>True</td>\n",
       "      <td>mdna_2012_Q1_911326_SYNAGEVA BIOPHARMA CORP_10...</td>\n",
       "    </tr>\n",
       "    <tr>\n",
       "      <th>54</th>\n",
       "      <td>mdna_2015_Q1_1178253_SCYNEXIS INC_10-K_2015-03-30</td>\n",
       "      <td>ITEM 7.  MANAGEMENT'S DISCUSSION AND ANALYSIS...</td>\n",
       "      <td>True</td>\n",
       "      <td>mdna_2015_Q1_1178253_SCYNEXIS INC_10-K_2015-03-30</td>\n",
       "    </tr>\n",
       "    <tr>\n",
       "      <th>62</th>\n",
       "      <td>mdna_2013_Q1_1360214_Imprimis Pharmaceuticals,...</td>\n",
       "      <td>ITEM 7. MANAGEMENTS DISCUSSION AND ANALYSIS OF...</td>\n",
       "      <td>True</td>\n",
       "      <td>mdna_2013_Q1_1360214_Imprimis Pharmaceuticals,...</td>\n",
       "    </tr>\n",
       "    <tr>\n",
       "      <th>78</th>\n",
       "      <td>mdna_2015_Q1_1157602_Vitae Pharmaceuticals, In...</td>\n",
       "      <td>Item7.MANAGEMENT'S DISCUSSION AND ANALYSIS OF ...</td>\n",
       "      <td>True</td>\n",
       "      <td>mdna_2015_Q1_1157602_Vitae Pharmaceuticals, In...</td>\n",
       "    </tr>\n",
       "  </tbody>\n",
       "</table>\n",
       "</div>"
      ],
      "text/plain": [
       "                                      MDNA_FILE_NAMES  \\\n",
       "63  mdna_2013_Q1_1356576_SUPERNUS PHARMACEUTICALS ...   \n",
       "36  mdna_2012_Q1_911326_SYNAGEVA BIOPHARMA CORP_10...   \n",
       "54  mdna_2015_Q1_1178253_SCYNEXIS INC_10-K_2015-03-30   \n",
       "62  mdna_2013_Q1_1360214_Imprimis Pharmaceuticals,...   \n",
       "78  mdna_2015_Q1_1157602_Vitae Pharmaceuticals, In...   \n",
       "\n",
       "                                       MDNA_TEXT_BLOB ?Training  \\\n",
       "63  ITEM 7.MANAGEMENT'S DISCUSSION AND ANALYSIS OF...      True   \n",
       "36   MANAGEMENTS DISCUSSION AND ANALYSIS OF FINANC...      True   \n",
       "54   ITEM 7.  MANAGEMENT'S DISCUSSION AND ANALYSIS...      True   \n",
       "62  ITEM 7. MANAGEMENTS DISCUSSION AND ANALYSIS OF...      True   \n",
       "78  Item7.MANAGEMENT'S DISCUSSION AND ANALYSIS OF ...      True   \n",
       "\n",
       "                                            File Name  \n",
       "63  mdna_2013_Q1_1356576_SUPERNUS PHARMACEUTICALS ...  \n",
       "36  mdna_2012_Q1_911326_SYNAGEVA BIOPHARMA CORP_10...  \n",
       "54  mdna_2015_Q1_1178253_SCYNEXIS INC_10-K_2015-03-30  \n",
       "62  mdna_2013_Q1_1360214_Imprimis Pharmaceuticals,...  \n",
       "78  mdna_2015_Q1_1157602_Vitae Pharmaceuticals, In...  "
      ]
     },
     "execution_count": 3,
     "metadata": {},
     "output_type": "execute_result"
    }
   ],
   "source": [
    "# Load reports\n",
    "# The MDA sections of the reports were extracted with the functions in extract_comp_name.py\n",
    "report_df = get_data_frame(REPORT_PATH, 0.75)\n",
    "report_df['File Name'] = report_df['MDNA_FILE_NAMES'].map(lambda r: r.split('/')[-1])\n",
    "report_df.head()"
   ]
  },
  {
   "cell_type": "code",
   "execution_count": 4,
   "metadata": {
    "collapsed": false
   },
   "outputs": [
    {
     "data": {
      "text/html": [
       "<div>\n",
       "<table border=\"1\" class=\"dataframe\">\n",
       "  <thead>\n",
       "    <tr style=\"text-align: right;\">\n",
       "      <th></th>\n",
       "      <th>Filing Date</th>\n",
       "      <th>Ticker Symbol</th>\n",
       "      <th>File Name</th>\n",
       "      <th>Reviewer</th>\n",
       "      <th>Review</th>\n",
       "    </tr>\n",
       "  </thead>\n",
       "  <tbody>\n",
       "    <tr>\n",
       "      <th>0</th>\n",
       "      <td>2014-03-28</td>\n",
       "      <td>RCAR</td>\n",
       "      <td>mdna_2014_Q1_1016708_RenovaCare, Inc._10-K_201...</td>\n",
       "      <td>Stefan</td>\n",
       "      <td>neg</td>\n",
       "    </tr>\n",
       "    <tr>\n",
       "      <th>1</th>\n",
       "      <td>2014-03-07</td>\n",
       "      <td>AXDX</td>\n",
       "      <td>mdna_2014_Q1_727207_Accelerate Diagnostics, In...</td>\n",
       "      <td>Stefan</td>\n",
       "      <td>neg</td>\n",
       "    </tr>\n",
       "    <tr>\n",
       "      <th>2</th>\n",
       "      <td>2014-03-31</td>\n",
       "      <td>AMDA</td>\n",
       "      <td>mdna_2014_Q1_1269026_AMEDICA Corp_10-K_2014-03-31</td>\n",
       "      <td>Stefan</td>\n",
       "      <td>pos</td>\n",
       "    </tr>\n",
       "    <tr>\n",
       "      <th>3</th>\n",
       "      <td>2014-03-10</td>\n",
       "      <td>RTIX</td>\n",
       "      <td>mdna_2014_Q1_1100441_RTI SURGICAL, INC._10-K_2...</td>\n",
       "      <td>Stefan</td>\n",
       "      <td>neg</td>\n",
       "    </tr>\n",
       "    <tr>\n",
       "      <th>4</th>\n",
       "      <td>2014-03-20</td>\n",
       "      <td>AMBI</td>\n",
       "      <td>mdna_2014_Q1_1131543_AMBIT BIOSCIENCES CORP_10...</td>\n",
       "      <td>Stefan</td>\n",
       "      <td>pos</td>\n",
       "    </tr>\n",
       "  </tbody>\n",
       "</table>\n",
       "</div>"
      ],
      "text/plain": [
       "  Filing Date Ticker Symbol  \\\n",
       "0  2014-03-28          RCAR   \n",
       "1  2014-03-07          AXDX   \n",
       "2  2014-03-31          AMDA   \n",
       "3  2014-03-10          RTIX   \n",
       "4  2014-03-20          AMBI   \n",
       "\n",
       "                                           File Name Reviewer Review  \n",
       "0  mdna_2014_Q1_1016708_RenovaCare, Inc._10-K_201...   Stefan    neg  \n",
       "1  mdna_2014_Q1_727207_Accelerate Diagnostics, In...   Stefan    neg  \n",
       "2  mdna_2014_Q1_1269026_AMEDICA Corp_10-K_2014-03-31   Stefan    pos  \n",
       "3  mdna_2014_Q1_1100441_RTI SURGICAL, INC._10-K_2...   Stefan    neg  \n",
       "4  mdna_2014_Q1_1131543_AMBIT BIOSCIENCES CORP_10...   Stefan    pos  "
      ]
     },
     "execution_count": 4,
     "metadata": {},
     "output_type": "execute_result"
    }
   ],
   "source": [
    "# Load file with manual classifications\n",
    "class_df = pd.read_csv(CLASSIFICATION_FILE)\n",
    "class_df.head()"
   ]
  },
  {
   "cell_type": "code",
   "execution_count": 5,
   "metadata": {
    "collapsed": false
   },
   "outputs": [
    {
     "name": "stdout",
     "output_type": "stream",
     "text": [
      "Total number of reports: 65\n"
     ]
    },
    {
     "data": {
      "text/html": [
       "<div>\n",
       "<table border=\"1\" class=\"dataframe\">\n",
       "  <thead>\n",
       "    <tr style=\"text-align: right;\">\n",
       "      <th></th>\n",
       "      <th>MDNA_FILE_NAMES</th>\n",
       "      <th>MDNA_TEXT_BLOB</th>\n",
       "      <th>?Training</th>\n",
       "      <th>File Name</th>\n",
       "      <th>Filing Date</th>\n",
       "      <th>Ticker Symbol</th>\n",
       "      <th>Reviewer</th>\n",
       "      <th>Review</th>\n",
       "    </tr>\n",
       "  </thead>\n",
       "  <tbody>\n",
       "    <tr>\n",
       "      <th>0</th>\n",
       "      <td>mdna_2013_Q1_1356576_SUPERNUS PHARMACEUTICALS ...</td>\n",
       "      <td>ITEM 7.MANAGEMENT'S DISCUSSION AND ANALYSIS OF...</td>\n",
       "      <td>True</td>\n",
       "      <td>mdna_2013_Q1_1356576_SUPERNUS PHARMACEUTICALS ...</td>\n",
       "      <td>2013-03-15</td>\n",
       "      <td>SUPN</td>\n",
       "      <td>Ted</td>\n",
       "      <td>pos</td>\n",
       "    </tr>\n",
       "    <tr>\n",
       "      <th>1</th>\n",
       "      <td>mdna_2012_Q1_911326_SYNAGEVA BIOPHARMA CORP_10...</td>\n",
       "      <td>MANAGEMENTS DISCUSSION AND ANALYSIS OF FINANC...</td>\n",
       "      <td>True</td>\n",
       "      <td>mdna_2012_Q1_911326_SYNAGEVA BIOPHARMA CORP_10...</td>\n",
       "      <td>NaN</td>\n",
       "      <td>NaN</td>\n",
       "      <td>Lakshmi</td>\n",
       "      <td>neg</td>\n",
       "    </tr>\n",
       "    <tr>\n",
       "      <th>2</th>\n",
       "      <td>mdna_2015_Q1_1178253_SCYNEXIS INC_10-K_2015-03-30</td>\n",
       "      <td>ITEM 7.  MANAGEMENT'S DISCUSSION AND ANALYSIS...</td>\n",
       "      <td>True</td>\n",
       "      <td>mdna_2015_Q1_1178253_SCYNEXIS INC_10-K_2015-03-30</td>\n",
       "      <td>2015-03-30</td>\n",
       "      <td>SCYX</td>\n",
       "      <td>Yvonne</td>\n",
       "      <td>neg</td>\n",
       "    </tr>\n",
       "    <tr>\n",
       "      <th>3</th>\n",
       "      <td>mdna_2013_Q1_1360214_Imprimis Pharmaceuticals,...</td>\n",
       "      <td>ITEM 7. MANAGEMENTS DISCUSSION AND ANALYSIS OF...</td>\n",
       "      <td>True</td>\n",
       "      <td>mdna_2013_Q1_1360214_Imprimis Pharmaceuticals,...</td>\n",
       "      <td>2013-03-18</td>\n",
       "      <td>IMMY</td>\n",
       "      <td>Ted</td>\n",
       "      <td>neg</td>\n",
       "    </tr>\n",
       "    <tr>\n",
       "      <th>4</th>\n",
       "      <td>mdna_2015_Q1_1157602_Vitae Pharmaceuticals, In...</td>\n",
       "      <td>Item7.MANAGEMENT'S DISCUSSION AND ANALYSIS OF ...</td>\n",
       "      <td>True</td>\n",
       "      <td>mdna_2015_Q1_1157602_Vitae Pharmaceuticals, In...</td>\n",
       "      <td>2015-03-31</td>\n",
       "      <td>VTAE</td>\n",
       "      <td>Yvonne</td>\n",
       "      <td>neg</td>\n",
       "    </tr>\n",
       "  </tbody>\n",
       "</table>\n",
       "</div>"
      ],
      "text/plain": [
       "                                     MDNA_FILE_NAMES  \\\n",
       "0  mdna_2013_Q1_1356576_SUPERNUS PHARMACEUTICALS ...   \n",
       "1  mdna_2012_Q1_911326_SYNAGEVA BIOPHARMA CORP_10...   \n",
       "2  mdna_2015_Q1_1178253_SCYNEXIS INC_10-K_2015-03-30   \n",
       "3  mdna_2013_Q1_1360214_Imprimis Pharmaceuticals,...   \n",
       "4  mdna_2015_Q1_1157602_Vitae Pharmaceuticals, In...   \n",
       "\n",
       "                                      MDNA_TEXT_BLOB ?Training  \\\n",
       "0  ITEM 7.MANAGEMENT'S DISCUSSION AND ANALYSIS OF...      True   \n",
       "1   MANAGEMENTS DISCUSSION AND ANALYSIS OF FINANC...      True   \n",
       "2   ITEM 7.  MANAGEMENT'S DISCUSSION AND ANALYSIS...      True   \n",
       "3  ITEM 7. MANAGEMENTS DISCUSSION AND ANALYSIS OF...      True   \n",
       "4  Item7.MANAGEMENT'S DISCUSSION AND ANALYSIS OF ...      True   \n",
       "\n",
       "                                           File Name Filing Date  \\\n",
       "0  mdna_2013_Q1_1356576_SUPERNUS PHARMACEUTICALS ...  2013-03-15   \n",
       "1  mdna_2012_Q1_911326_SYNAGEVA BIOPHARMA CORP_10...         NaN   \n",
       "2  mdna_2015_Q1_1178253_SCYNEXIS INC_10-K_2015-03-30  2015-03-30   \n",
       "3  mdna_2013_Q1_1360214_Imprimis Pharmaceuticals,...  2013-03-18   \n",
       "4  mdna_2015_Q1_1157602_Vitae Pharmaceuticals, In...  2015-03-31   \n",
       "\n",
       "  Ticker Symbol Reviewer Review  \n",
       "0          SUPN      Ted    pos  \n",
       "1           NaN  Lakshmi    neg  \n",
       "2          SCYX   Yvonne    neg  \n",
       "3          IMMY      Ted    neg  \n",
       "4          VTAE   Yvonne    neg  "
      ]
     },
     "execution_count": 5,
     "metadata": {},
     "output_type": "execute_result"
    }
   ],
   "source": [
    "# Merge both dataframes\n",
    "df = pd.merge(report_df, class_df, how='inner', on='File Name')\n",
    "print('Total number of reports:', len(df))\n",
    "df.head()"
   ]
  },
  {
   "cell_type": "code",
   "execution_count": 6,
   "metadata": {
    "collapsed": false
   },
   "outputs": [
    {
     "name": "stdout",
     "output_type": "stream",
     "text": [
      "Training set size: 51\n",
      "Test set size: 14\n"
     ]
    }
   ],
   "source": [
    "# Split reports in training and test set\n",
    "train_set = df.loc[df['?Training'] == True]\n",
    "print('Training set size:', len(train_set))\n",
    "test_set = df.loc[df['?Training'] == False]\n",
    "print('Test set size:', len(test_set))"
   ]
  },
  {
   "cell_type": "markdown",
   "metadata": {},
   "source": [
    "## Build Classifier"
   ]
  },
  {
   "cell_type": "code",
   "execution_count": 7,
   "metadata": {
    "collapsed": false
   },
   "outputs": [],
   "source": [
    "# Build the feature list based on the training set\n",
    "train_set_tokens = []\n",
    "for index, row in train_set.iterrows():\n",
    "    tokens = tokenize_text(row['MDNA_TEXT_BLOB'], nouns=True)\n",
    "    train_set_tokens.extend(tokens)"
   ]
  },
  {
   "cell_type": "code",
   "execution_count": 8,
   "metadata": {
    "collapsed": false
   },
   "outputs": [
    {
     "name": "stdout",
     "output_type": "stream",
     "text": [
      "Training set number of tokens:  114341\n",
      "Training set number of unique tokens:  4438\n",
      "Features used:  500\n"
     ]
    }
   ],
   "source": [
    "# Calculate frequency distribution for all tokens\n",
    "all_tokens = nltk.FreqDist(train_set_tokens)\n",
    "print('Training set number of tokens: ', all_tokens.N())\n",
    "print('Training set number of unique tokens: ', all_tokens.B())\n",
    "print('Features used: ', MAX_FEATURE_COUNT)"
   ]
  },
  {
   "cell_type": "code",
   "execution_count": 9,
   "metadata": {
    "collapsed": false
   },
   "outputs": [],
   "source": [
    "# Function to calculate features for a given text\n",
    "def calc_features(text):\n",
    "    text_tokens = text.split()\n",
    "    features = {}\n",
    "    for token, count in all_tokens.most_common(MAX_FEATURE_COUNT):\n",
    "        features[token] = (token in text_tokens)\n",
    "    return features"
   ]
  },
  {
   "cell_type": "code",
   "execution_count": 10,
   "metadata": {
    "collapsed": false
   },
   "outputs": [
    {
     "data": {
      "text/plain": [
       "0    ({'discount': True, 'evidence': True, 'content...\n",
       "1    ({'discount': False, 'evidence': True, 'conten...\n",
       "2    ({'discount': True, 'evidence': True, 'content...\n",
       "3    ({'discount': False, 'evidence': False, 'conte...\n",
       "4    ({'discount': False, 'evidence': True, 'conten...\n",
       "dtype: object"
      ]
     },
     "execution_count": 10,
     "metadata": {},
     "output_type": "execute_result"
    }
   ],
   "source": [
    "# Build features for training set\n",
    "feature_train_set = train_set.apply(lambda r: (calc_features(r['MDNA_TEXT_BLOB']), r['Review']), axis=1)\n",
    "feature_train_set.head()"
   ]
  },
  {
   "cell_type": "code",
   "execution_count": 11,
   "metadata": {
    "collapsed": false
   },
   "outputs": [
    {
     "data": {
      "text/plain": [
       "51    ({'discount': False, 'evidence': False, 'conte...\n",
       "52    ({'discount': True, 'evidence': True, 'content...\n",
       "53    ({'discount': False, 'evidence': False, 'conte...\n",
       "54    ({'discount': False, 'evidence': True, 'conten...\n",
       "55    ({'discount': True, 'evidence': True, 'content...\n",
       "dtype: object"
      ]
     },
     "execution_count": 11,
     "metadata": {},
     "output_type": "execute_result"
    }
   ],
   "source": [
    "# Build features for test set\n",
    "feature_test_set = test_set.apply(lambda r: (calc_features(r['MDNA_TEXT_BLOB']), r['Review']), axis=1)\n",
    "feature_test_set.head()"
   ]
  },
  {
   "cell_type": "code",
   "execution_count": 12,
   "metadata": {
    "collapsed": false
   },
   "outputs": [
    {
     "name": "stdout",
     "output_type": "stream",
     "text": [
      "Most Informative Features\n",
      "                   rates = False             neg : pos    =      3.9 : 1.0\n",
      "                    risk = False             neg : pos    =      3.6 : 1.0\n",
      "         pharmaceuticals = True              pos : neg    =      3.5 : 1.0\n",
      "                  states = True              pos : neg    =      3.5 : 1.0\n",
      "                    size = True              pos : neg    =      3.5 : 1.0\n",
      "                 pricing = False             neg : pos    =      3.3 : 1.0\n",
      "                   trade = True              pos : neg    =      3.3 : 1.0\n",
      "             corporation = True              neg : pos    =      3.0 : 1.0\n",
      "                revenues = False             pos : neg    =      3.0 : 1.0\n",
      "               agreement = False             pos : neg    =      3.0 : 1.0\n"
     ]
    }
   ],
   "source": [
    "# Train Naive Bayes Classifier\n",
    "classifier = nltk.NaiveBayesClassifier.train(feature_train_set)\n",
    "classifier.show_most_informative_features()"
   ]
  },
  {
   "cell_type": "markdown",
   "metadata": {},
   "source": [
    "## Performance Evaluation Test Set"
   ]
  },
  {
   "cell_type": "code",
   "execution_count": 13,
   "metadata": {
    "collapsed": false
   },
   "outputs": [
    {
     "name": "stdout",
     "output_type": "stream",
     "text": [
      "Test set actual: [ True  True False False  True  True  True False False  True False  True\n",
      " False False]\n",
      "Test set predicted: [ True  True False False  True  True  True False False  True False  True\n",
      " False False]\n"
     ]
    }
   ],
   "source": [
    "# Evaluate the classifier with the test set\n",
    "test_eval_actual = np.array(feature_test_set.map(lambda r: r[1]) == 'pos')\n",
    "print('Test set actual:', test_eval_actual)\n",
    "test_eval_predicted = np.array(feature_test_set.map(lambda r: classifier.classify(r[0]) == 'pos'))\n",
    "print('Test set predicted:', test_eval_actual)"
   ]
  },
  {
   "cell_type": "code",
   "execution_count": 14,
   "metadata": {
    "collapsed": false
   },
   "outputs": [
    {
     "name": "stdout",
     "output_type": "stream",
     "text": [
      "Confusion Matrix \n",
      "\n",
      "*Rows represent Actuals and Columns represent Predicted \n",
      "\n",
      "True Positive    False Negative \n",
      "\n",
      "False Positive   True Negative \n",
      "\n",
      "[[6 1]\n",
      " [2 5]]\n"
     ]
    }
   ],
   "source": [
    "# Print confusion matrix\n",
    "compute_confusion_matrix(test_eval_actual, test_eval_predicted)"
   ]
  },
  {
   "cell_type": "code",
   "execution_count": 15,
   "metadata": {
    "collapsed": false
   },
   "outputs": [
    {
     "name": "stdout",
     "output_type": "stream",
     "text": [
      "\n",
      "Out of Sample Accuracy: 0.785714285714\n",
      "\n",
      "     Classification Report \n",
      "\n",
      "             precision    recall  f1-score   support\n",
      "\n",
      "      False       0.75      0.86      0.80         7\n",
      "       True       0.83      0.71      0.77         7\n",
      "\n",
      "avg / total       0.79      0.79      0.78        14\n",
      "\n",
      "\n",
      "\n"
     ]
    }
   ],
   "source": [
    "# Print classification report\n",
    "print_classification_report(test_eval_actual, test_eval_predicted)"
   ]
  },
  {
   "cell_type": "markdown",
   "metadata": {},
   "source": [
    "### Results\n",
    "Number of reports: 65 (51 training, 14 test)\n",
    "\n",
    "File_Sampler.py seed value: 1234\n",
    "\n",
    "Word Class / Training Tokens / Training Unique Tokens / Features / Test Accuracy\n",
    "\n",
    "nouns / 114343 / 4438 / 100 / 0.786\n",
    "\n",
    "nouns / 114343 / 4438 / 500 / 0.786\n",
    "\n",
    "nouns / 114343 / 4438 / 1000 / 0.714\n",
    "\n",
    "nouns / 114343 / 4438 / 2500 / 0.571\n",
    "\n",
    "adj / 38906 / 2654 / 100 / 0.5\n",
    "\n",
    "adj / 38906 / 2654 / 500 / 0.571\n",
    "\n",
    "adj / 38906 / 2654 / 1000 / 0.571\n",
    "\n",
    "adj / 38906 / 2654 / 2500 / 0.571\n",
    "\n",
    "verbs / 40569 / 2942 / 100 / 0.643\n",
    "\n",
    "verbs / 40569 / 2942 / 500 / 0.714\n",
    "\n",
    "verbs / 40569 / 2942 / 1000 / 0.714\n",
    "\n",
    "verbs / 40569 / 2942 / 2500 / 0.5\n",
    "\n",
    "other / 246342 / 8904 / 100 / 0.643\n",
    "\n",
    "other / 246342 / 8904 / 1000 / 0.714\n",
    "\n",
    "other / 246342 / 8904 / 2500 / 0.643\n",
    "\n",
    "all / 246342 / 8904 / 100 / 0.643\n",
    "\n",
    "all / 246342 / 8904 / 1000 / 0.714\n",
    "\n",
    "all / 246342 / 8904 / 2500 / 0.642"
   ]
  },
  {
   "cell_type": "markdown",
   "metadata": {},
   "source": [
    "### Best Classifier\n",
    "The highest out of sample accuracy (0.785714285714) was achived by using only the 1000 most common nouns as features.\n",
    "\n",
    "The confusion matrix is [[6, 1], [2, 5]], the precision is 0.79, the recall is 0.79, and the F1 score is 0.78.\n",
    "\n",
    "The 5 most informative features of this classifier are:\n",
    "\n",
    "rates = False (neg : pos = 3.9 : 1.0)\n",
    "\n",
    "risk = False (neg : pos = 3.6 : 1.0)\n",
    "\n",
    "pharmaceuticals = True (pos : neg = 3.5 : 1.0)\n",
    "\n",
    "size = True (pos : neg = 3.5 : 1.0)\n",
    "\n",
    "states = True (pos : neg = 3.5 : 1.0)"
   ]
  },
  {
   "cell_type": "markdown",
   "metadata": {},
   "source": [
    "## Performance Evaluation Stock Price Data Set"
   ]
  },
  {
   "cell_type": "code",
   "execution_count": 16,
   "metadata": {
    "collapsed": false
   },
   "outputs": [
    {
     "data": {
      "text/html": [
       "<div>\n",
       "<table border=\"1\" class=\"dataframe\">\n",
       "  <thead>\n",
       "    <tr style=\"text-align: right;\">\n",
       "      <th></th>\n",
       "      <th>File Name</th>\n",
       "      <th>Review</th>\n",
       "    </tr>\n",
       "  </thead>\n",
       "  <tbody>\n",
       "    <tr>\n",
       "      <th>0</th>\n",
       "      <td>2011_Q1_1017491_APRICUS BIOSCIENCES, INC._10-K...</td>\n",
       "      <td>pos</td>\n",
       "    </tr>\n",
       "    <tr>\n",
       "      <th>1</th>\n",
       "      <td>2011_Q1_1024126_PERNIX THERAPEUTICS HOLDINGS, ...</td>\n",
       "      <td>neg</td>\n",
       "    </tr>\n",
       "    <tr>\n",
       "      <th>2</th>\n",
       "      <td>2011_Q1_1030916_PREMIER HOLDING CORP._10-K_201...</td>\n",
       "      <td>neg</td>\n",
       "    </tr>\n",
       "    <tr>\n",
       "      <th>3</th>\n",
       "      <td>2011_Q1_1055726_INOVIO PHARMACEUTICALS, INC._1...</td>\n",
       "      <td>neg</td>\n",
       "    </tr>\n",
       "    <tr>\n",
       "      <th>4</th>\n",
       "      <td>2011_Q1_1096738_EPOCRATES INC_10-K_2011-03-31</td>\n",
       "      <td>neg</td>\n",
       "    </tr>\n",
       "  </tbody>\n",
       "</table>\n",
       "</div>"
      ],
      "text/plain": [
       "                                           File Name Review\n",
       "0  2011_Q1_1017491_APRICUS BIOSCIENCES, INC._10-K...    pos\n",
       "1  2011_Q1_1024126_PERNIX THERAPEUTICS HOLDINGS, ...    neg\n",
       "2  2011_Q1_1030916_PREMIER HOLDING CORP._10-K_201...    neg\n",
       "3  2011_Q1_1055726_INOVIO PHARMACEUTICALS, INC._1...    neg\n",
       "4      2011_Q1_1096738_EPOCRATES INC_10-K_2011-03-31    neg"
      ]
     },
     "execution_count": 16,
     "metadata": {},
     "output_type": "execute_result"
    }
   ],
   "source": [
    "# Load file with classifications based on stock prices\n",
    "# Generated with the functions in get_mdna_sentiment.py\n",
    "stock_class_df = pd.read_csv(STOCK_CLASSIFICATION_FILE)\n",
    "stock_class_df.head()"
   ]
  },
  {
   "cell_type": "code",
   "execution_count": 17,
   "metadata": {
    "collapsed": false
   },
   "outputs": [
    {
     "name": "stdout",
     "output_type": "stream",
     "text": [
      "Total number of reports: 86\n"
     ]
    },
    {
     "data": {
      "text/html": [
       "<div>\n",
       "<table border=\"1\" class=\"dataframe\">\n",
       "  <thead>\n",
       "    <tr style=\"text-align: right;\">\n",
       "      <th></th>\n",
       "      <th>MDNA_FILE_NAMES</th>\n",
       "      <th>MDNA_TEXT_BLOB</th>\n",
       "      <th>?Training</th>\n",
       "      <th>File Name</th>\n",
       "      <th>Review</th>\n",
       "    </tr>\n",
       "  </thead>\n",
       "  <tbody>\n",
       "    <tr>\n",
       "      <th>0</th>\n",
       "      <td>mdna_2013_Q1_1356576_SUPERNUS PHARMACEUTICALS ...</td>\n",
       "      <td>ITEM 7.MANAGEMENT'S DISCUSSION AND ANALYSIS OF...</td>\n",
       "      <td>True</td>\n",
       "      <td>2013_Q1_1356576_SUPERNUS PHARMACEUTICALS INC_1...</td>\n",
       "      <td>pos</td>\n",
       "    </tr>\n",
       "    <tr>\n",
       "      <th>1</th>\n",
       "      <td>mdna_2012_Q1_911326_SYNAGEVA BIOPHARMA CORP_10...</td>\n",
       "      <td>MANAGEMENTS DISCUSSION AND ANALYSIS OF FINANC...</td>\n",
       "      <td>True</td>\n",
       "      <td>2012_Q1_911326_SYNAGEVA BIOPHARMA CORP_10-K_20...</td>\n",
       "      <td>neg</td>\n",
       "    </tr>\n",
       "    <tr>\n",
       "      <th>2</th>\n",
       "      <td>mdna_2015_Q1_1178253_SCYNEXIS INC_10-K_2015-03-30</td>\n",
       "      <td>ITEM 7.  MANAGEMENT'S DISCUSSION AND ANALYSIS...</td>\n",
       "      <td>True</td>\n",
       "      <td>2015_Q1_1178253_SCYNEXIS INC_10-K_2015-03-30</td>\n",
       "      <td>pos</td>\n",
       "    </tr>\n",
       "    <tr>\n",
       "      <th>3</th>\n",
       "      <td>mdna_2013_Q1_1360214_Imprimis Pharmaceuticals,...</td>\n",
       "      <td>ITEM 7. MANAGEMENTS DISCUSSION AND ANALYSIS OF...</td>\n",
       "      <td>True</td>\n",
       "      <td>2013_Q1_1360214_Imprimis Pharmaceuticals, Inc....</td>\n",
       "      <td>neg</td>\n",
       "    </tr>\n",
       "    <tr>\n",
       "      <th>4</th>\n",
       "      <td>mdna_2015_Q1_1157602_Vitae Pharmaceuticals, In...</td>\n",
       "      <td>Item7.MANAGEMENT'S DISCUSSION AND ANALYSIS OF ...</td>\n",
       "      <td>True</td>\n",
       "      <td>2015_Q1_1157602_Vitae Pharmaceuticals, Inc_10-...</td>\n",
       "      <td>neg</td>\n",
       "    </tr>\n",
       "  </tbody>\n",
       "</table>\n",
       "</div>"
      ],
      "text/plain": [
       "                                     MDNA_FILE_NAMES  \\\n",
       "0  mdna_2013_Q1_1356576_SUPERNUS PHARMACEUTICALS ...   \n",
       "1  mdna_2012_Q1_911326_SYNAGEVA BIOPHARMA CORP_10...   \n",
       "2  mdna_2015_Q1_1178253_SCYNEXIS INC_10-K_2015-03-30   \n",
       "3  mdna_2013_Q1_1360214_Imprimis Pharmaceuticals,...   \n",
       "4  mdna_2015_Q1_1157602_Vitae Pharmaceuticals, In...   \n",
       "\n",
       "                                      MDNA_TEXT_BLOB ?Training  \\\n",
       "0  ITEM 7.MANAGEMENT'S DISCUSSION AND ANALYSIS OF...      True   \n",
       "1   MANAGEMENTS DISCUSSION AND ANALYSIS OF FINANC...      True   \n",
       "2   ITEM 7.  MANAGEMENT'S DISCUSSION AND ANALYSIS...      True   \n",
       "3  ITEM 7. MANAGEMENTS DISCUSSION AND ANALYSIS OF...      True   \n",
       "4  Item7.MANAGEMENT'S DISCUSSION AND ANALYSIS OF ...      True   \n",
       "\n",
       "                                           File Name Review  \n",
       "0  2013_Q1_1356576_SUPERNUS PHARMACEUTICALS INC_1...    pos  \n",
       "1  2012_Q1_911326_SYNAGEVA BIOPHARMA CORP_10-K_20...    neg  \n",
       "2       2015_Q1_1178253_SCYNEXIS INC_10-K_2015-03-30    pos  \n",
       "3  2013_Q1_1360214_Imprimis Pharmaceuticals, Inc....    neg  \n",
       "4  2015_Q1_1157602_Vitae Pharmaceuticals, Inc_10-...    neg  "
      ]
     },
     "execution_count": 17,
     "metadata": {},
     "output_type": "execute_result"
    }
   ],
   "source": [
    "# Merge both report dataframe with new classification dataframe\n",
    "report_df['File Name'] = report_df['File Name'].map(lambda r: r.replace('mdna_', ''))\n",
    "df2 = pd.merge(report_df, stock_class_df, how='inner', on='File Name')\n",
    "print('Total number of reports:', len(df2))\n",
    "df2.head()"
   ]
  },
  {
   "cell_type": "code",
   "execution_count": 18,
   "metadata": {
    "collapsed": false
   },
   "outputs": [
    {
     "data": {
      "text/plain": [
       "0    ({'discount': True, 'evidence': True, 'content...\n",
       "1    ({'discount': False, 'evidence': True, 'conten...\n",
       "2    ({'discount': True, 'evidence': True, 'content...\n",
       "3    ({'discount': False, 'evidence': False, 'conte...\n",
       "4    ({'discount': False, 'evidence': True, 'conten...\n",
       "dtype: object"
      ]
     },
     "execution_count": 18,
     "metadata": {},
     "output_type": "execute_result"
    }
   ],
   "source": [
    "# Build features for stock price data set\n",
    "stock_price_set = df2.apply(lambda r: (calc_features(r['MDNA_TEXT_BLOB']), r['Review']), axis=1)\n",
    "stock_price_set.head()"
   ]
  },
  {
   "cell_type": "code",
   "execution_count": 19,
   "metadata": {
    "collapsed": false
   },
   "outputs": [
    {
     "name": "stdout",
     "output_type": "stream",
     "text": [
      "Stock price data set actual: [ True  True False False  True  True  True False False  True False  True\n",
      " False False]\n",
      "Stock price data set predicted: [ True  True False False  True  True  True False False  True False  True\n",
      " False False]\n"
     ]
    }
   ],
   "source": [
    "# Evaluate the classifier with the test set\n",
    "stock_price_eval_actual = np.array(stock_price_set.map(lambda r: r[1]) == 'pos')\n",
    "print('Stock price data set actual:', test_eval_actual)\n",
    "stock_price_eval_predicted = np.array(stock_price_set.map(lambda r: classifier.classify(r[0]) == 'pos'))\n",
    "print('Stock price data set predicted:', test_eval_actual)"
   ]
  },
  {
   "cell_type": "code",
   "execution_count": 20,
   "metadata": {
    "collapsed": false
   },
   "outputs": [
    {
     "name": "stdout",
     "output_type": "stream",
     "text": [
      "Confusion Matrix \n",
      "\n",
      "*Rows represent Actuals and Columns represent Predicted \n",
      "\n",
      "True Positive    False Negative \n",
      "\n",
      "False Positive   True Negative \n",
      "\n",
      "[[36 28]\n",
      " [ 9 13]]\n"
     ]
    }
   ],
   "source": [
    "# Print confusion matrix\n",
    "compute_confusion_matrix(stock_price_eval_actual, stock_price_eval_predicted)"
   ]
  },
  {
   "cell_type": "code",
   "execution_count": 21,
   "metadata": {
    "collapsed": false
   },
   "outputs": [
    {
     "name": "stdout",
     "output_type": "stream",
     "text": [
      "\n",
      "Out of Sample Accuracy: 0.56976744186\n",
      "\n",
      "     Classification Report \n",
      "\n",
      "             precision    recall  f1-score   support\n",
      "\n",
      "      False       0.80      0.56      0.66        64\n",
      "       True       0.32      0.59      0.41        22\n",
      "\n",
      "avg / total       0.68      0.57      0.60        86\n",
      "\n",
      "\n",
      "\n"
     ]
    }
   ],
   "source": [
    "# Print classification report\n",
    "print_classification_report(stock_price_eval_actual, stock_price_eval_predicted)"
   ]
  },
  {
   "cell_type": "markdown",
   "metadata": {},
   "source": [
    "### Results\n",
    "Number of reports: 86\n",
    "\n",
    "The best classifier from the manual classified training set (based on the the 500 most common nouns) was used to classify the stock price data set. The accuracy of that data set is 0.56976744186.\n",
    "\n",
    "The confusion matrix is [[36, 28], [9, 13]], the precision is 0.68, the recall is 0.57, and the F1 score is 0.6."
   ]
  },
  {
   "cell_type": "markdown",
   "metadata": {
    "collapsed": true
   },
   "source": [
    "## Cross Validation\n",
    "Cross validation based on the manual classified training set. The average accuracy is 0.8439818295739349."
   ]
  },
  {
   "cell_type": "code",
   "execution_count": 22,
   "metadata": {
    "collapsed": false
   },
   "outputs": [
    {
     "name": "stdout",
     "output_type": "stream",
     "text": [
      "\n",
      " Begin Cross Validation \n",
      "\n",
      "accuracy: 0.868421052631579\n",
      "accuracy: 0.875\n",
      "accuracy: 0.8809523809523809\n",
      "accuracy: 0.875\n",
      "accuracy: 0.7857142857142857\n",
      "accuracy: 0.8666666666666667\n",
      "accuracy: 0.75\n",
      "accuracy: 0.8571428571428571\n",
      "accuracy: 0.8125\n",
      "accuracy: 0.868421052631579\n",
      "\n",
      " The average accuracy is:  0.8439818295739349\n"
     ]
    }
   ],
   "source": [
    "compute_cross_validation(feature_train_set)"
   ]
  }
 ],
 "metadata": {
  "kernelspec": {
   "display_name": "Python 3",
   "language": "python",
   "name": "python3"
  },
  "language_info": {
   "codemirror_mode": {
    "name": "ipython",
    "version": 3
   },
   "file_extension": ".py",
   "mimetype": "text/x-python",
   "name": "python",
   "nbconvert_exporter": "python",
   "pygments_lexer": "ipython3",
   "version": "3.5.1"
  }
 },
 "nbformat": 4,
 "nbformat_minor": 0
}
